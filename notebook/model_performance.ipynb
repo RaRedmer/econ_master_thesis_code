{
 "cells": [
  {
   "cell_type": "markdown",
   "metadata": {},
   "source": [
    "# Imports"
   ]
  },
  {
   "cell_type": "code",
   "execution_count": 1,
   "metadata": {
    "ExecuteTime": {
     "end_time": "2020-08-23T09:23:22.727444Z",
     "start_time": "2020-08-23T09:23:21.384447Z"
    }
   },
   "outputs": [
    {
     "name": "stderr",
     "output_type": "stream",
     "text": [
      "c:\\users\\rared\\appdata\\local\\programs\\python\\python37\\lib\\site-packages\\sklearn\\externals\\joblib\\__init__.py:15: FutureWarning: sklearn.externals.joblib is deprecated in 0.21 and will be removed in 0.23. Please import this functionality directly from joblib, which can be installed with: pip install joblib. If this warning is raised when loading pickled models, you may need to re-serialize those models with scikit-learn 0.21+.\n",
      "  warnings.warn(msg, category=FutureWarning)\n"
     ]
    }
   ],
   "source": [
    "import pandas as pd\n",
    "import numpy as np\n",
    "from datetime import datetime\n",
    "import os\n",
    "import matplotlib.pyplot as plt\n",
    "import matplotlib.ticker as ticker\n",
    "from matplotlib import cm\n",
    "import matplotlib.dates as mdates\n",
    "import pylab as plot\n",
    "\n",
    "import seaborn as sns\n",
    "import re\n",
    "from datetime import datetime\n",
    "\n",
    "from sklearn.ensemble import RandomForestClassifier, AdaBoostClassifier\n",
    "from sklearn.linear_model import LogisticRegression\n",
    "from sklearn.model_selection import PredefinedSplit\n",
    "from sklearn.model_selection import GridSearchCV\n",
    "from sklearn.metrics import plot_confusion_matrix, roc_curve, roc_auc_score, precision_recall_curve\n",
    "from sklearn.externals import joblib\n",
    "from sklearn.preprocessing import QuantileTransformer\n",
    "from sklearn.pipeline import make_pipeline\n",
    "from sklearn.pipeline import Pipeline\n",
    "\n",
    "import statsmodels.api as sm\n",
    "\n",
    "from scipy import stats"
   ]
  },
  {
   "cell_type": "code",
   "execution_count": 2,
   "metadata": {
    "ExecuteTime": {
     "end_time": "2020-08-23T09:23:22.741382Z",
     "start_time": "2020-08-23T09:23:22.737419Z"
    },
    "code_folding": []
   },
   "outputs": [],
   "source": [
    "params = {\n",
    "    'legend.fontsize': \"x-large\",\n",
    "     'figure.figsize': (15, 5),\n",
    "     'axes.labelsize': 'x-large',\n",
    "     'axes.titlesize': 20,\n",
    "     'xtick.labelsize':'x-large',\n",
    "     'ytick.labelsize':'x-large'\n",
    "}\n",
    "plot.rcParams.update(params)"
   ]
  },
  {
   "cell_type": "code",
   "execution_count": 3,
   "metadata": {
    "ExecuteTime": {
     "end_time": "2020-08-23T09:23:22.757338Z",
     "start_time": "2020-08-23T09:23:22.751357Z"
    },
    "code_folding": [
     0
    ]
   },
   "outputs": [],
   "source": [
    "def get_total_return(returns_df, costs_bps=[]):\n",
    "    costs_bps = [ x*0.0005 for x in range(0, 5) ] if not costs_bps else costs_bps\n",
    "    # get growth rate for all bps\n",
    "    for cost in costs_bps:\n",
    "        returns_df[f\"return_growth_rate_{ int( cost * 10**4 ) }bps\"] = np.where(\n",
    "            returns_df[\"type\"] == \"long\",\n",
    "            (returns_df[\"close_price\"] / returns_df[\"open_price\"]) * (1 - cost) / (1 + cost),\n",
    "            (returns_df[\"open_price\"] / returns_df[\"close_price\"]) * (1 - cost) / (1 + cost)\n",
    "        )\n",
    "    # aggregate over each position and its short/long-positions\n",
    "    position_returns_df = (\n",
    "        returns_df\n",
    "        .groupby( [\"position_num\", \"type\"] )\n",
    "        # multiply each \n",
    "        .agg(\n",
    "            **{ f\"total_return_{ int( cost * 10**4 ) }bps\": (f\"return_growth_rate_{ int( cost * 10**4 ) }bps\", \"prod\") for cost in costs_bps }\n",
    "        )\n",
    "        # turn growth rate to \n",
    "        - 1\n",
    "    )\n",
    "#     # aggregate overeach position's total return\n",
    "    return position_returns_df.groupby(level=\"type\").agg(\"mean\")"
   ]
  },
  {
   "cell_type": "markdown",
   "metadata": {},
   "source": [
    "# Prepare Data"
   ]
  },
  {
   "cell_type": "code",
   "execution_count": 4,
   "metadata": {
    "ExecuteTime": {
     "end_time": "2020-08-23T09:24:37.470569Z",
     "start_time": "2020-08-23T09:23:22.769335Z"
    }
   },
   "outputs": [],
   "source": [
    "top10_1min_df = pd.read_csv(\n",
    "    f\"../data/1min/top10_2019_train_test.csv.gz\",\n",
    "    sep=',',\n",
    "    parse_dates=[\"time\"],\n",
    "#     index_col=['time', 'pair'],\n",
    "    infer_datetime_format=True,\n",
    "    compression='gzip',\n",
    ")\n",
    "top10_1min_df.head()\n",
    "\n",
    "filtered_1min_df = (\n",
    "    top10_1min_df\n",
    "    [ top10_1min_df[ f\"volume_scaled\"].shift(-1) != 0 ]\n",
    "    .dropna()\n",
    ")"
   ]
  },
  {
   "cell_type": "code",
   "execution_count": 5,
   "metadata": {
    "ExecuteTime": {
     "end_time": "2020-08-23T09:24:40.169350Z",
     "start_time": "2020-08-23T09:24:40.144387Z"
    }
   },
   "outputs": [
    {
     "data": {
      "text/html": [
       "<div>\n",
       "<style scoped>\n",
       "    .dataframe tbody tr th:only-of-type {\n",
       "        vertical-align: middle;\n",
       "    }\n",
       "\n",
       "    .dataframe tbody tr th {\n",
       "        vertical-align: top;\n",
       "    }\n",
       "\n",
       "    .dataframe thead th {\n",
       "        text-align: right;\n",
       "    }\n",
       "</style>\n",
       "<table border=\"1\" class=\"dataframe\">\n",
       "  <thead>\n",
       "    <tr style=\"text-align: right;\">\n",
       "      <th></th>\n",
       "      <th>Unnamed: 0</th>\n",
       "      <th>time</th>\n",
       "      <th>open</th>\n",
       "      <th>close</th>\n",
       "      <th>high</th>\n",
       "      <th>low</th>\n",
       "      <th>volume</th>\n",
       "      <th>middle_median</th>\n",
       "      <th>pair</th>\n",
       "      <th>volume_scaled</th>\n",
       "      <th>...</th>\n",
       "      <th>cross_sectional_median_120min</th>\n",
       "      <th>cross_sectional_median_240min</th>\n",
       "      <th>cross_sectional_median_120min_long_15bps</th>\n",
       "      <th>cross_sectional_median_120min_short_15bps</th>\n",
       "      <th>cross_sectional_median_240min_long_15bps</th>\n",
       "      <th>cross_sectional_median_240min_short_15bps</th>\n",
       "      <th>future_2state_movement_120min</th>\n",
       "      <th>future_3state_movement_120min</th>\n",
       "      <th>future_2state_movement_240min</th>\n",
       "      <th>future_3state_movement_240min</th>\n",
       "    </tr>\n",
       "  </thead>\n",
       "  <tbody>\n",
       "    <tr>\n",
       "      <th>1920</th>\n",
       "      <td>1920</td>\n",
       "      <td>2019-01-02 08:01:00</td>\n",
       "      <td>3924.6</td>\n",
       "      <td>3924.9</td>\n",
       "      <td>3924.9</td>\n",
       "      <td>3924.6</td>\n",
       "      <td>1.209678</td>\n",
       "      <td>3924.75</td>\n",
       "      <td>btcusd</td>\n",
       "      <td>0.489633</td>\n",
       "      <td>...</td>\n",
       "      <td>0.015303</td>\n",
       "      <td>0.019073</td>\n",
       "      <td>0.012261</td>\n",
       "      <td>-0.018022</td>\n",
       "      <td>0.016021</td>\n",
       "      <td>-0.021656</td>\n",
       "      <td>-1.0</td>\n",
       "      <td>1.0</td>\n",
       "      <td>-1.0</td>\n",
       "      <td>1.0</td>\n",
       "    </tr>\n",
       "    <tr>\n",
       "      <th>1921</th>\n",
       "      <td>1921</td>\n",
       "      <td>2019-01-02 08:02:00</td>\n",
       "      <td>3924.8</td>\n",
       "      <td>3924.8</td>\n",
       "      <td>3924.8</td>\n",
       "      <td>3924.8</td>\n",
       "      <td>0.049025</td>\n",
       "      <td>3924.80</td>\n",
       "      <td>btcusd</td>\n",
       "      <td>0.092626</td>\n",
       "      <td>...</td>\n",
       "      <td>0.015491</td>\n",
       "      <td>0.018899</td>\n",
       "      <td>0.012449</td>\n",
       "      <td>-0.018205</td>\n",
       "      <td>0.015847</td>\n",
       "      <td>-0.021488</td>\n",
       "      <td>-1.0</td>\n",
       "      <td>1.0</td>\n",
       "      <td>-1.0</td>\n",
       "      <td>1.0</td>\n",
       "    </tr>\n",
       "    <tr>\n",
       "      <th>1922</th>\n",
       "      <td>1922</td>\n",
       "      <td>2019-01-02 08:03:00</td>\n",
       "      <td>3924.8</td>\n",
       "      <td>3923.7</td>\n",
       "      <td>3924.8</td>\n",
       "      <td>3923.2</td>\n",
       "      <td>5.063342</td>\n",
       "      <td>3924.25</td>\n",
       "      <td>btcusd</td>\n",
       "      <td>0.737697</td>\n",
       "      <td>...</td>\n",
       "      <td>0.014694</td>\n",
       "      <td>0.019019</td>\n",
       "      <td>0.011655</td>\n",
       "      <td>-0.017433</td>\n",
       "      <td>0.015967</td>\n",
       "      <td>-0.021604</td>\n",
       "      <td>-1.0</td>\n",
       "      <td>1.0</td>\n",
       "      <td>-1.0</td>\n",
       "      <td>1.0</td>\n",
       "    </tr>\n",
       "    <tr>\n",
       "      <th>1923</th>\n",
       "      <td>1923</td>\n",
       "      <td>2019-01-02 08:04:00</td>\n",
       "      <td>3924.0</td>\n",
       "      <td>3924.9</td>\n",
       "      <td>3924.9</td>\n",
       "      <td>3923.6</td>\n",
       "      <td>1.211047</td>\n",
       "      <td>3924.45</td>\n",
       "      <td>btcusd</td>\n",
       "      <td>0.489843</td>\n",
       "      <td>...</td>\n",
       "      <td>0.012722</td>\n",
       "      <td>0.016779</td>\n",
       "      <td>0.009689</td>\n",
       "      <td>-0.015520</td>\n",
       "      <td>0.013733</td>\n",
       "      <td>-0.019448</td>\n",
       "      <td>-1.0</td>\n",
       "      <td>1.0</td>\n",
       "      <td>-1.0</td>\n",
       "      <td>1.0</td>\n",
       "    </tr>\n",
       "    <tr>\n",
       "      <th>1924</th>\n",
       "      <td>1924</td>\n",
       "      <td>2019-01-02 08:05:00</td>\n",
       "      <td>3924.9</td>\n",
       "      <td>3931.4</td>\n",
       "      <td>3931.4</td>\n",
       "      <td>3924.9</td>\n",
       "      <td>13.060967</td>\n",
       "      <td>3928.15</td>\n",
       "      <td>btcusd</td>\n",
       "      <td>0.871862</td>\n",
       "      <td>...</td>\n",
       "      <td>0.009605</td>\n",
       "      <td>0.014249</td>\n",
       "      <td>0.006581</td>\n",
       "      <td>-0.012481</td>\n",
       "      <td>0.011210</td>\n",
       "      <td>-0.017002</td>\n",
       "      <td>-1.0</td>\n",
       "      <td>0.0</td>\n",
       "      <td>-1.0</td>\n",
       "      <td>0.0</td>\n",
       "    </tr>\n",
       "  </tbody>\n",
       "</table>\n",
       "<p>5 rows × 72 columns</p>\n",
       "</div>"
      ],
      "text/plain": [
       "      Unnamed: 0                time    open   close    high     low  \\\n",
       "1920        1920 2019-01-02 08:01:00  3924.6  3924.9  3924.9  3924.6   \n",
       "1921        1921 2019-01-02 08:02:00  3924.8  3924.8  3924.8  3924.8   \n",
       "1922        1922 2019-01-02 08:03:00  3924.8  3923.7  3924.8  3923.2   \n",
       "1923        1923 2019-01-02 08:04:00  3924.0  3924.9  3924.9  3923.6   \n",
       "1924        1924 2019-01-02 08:05:00  3924.9  3931.4  3931.4  3924.9   \n",
       "\n",
       "         volume  middle_median    pair  volume_scaled  ...  \\\n",
       "1920   1.209678        3924.75  btcusd       0.489633  ...   \n",
       "1921   0.049025        3924.80  btcusd       0.092626  ...   \n",
       "1922   5.063342        3924.25  btcusd       0.737697  ...   \n",
       "1923   1.211047        3924.45  btcusd       0.489843  ...   \n",
       "1924  13.060967        3928.15  btcusd       0.871862  ...   \n",
       "\n",
       "      cross_sectional_median_120min  cross_sectional_median_240min  \\\n",
       "1920                       0.015303                       0.019073   \n",
       "1921                       0.015491                       0.018899   \n",
       "1922                       0.014694                       0.019019   \n",
       "1923                       0.012722                       0.016779   \n",
       "1924                       0.009605                       0.014249   \n",
       "\n",
       "      cross_sectional_median_120min_long_15bps  \\\n",
       "1920                                  0.012261   \n",
       "1921                                  0.012449   \n",
       "1922                                  0.011655   \n",
       "1923                                  0.009689   \n",
       "1924                                  0.006581   \n",
       "\n",
       "      cross_sectional_median_120min_short_15bps  \\\n",
       "1920                                  -0.018022   \n",
       "1921                                  -0.018205   \n",
       "1922                                  -0.017433   \n",
       "1923                                  -0.015520   \n",
       "1924                                  -0.012481   \n",
       "\n",
       "      cross_sectional_median_240min_long_15bps  \\\n",
       "1920                                  0.016021   \n",
       "1921                                  0.015847   \n",
       "1922                                  0.015967   \n",
       "1923                                  0.013733   \n",
       "1924                                  0.011210   \n",
       "\n",
       "      cross_sectional_median_240min_short_15bps  \\\n",
       "1920                                  -0.021656   \n",
       "1921                                  -0.021488   \n",
       "1922                                  -0.021604   \n",
       "1923                                  -0.019448   \n",
       "1924                                  -0.017002   \n",
       "\n",
       "      future_2state_movement_120min  future_3state_movement_120min  \\\n",
       "1920                           -1.0                            1.0   \n",
       "1921                           -1.0                            1.0   \n",
       "1922                           -1.0                            1.0   \n",
       "1923                           -1.0                            1.0   \n",
       "1924                           -1.0                            0.0   \n",
       "\n",
       "      future_2state_movement_240min  future_3state_movement_240min  \n",
       "1920                           -1.0                            1.0  \n",
       "1921                           -1.0                            1.0  \n",
       "1922                           -1.0                            1.0  \n",
       "1923                           -1.0                            1.0  \n",
       "1924                           -1.0                            0.0  \n",
       "\n",
       "[5 rows x 72 columns]"
      ]
     },
     "execution_count": 5,
     "metadata": {},
     "output_type": "execute_result"
    }
   ],
   "source": [
    "filtered_1min_df.head()"
   ]
  },
  {
   "cell_type": "code",
   "execution_count": 6,
   "metadata": {
    "ExecuteTime": {
     "end_time": "2020-08-23T09:24:42.839186Z",
     "start_time": "2020-08-23T09:24:42.834193Z"
    }
   },
   "outputs": [],
   "source": [
    "THRESHOLDS = [0.5, 0.525, 0.55, 0.575, 0.6, 0.625, 0.65, 0.675, 0.7, 0.725, 0.75, 0.775, 0.8, 0.85, 0.9, 0.95]\n",
    "MODEL_NAMES = {\"forest\": \"Random Forest\", \"logistic\": \"Logistic Regression\",  \"adaboost\": \"AdaBoost\", \"ann\": \"DNN\",}\n",
    "volume_specs = [\"no_volume\", \"with_volume\"]\n",
    "targets = [\n",
    "    \"future_2state_movement_120min\",\n",
    "    \"future_2state_movement_240min\",\n",
    "    \"future_3state_movement_120min\",\n",
    "    \"future_3state_movement_240min\"\n",
    "]\n",
    "targets_2state = [\n",
    "    \"future_2state_movement_120min\",\n",
    "    \"future_2state_movement_240min\",\n",
    "#     \"future_3state_movement_120min\",\n",
    "#     \"future_3state_movement_240min\"\n",
    "]\n",
    "model_names = {\n",
    "    \"logistic\": \"Logistic Regression\",\n",
    "    \"forest\": \"Random Forest\",\n",
    "    \"adaboost\": \"AdaBoost\",\n",
    "    \"ann\": \"Deep Neural Network\",\n",
    "}"
   ]
  },
  {
   "cell_type": "code",
   "execution_count": 7,
   "metadata": {
    "ExecuteTime": {
     "end_time": "2020-08-23T09:24:45.506056Z",
     "start_time": "2020-08-23T09:24:45.501062Z"
    }
   },
   "outputs": [],
   "source": [
    "x_columns = [ col for col in  top10_1min_df.columns if \"middle_return\" in col and \"future\" not in col ]\n",
    "x_columns_volume = [ col for col in  top10_1min_df.columns if (\"middle_return\" in col or \"volume_scaled\" in col) and \"future\" not in col ]\n",
    "feature_selections = {\n",
    "    \"no_volume\": x_columns,\n",
    "    \"with_volume\": x_columns_volume,\n",
    "}"
   ]
  },
  {
   "cell_type": "code",
   "execution_count": null,
   "metadata": {
    "ExecuteTime": {
     "end_time": "2020-08-18T16:18:38.573080Z",
     "start_time": "2020-08-18T16:18:34.387Z"
    },
    "scrolled": true
   },
   "outputs": [],
   "source": [
    "trading_returns_df = pd.DataFrame()\n",
    "for model_name in MODEL_NAMES:\n",
    "    for threshold in THRESHOLDS:\n",
    "#         for volume_spec in [\"with_volume\", \"no_volume\"]:\n",
    "        for volume_spec in feature_selections:\n",
    "            for target in targets_2state:\n",
    "                try:\n",
    "                    filename = f\"../results/{model_name}/returns/trading_returns_{volume_spec}_{target}_{round(threshold*100, 1)}_threshold.csv\"\n",
    "                    df = pd.read_csv(filename)\n",
    "                    df[\"volume_spec\"] = volume_spec\n",
    "                    df[\"threshold\"] = threshold\n",
    "                    df[\"model\"] = model_name\n",
    "                    df[\"target\"] = target\n",
    "                    trading_returns_df = pd.concat([trading_returns_df, df])\n",
    "                    \n",
    "                    print(model_name, threshold, volume_spec, target)\n",
    "                except:\n",
    "                    print(\"EXCEPTION:\", filename)\n",
    "#     trading_returns_df.to_csv(f\"../results/{model_name}/returns/{model_name}_trading_returns_future_2state_movement.csv\", index=False)\n",
    "trading_returns_df.head()    \n",
    "# trading_returns_df.to_csv(f\"../results/trading_returns_future_2state_movement_120min.csv\", index=False)        "
   ]
  },
  {
   "cell_type": "markdown",
   "metadata": {},
   "source": [
    "Add short-/long-return for different transaction costs"
   ]
  },
  {
   "cell_type": "code",
   "execution_count": null,
   "metadata": {
    "ExecuteTime": {
     "end_time": "2020-08-18T16:18:38.578066Z",
     "start_time": "2020-08-18T16:18:34.715Z"
    }
   },
   "outputs": [],
   "source": [
    "costs_bps = [ x*0.0005 for x in range(0, 5) ]\n",
    "# get growth rate for all bps\n",
    "for cost in costs_bps:\n",
    "    trading_returns_df[f\"return_growth_rate_{ int( cost * 10**4 ) }bps\"] = np.where(\n",
    "        trading_returns_df[\"type\"] == \"long\",\n",
    "        (trading_returns_df[\"close_price\"] / trading_returns_df[\"open_price\"]) * (1 - cost) / (1 + cost),\n",
    "        (trading_returns_df[\"open_price\"] / trading_returns_df[\"close_price\"]) * (1 - cost) / (1 + cost),\n",
    "    )\n",
    "print(trading_returns_df.shape)    \n",
    "trading_returns_df.head()    "
   ]
  },
  {
   "cell_type": "markdown",
   "metadata": {},
   "source": [
    "# Threshold vs Return"
   ]
  },
  {
   "cell_type": "markdown",
   "metadata": {},
   "source": [
    "## Total return for spec combination and model"
   ]
  },
  {
   "cell_type": "code",
   "execution_count": null,
   "metadata": {
    "ExecuteTime": {
     "end_time": "2020-07-30T07:46:34.197464Z",
     "start_time": "2020-07-30T07:46:34.190450Z"
    },
    "code_folding": [
     0
    ]
   },
   "outputs": [],
   "source": [
    "def total_returns_by_threshold(returns_df, title=\"Total returns for different probabiltiy thresholds and basis-points\", volume_spec=\"no\", xlim=0.63):\n",
    "    df = returns_df[ returns_df[\"volume_spec\"] == volume_spec]\n",
    "    max_return = round(df[\"total_return_15bps\"].max() * 100, 2)\n",
    "    max_return_threshold = df[\"threshold\"][df[\"total_return_15bps\"].argmax()]\n",
    "    columns_mapping = { \"total_return_5bps\": \"5bps\", \"total_return_10bps\": \"10bps\", \"total_return_15bps\": \"15bps\", \"total_return_20bps\": \"20bps\" }\n",
    "    ax = (\n",
    "        df\n",
    "        .rename(columns=columns_mapping)\n",
    "        .plot(\n",
    "            x=\"threshold\", \n",
    "            y=[\"5bps\", \"10bps\", \"15bps\", \"20bps\"],\n",
    "            figsize=(20, 10), \n",
    "        )\n",
    "    )   \n",
    "    ax.set_xlim(right=xlim)\n",
    "    ax.axhline(y=0, color='r', linestyle='--')\n",
    "    ax.set_title(f\"{title}\\n Max total return: {max_return}% (@ threshold: {max_return_threshold}, cost: 15bps)\")\n",
    "    ax.set_ylabel(\"Return\")\n",
    "    ax.yaxis.set_major_formatter(ticker.PercentFormatter(1))\n",
    "    ax.set_xlabel(\"Threshold\")    \n",
    "    return ax"
   ]
  },
  {
   "cell_type": "code",
   "execution_count": null,
   "metadata": {
    "ExecuteTime": {
     "end_time": "2020-07-30T08:32:59.282670Z",
     "start_time": "2020-07-30T08:32:58.537654Z"
    },
    "code_folding": []
   },
   "outputs": [],
   "source": [
    "agg_returns_df = (\n",
    "    (\n",
    "        (   \n",
    "            # get total return per individual trading simulation\n",
    "            trading_returns_df\n",
    "            .groupby([\"model\", \"volume_spec\", \"target\", \"threshold\", \"position_num\", \"type\" ])\n",
    "            .agg(\n",
    "                { f\"return_growth_rate_{int( cost * 10**4 )}bps\": \"prod\" for cost in costs_bps }\n",
    "            )\n",
    "            .reset_index()\n",
    "        )\n",
    "        # get mean return per position type\n",
    "        .groupby([\"model\", \"volume_spec\", \"target\", \"threshold\", \"type\"])\n",
    "        .agg(\n",
    "                { f\"return_growth_rate_{int( cost * 10**4 )}bps\": \"mean\" for cost in costs_bps }\n",
    "        )\n",
    "        .reset_index()\n",
    "    )\n",
    "    # mean return per threshold\n",
    "    .groupby([\"model\", \"volume_spec\", \"target\", \"threshold\",])\n",
    "    .agg(\n",
    "            **{ f\"{int( cost * 10**4 )}bps\": (f\"return_growth_rate_{int( cost * 10**4 )}bps\", \"mean\") for cost in costs_bps }\n",
    "    )\n",
    "    -1\n",
    ").reset_index()\n",
    "# print(agg_returns_df[ agg_returns_df[\"model\"] == \"forest\" ][\"open_time\"].max())\n",
    "agg_returns_df[\"target\"] = agg_returns_df[\"target\"].str.replace(\"future_2state_movement_\", \"\")\n",
    "agg_returns_df[\"volume_spec\"] = agg_returns_df[\"volume_spec\"].str.replace(\"_\", \" \")\n",
    "agg_returns_df[\"model\"] = agg_returns_df[\"model\"].map(MODEL_NAMES)\n",
    "agg_returns_df.head()"
   ]
  },
  {
   "cell_type": "code",
   "execution_count": null,
   "metadata": {
    "ExecuteTime": {
     "end_time": "2020-07-30T08:36:09.762387Z",
     "start_time": "2020-07-30T08:36:09.248543Z"
    },
    "scrolled": false
   },
   "outputs": [],
   "source": [
    "for volume_spec in agg_returns_df[\"volume_spec\"].unique():\n",
    "    for target in agg_returns_df[\"target\"].unique():\n",
    "        df = agg_returns_df[ \n",
    "             (agg_returns_df[\"volume_spec\"] == volume_spec) \n",
    "            & (agg_returns_df[\"target\"] == target) \n",
    "        ]\n",
    "        ax = sns.lineplot(x=\"threshold\", y=\"15bps\", hue=\"model\", data=df)\n",
    "        ax.axhline(y=0, color='r', linestyle='--')\n",
    "        ax.set_title(f\"Total returns at different thresholds at 15bps ({volume_spec}, {target})\")\n",
    "        ax.set_ylabel(\"Return\")\n",
    "        ax.yaxis.set_major_formatter(ticker.PercentFormatter(1))\n",
    "        ax.set_xlabel(\"Threshold\")  \n",
    "#         plt.show()\n",
    "#         plt.draw()\n",
    "        plt.savefig(f\"../results/_general/all_threshold_vs_return_15bps_{volume_spec}_{target}.png\")\n",
    "        plt.clf()"
   ]
  },
  {
   "cell_type": "markdown",
   "metadata": {},
   "source": [
    "## Max returns at best threshold"
   ]
  },
  {
   "cell_type": "code",
   "execution_count": null,
   "metadata": {
    "ExecuteTime": {
     "end_time": "2020-07-30T07:46:44.689443Z",
     "start_time": "2020-07-30T07:46:43.959443Z"
    }
   },
   "outputs": [],
   "source": [
    "agg_returns_df = (\n",
    "    (\n",
    "        (   \n",
    "            # get total return per individual trading simulation\n",
    "            trading_returns_df\n",
    "            .groupby([\"model\", \"volume_spec\", \"target\", \"threshold\", \"position_num\", \"type\" ])\n",
    "            .agg(\n",
    "                { f\"return_growth_rate_{int( cost * 10**4 )}bps\": \"prod\" for cost in costs_bps }\n",
    "            \n",
    "            )\n",
    "            .reset_index()\n",
    "        )\n",
    "        # get mean return per position type\n",
    "        .groupby([\"model\", \"volume_spec\", \"target\", \"threshold\", \"type\"])\n",
    "        .agg(\n",
    "                { f\"return_growth_rate_{int( cost * 10**4 )}bps\": \"mean\" for cost in costs_bps }\n",
    "        )\n",
    "        .reset_index()\n",
    "    )\n",
    "    # mean return per threshold\n",
    "    .groupby([\"model\", \"volume_spec\", \"target\", \"threshold\",])\n",
    "    .agg(\n",
    "            **{ f\"{int( cost * 10**4 )}bps\": (f\"return_growth_rate_{int( cost * 10**4 )}bps\", \"mean\") for cost in costs_bps }\n",
    "    )\n",
    "    -1\n",
    ").reset_index()"
   ]
  },
  {
   "cell_type": "code",
   "execution_count": null,
   "metadata": {
    "ExecuteTime": {
     "end_time": "2020-07-30T07:46:48.559351Z",
     "start_time": "2020-07-30T07:46:48.534420Z"
    },
    "scrolled": true
   },
   "outputs": [],
   "source": [
    "max_agg_returns_df = (\n",
    "    agg_returns_df\n",
    "    .set_index(\"threshold\")\n",
    "    .groupby([\"model\", \"volume_spec\", \"target\"])\n",
    "    .agg(\n",
    "        max_return_15bps=(\"15bps\", \"max\"),\n",
    "        max_return_threshold=(\"15bps\", \"idxmax\"),\n",
    "    )\n",
    "    .reset_index()\n",
    ")\n",
    "max_agg_returns_df"
   ]
  },
  {
   "cell_type": "code",
   "execution_count": null,
   "metadata": {
    "ExecuteTime": {
     "end_time": "2020-07-30T07:46:56.459794Z",
     "start_time": "2020-07-30T07:46:52.293419Z"
    }
   },
   "outputs": [],
   "source": [
    "print(trading_returns_df.shape)\n",
    "agg_max_threshold_df =  pd.merge(\n",
    "    trading_returns_df, \n",
    "    max_agg_returns_df, \n",
    "    on=[\"model\", \"volume_spec\", \"target\"],\n",
    "    how=\"left\"\n",
    ")\n",
    "print(agg_max_threshold_df.shape)\n",
    "agg_max_threshold_df"
   ]
  },
  {
   "cell_type": "code",
   "execution_count": null,
   "metadata": {
    "ExecuteTime": {
     "end_time": "2020-07-30T07:50:19.573304Z",
     "start_time": "2020-07-30T07:50:19.544382Z"
    }
   },
   "outputs": [],
   "source": [
    "(\n",
    "    agg_max_threshold_df\n",
    "    [ agg_max_threshold_df[\"threshold\"] == agg_max_threshold_df[\"max_return_threshold\"] ]\n",
    "    .groupby([\"model\", \"volume_spec\", \"target\",  \"position_num\", \"type\" ])\n",
    "    .agg(\n",
    "        trade_count=(\"max_return_15bps\", \"count\")\n",
    "    )\n",
    "    .reset_index()\n",
    ")"
   ]
  },
  {
   "cell_type": "code",
   "execution_count": null,
   "metadata": {},
   "outputs": [],
   "source": []
  },
  {
   "cell_type": "code",
   "execution_count": null,
   "metadata": {
    "ExecuteTime": {
     "end_time": "2020-07-29T14:55:47.039710Z",
     "start_time": "2020-07-29T14:55:46.498138Z"
    }
   },
   "outputs": [],
   "source": [
    "# total trades\n",
    "best_spec_trade_count_df = (\n",
    "    (\n",
    "        (   \n",
    "            # get total trades per individual trading simulation, only for respective max threshold\n",
    "            agg_max_threshold_df\n",
    "            [ agg_max_threshold_df[\"threshold\"] == agg_max_threshold_df[\"max_return_threshold\"] ]\n",
    "            .groupby([\"model\", \"volume_spec\", \"target\",  \"position_num\", \"type\" ])\n",
    "            .agg(\n",
    "                trade_count=(\"max_return_15bps\", \"count\")\n",
    "            )\n",
    "            .reset_index()\n",
    "        )\n",
    "        # get mean number of trades per type\n",
    "        .groupby([\"model\", \"volume_spec\", \"target\", \"type\"])\n",
    "        .agg(\n",
    "            trade_count=(\"trade_count\", \"mean\")\n",
    "        )\n",
    "        .reset_index()\n",
    "    )\n",
    "    # mean return per spec\n",
    "    .groupby([\"model\", \"volume_spec\", \"target\",])\n",
    "    .agg(\n",
    "        trade_count=(\"trade_count\", \"mean\")\n",
    "    )\n",
    ").reset_index()\n",
    "best_spec_trade_count_df"
   ]
  },
  {
   "cell_type": "code",
   "execution_count": null,
   "metadata": {
    "ExecuteTime": {
     "end_time": "2020-07-29T14:59:39.666064Z",
     "start_time": "2020-07-29T14:59:39.651107Z"
    }
   },
   "outputs": [],
   "source": [
    "max_returns_df = (\n",
    "    pd.merge(\n",
    "        max_agg_returns_df, \n",
    "        best_spec_trade_count_df,\n",
    "        on=[\"model\", \"volume_spec\", \"target\"],\n",
    "    )\n",
    "    .set_index([\"model\", \"volume_spec\", \"target\"])\n",
    "\n",
    ")\n",
    "max_returns_df"
   ]
  },
  {
   "cell_type": "code",
   "execution_count": null,
   "metadata": {
    "ExecuteTime": {
     "end_time": "2020-07-29T14:59:47.447966Z",
     "start_time": "2020-07-29T14:59:46.930643Z"
    }
   },
   "outputs": [],
   "source": [
    "# max_returns_df.to_excel(\"../results/_general/max_agg_returns.xlsx\")\n",
    "# max_returns_df.to_csv(\"../results/_general/max_agg_returns.csv\")"
   ]
  },
  {
   "cell_type": "markdown",
   "metadata": {},
   "source": [
    "## Plot each return for model run at different transaction costs"
   ]
  },
  {
   "cell_type": "code",
   "execution_count": null,
   "metadata": {
    "ExecuteTime": {
     "end_time": "2020-07-28T16:53:56.356206Z",
     "start_time": "2020-07-28T16:53:55.572274Z"
    }
   },
   "outputs": [],
   "source": [
    "agg_returns_df = (\n",
    "    (\n",
    "        (   \n",
    "            # get total return per individual trading simulation\n",
    "            trading_returns_df\n",
    "            .groupby([\"model\", \"volume_spec\", \"target\", \"threshold\", \"position_num\", \"type\" ])\n",
    "            .agg(\n",
    "                { f\"return_growth_rate_{int( cost * 10**4 )}bps\": \"prod\" for cost in costs_bps }\n",
    "            )\n",
    "            .reset_index()\n",
    "        )\n",
    "        # get mean return per position type\n",
    "        .groupby([\"model\", \"volume_spec\", \"target\", \"threshold\", \"type\"])\n",
    "        .agg(\n",
    "                { f\"return_growth_rate_{int( cost * 10**4 )}bps\": \"mean\" for cost in costs_bps }\n",
    "        )\n",
    "        .reset_index()\n",
    "    )\n",
    "    # mean return per threshold\n",
    "    .groupby([\"model\", \"volume_spec\", \"target\", \"threshold\",])\n",
    "    .agg(\n",
    "            **{ f\"{int( cost * 10**4 )}bps\": (f\"return_growth_rate_{int( cost * 10**4 )}bps\", \"mean\") for cost in costs_bps }\n",
    "    )\n",
    "    -1\n",
    ").reset_index()\n",
    "agg_returns_df"
   ]
  },
  {
   "cell_type": "code",
   "execution_count": null,
   "metadata": {
    "ExecuteTime": {
     "end_time": "2020-07-28T16:57:07.515068Z",
     "start_time": "2020-07-28T16:57:04.096855Z"
    },
    "scrolled": false
   },
   "outputs": [],
   "source": [
    "x_lims = [0.63, 0.63, 0.56]\n",
    "# x_lims = [None, None, None, None]\n",
    "\n",
    "# for model_name, xlim in zip(MODEL_NAMES, x_lims):\n",
    "for model_name in agg_returns_df[\"model\"].unique():\n",
    "    for volume_spec in agg_returns_df[\"volume_spec\"].unique():\n",
    "        for target in agg_returns_df[\"target\"].unique():\n",
    "            print(model_name, volume_spec, target)\n",
    "            df = agg_returns_df[ \n",
    "                (agg_returns_df[\"model\"] == model_name) \n",
    "                & (agg_returns_df[\"volume_spec\"] == volume_spec) \n",
    "                & (agg_returns_df[\"target\"] == target) \n",
    "            ]\n",
    "            max_return = round(df[\"15bps\"].max() * 100, 2)\n",
    "            max_return_threshold = df[\"threshold\"][ df[\"15bps\"].idxmax() ]\n",
    "            ax = df.plot(\n",
    "                    x=\"threshold\", \n",
    "                    y=[\"5bps\", \"10bps\", \"15bps\", \"20bps\"],\n",
    "                )\n",
    "    #         ax.set_xlim(right=xlim)\n",
    "            ax.axhline(y=0, color='r', linestyle='--')\n",
    "            ax.set_title(f\"{MODEL_NAMES[model_name]} ({volume_spec.replace('_', ' ')}, {target.replace('future_2state_movement_', '')})\\n Max total return for 15bps: {max_return}% (threshold: {max_return_threshold})\")\n",
    "            ax.set_ylabel(\"Return\")\n",
    "            ax.yaxis.set_major_formatter(ticker.PercentFormatter(1))\n",
    "            ax.set_xlabel(\"Threshold\")      \n",
    "            plt.savefig(f\"../results/{model_name}/plots/{model_name}_total_returns_by_thresholds.png\")"
   ]
  },
  {
   "cell_type": "markdown",
   "metadata": {},
   "source": [
    "Notes (19.07.2020):\n",
    "- For Random Forest (no volume, 240min) results are off -> rerun trading"
   ]
  },
  {
   "cell_type": "code",
   "execution_count": null,
   "metadata": {
    "ExecuteTime": {
     "end_time": "2020-07-28T16:57:57.390423Z",
     "start_time": "2020-07-28T16:57:57.387403Z"
    }
   },
   "outputs": [],
   "source": [
    "# ax = sns.lineplot(x = \"threshold\", y = \"total_return_15bps\", data = trading_returns_df.groupby([\"model\", \"volume_spec\", \"threshold\"]).mean().reset_index(), \n",
    "#              hue = \"model\")\n",
    "# ax.set_xlabel(\"Threshold\")\n",
    "# ax.set_ylabel(\"Return\")\n",
    "# ax.set_title(\"Returns at 30bps for different thresholds\")\n",
    "# ax.axhline(y=0, color='r', linestyle='--')\n",
    "# ax.yaxis.set_major_formatter(ticker.PercentFormatter(1))\n",
    "# # plt.savefig(\"../results/threshold_vs_returns_at_30bps.png\")"
   ]
  },
  {
   "cell_type": "markdown",
   "metadata": {},
   "source": [
    "# Correct classifications, but insufficient returns"
   ]
  },
  {
   "cell_type": "code",
   "execution_count": null,
   "metadata": {
    "ExecuteTime": {
     "end_time": "2020-07-28T16:58:10.113265Z",
     "start_time": "2020-07-28T16:58:10.092322Z"
    }
   },
   "outputs": [],
   "source": [
    "trading_returns_df.head()"
   ]
  },
  {
   "cell_type": "code",
   "execution_count": null,
   "metadata": {
    "ExecuteTime": {
     "end_time": "2020-07-28T17:00:46.975744Z",
     "start_time": "2020-07-28T17:00:46.644121Z"
    }
   },
   "outputs": [],
   "source": [
    "trading_returns_df[\"insufficient_long_return\"] = np.where(\n",
    "    (trading_returns_df[\"type\"] == \"long\")\n",
    "    &  ( 0 < trading_returns_df[\"close_return\"] ) \n",
    "    & ( trading_returns_df[\"return_growth_rate_15bps\"] < 1 ) ,\n",
    "    1,\n",
    "    0,\n",
    ")\n",
    "\n",
    "trading_returns_df[\"insufficient_short_return\"] = np.where(\n",
    "    (trading_returns_df[\"type\"] == \"short\")\n",
    "    &  ( 0 > trading_returns_df[\"close_return\"] ) \n",
    "    & ( trading_returns_df[\"return_growth_rate_15bps\"] < 1 ) ,\n",
    "    1,\n",
    "    0,\n",
    ")\n",
    "trading_returns_df[\"insufficient_return\"] = np.where(\n",
    "    (trading_returns_df[\"insufficient_short_return\"] == 1) | (trading_returns_df[\"insufficient_long_return\"] == 1),\n",
    "    1,\n",
    "    0,\n",
    ")"
   ]
  },
  {
   "cell_type": "code",
   "execution_count": null,
   "metadata": {
    "ExecuteTime": {
     "end_time": "2020-07-28T17:00:55.269718Z",
     "start_time": "2020-07-28T17:00:54.556669Z"
    },
    "scrolled": true
   },
   "outputs": [],
   "source": [
    "count_returns_df = (\n",
    "    (\n",
    "        (   \n",
    "            # get number trades for individual positions\n",
    "            trading_returns_df\n",
    "            .groupby([\"model\",\"volume_spec\", \"target\", \"threshold\", \"type\", \"position_num\"])\n",
    "            .agg(\n",
    "                total_trades=(\"return_growth_rate_0bps\", \"count\")\n",
    "            )\n",
    "#             .reset_index()\n",
    "        )\n",
    "        # aggregate over type\n",
    "#         .groupby([\"model\",\"volume_spec\", \"target\", \"threshold\", \"type\",])\n",
    "#         .agg(\n",
    "#             mean_total_trades=(\"total_trades\", \"mean\")\n",
    "#         )\n",
    "#         .reset_index()\n",
    "            # get number trades for individual positions\n",
    "    )        \n",
    "        \n",
    ")\n",
    "\n",
    "count_returns_df"
   ]
  },
  {
   "cell_type": "code",
   "execution_count": null,
   "metadata": {
    "ExecuteTime": {
     "end_time": "2020-07-28T17:01:03.212774Z",
     "start_time": "2020-07-28T17:01:02.843693Z"
    }
   },
   "outputs": [],
   "source": [
    "low_returns_df = (\n",
    "    (\n",
    "        trading_returns_df[ trading_returns_df[\"insufficient_return\"] == 1 ]\n",
    "        .groupby([\"model\", \"volume_spec\", \"target\", \"threshold\", \"type\", \"position_num\"])\n",
    "        .agg(\n",
    "            total_trades=(\"return_growth_rate_15bps\", \"count\")\n",
    "        )\n",
    "    \n",
    "    )\n",
    "#     .reset_index()\n",
    ")\n",
    "low_returns_df"
   ]
  },
  {
   "cell_type": "code",
   "execution_count": null,
   "metadata": {
    "ExecuteTime": {
     "end_time": "2020-07-28T17:01:10.824661Z",
     "start_time": "2020-07-28T17:01:10.779738Z"
    },
    "scrolled": true
   },
   "outputs": [],
   "source": [
    "low_returns_proportion_df = low_returns_df / count_returns_df\n",
    "low_returns_proportion_df = (\n",
    "    low_returns_proportion_df\n",
    "    .groupby([\"model\", \"volume_spec\", \"target\", \"threshold\", \"type\",])\n",
    "    .mean()\n",
    "    .reset_index()\n",
    ")\n",
    "low_returns_proportion_df"
   ]
  },
  {
   "cell_type": "code",
   "execution_count": null,
   "metadata": {
    "ExecuteTime": {
     "end_time": "2020-07-28T17:00:28.075251Z",
     "start_time": "2020-07-28T17:00:28.069266Z"
    }
   },
   "outputs": [],
   "source": [
    "# low_returns_proportion_df[\"target\"] = low_returns_proportion_df[\"target\"].str.replace(\"future_2state_movement_\", \"\")\n",
    "# low_returns_proportion_df[\"volume_spec\"] = low_returns_proportion_df[\"volume_spec\"].str.replace(\"_\", \" \")\n",
    "# low_returns_proportion_df[\"model\"] = low_returns_proportion_df[\"model\"].map(MODEL_NAMES)"
   ]
  },
  {
   "cell_type": "code",
   "execution_count": null,
   "metadata": {
    "ExecuteTime": {
     "end_time": "2020-07-28T17:06:10.902908Z",
     "start_time": "2020-07-28T17:06:09.380594Z"
    }
   },
   "outputs": [],
   "source": [
    "for position_type in low_returns_proportion_df[\"type\"].unique():\n",
    "    for spec in low_returns_proportion_df[\"volume_spec\"].unique():\n",
    "        for target in low_returns_proportion_df[\"target\"].unique():\n",
    "\n",
    "            ax = sns.lineplot(\n",
    "                x='Threshold', \n",
    "                y='Proportion Insufficient Returns', \n",
    "                hue='Model', \n",
    "                data=(\n",
    "                    low_returns_proportion_df[\n",
    "                        (low_returns_proportion_df[\"volume_spec\"] == volume_spec)\n",
    "                        & (low_returns_proportion_df[\"target\"] == target)\n",
    "                        & (low_returns_proportion_df[\"type\"] == position_type)\n",
    "                        & (low_returns_proportion_df[\"model\"] != \"adaboost\")\n",
    "                    ]\n",
    "    #                     [ low_returns_df.index.get_level_values(\"threshold\") <= 0.6 ]\n",
    "                    .reset_index()\n",
    "                    .rename(columns={\n",
    "                         \"threshold\": \"Threshold\",\n",
    "                         \"total_trades\": \"Proportion Insufficient Returns\",\n",
    "                         \"model\": \"Model\",\n",
    "                        }\n",
    "                   )\n",
    "                ),\n",
    "            )\n",
    "            ax.set_xlim((0.5, 0.6))\n",
    "            ax.set_title(f\"Proportion of insufficient returns at 15bps transaction cost per threshold ({position_type}, {spec}, {target})\")\n",
    "            ax.set_xlabel(\"Threshold\")\n",
    "            ax.set_ylabel(\"Proportion Insufficient Returns\")\n",
    "            ax.yaxis.set_major_formatter(ticker.PercentFormatter(1))\n",
    "            plt.show()\n",
    "            plt.clf()\n",
    "    # plt.savefig(\"../results/proportion_insufficient_returns.png\")"
   ]
  },
  {
   "cell_type": "code",
   "execution_count": null,
   "metadata": {
    "ExecuteTime": {
     "end_time": "2020-07-06T15:31:53.929301Z",
     "start_time": "2020-07-06T15:31:53.112486Z"
    },
    "scrolled": false
   },
   "outputs": [],
   "source": [
    "for position_type in low_returns_proportion_df[\"type\"].unique():\n",
    "    for spec in low_returns_proportion_df[\"volume_spec\"].unique():\n",
    "        for model in low_returns_proportion_df[\"model\"].unique():\n",
    "\n",
    "            ax = sns.lineplot(\n",
    "                x='Threshold', \n",
    "                y='Proportion Insufficient Returns', \n",
    "                hue='target', \n",
    "                data=(\n",
    "                    low_returns_proportion_df[\n",
    "                        (low_returns_proportion_df[\"volume_spec\"] == volume_spec)\n",
    "                        & (low_returns_proportion_df[\"model\"] == model)\n",
    "                        & (low_returns_proportion_df[\"type\"] == position_type)\n",
    "                    ]\n",
    "    #                     [ low_returns_df.index.get_level_values(\"threshold\") <= 0.6 ]\n",
    "                    .reset_index()\n",
    "                    .rename(columns={\n",
    "                         \"threshold\": \"Threshold\",\n",
    "                         \"total_trades\": \"Proportion Insufficient Returns\",\n",
    "                         \"model\": \"Model\",\n",
    "                        }\n",
    "                   )\n",
    "                ),\n",
    "            )\n",
    "            ax.set_xlim((0.5, 0.6))\n",
    "            ax.set_title(f\"Proportion of insufficient returns at 30bps transaction cost per threshold for {model} \\n ({position_type}, {spec}, {target})\")\n",
    "            ax.set_xlabel(\"Threshold\")\n",
    "            ax.set_ylabel(\"Proportion Insufficient Returns\")\n",
    "            ax.yaxis.set_major_formatter(ticker.PercentFormatter(1))\n",
    "            plt.show()\n",
    "            plt.clf()\n",
    "    # plt.savefig(\"../results/proportion_insufficient_returns.png\")"
   ]
  },
  {
   "cell_type": "code",
   "execution_count": null,
   "metadata": {},
   "outputs": [],
   "source": []
  },
  {
   "cell_type": "markdown",
   "metadata": {},
   "source": [
    "# Trading Decisions"
   ]
  },
  {
   "cell_type": "markdown",
   "metadata": {},
   "source": [
    "## Traded Pairs"
   ]
  },
  {
   "cell_type": "code",
   "execution_count": null,
   "metadata": {
    "ExecuteTime": {
     "end_time": "2020-07-29T14:06:57.376261Z",
     "start_time": "2020-07-29T14:06:57.371273Z"
    }
   },
   "outputs": [],
   "source": [
    "trading_returns_df.columns"
   ]
  },
  {
   "cell_type": "code",
   "execution_count": null,
   "metadata": {
    "ExecuteTime": {
     "end_time": "2020-07-29T14:07:04.950095Z",
     "start_time": "2020-07-29T14:07:04.927156Z"
    }
   },
   "outputs": [],
   "source": [
    "trading_returns_df.head()"
   ]
  },
  {
   "cell_type": "code",
   "execution_count": null,
   "metadata": {
    "ExecuteTime": {
     "end_time": "2020-07-30T07:59:32.300603Z",
     "start_time": "2020-07-30T07:59:31.905659Z"
    }
   },
   "outputs": [],
   "source": [
    "max_pair_count_df = (\n",
    "    (\n",
    "        (\n",
    "            trading_returns_df\n",
    "            [ trading_returns_df[\"threshold\"] == 0.5 ]\n",
    "            .groupby([\"model\", \"volume_spec\", \"target\", \"position_num\", \"type\", \"pair\"])\n",
    "            .agg(\n",
    "                pair_count=(\"close_price\", \"count\"),\n",
    "            )\n",
    "            .reset_index()\n",
    "        )\n",
    "        .groupby([\"model\", \"volume_spec\", \"target\", \"type\", \"pair\"])\n",
    "        .agg(\n",
    "            pair_count=(\"pair_count\", \"mean\"),\n",
    "        )\n",
    "        .reset_index()    \n",
    "    )\n",
    "    .set_index(\"pair\")\n",
    "    .groupby([\"model\", \"volume_spec\", \"target\", \"type\"])\n",
    "    .agg(\n",
    "        max_pair_count=(\"pair_count\", \"max\"),\n",
    "        max_pair=(\"pair_count\", \"idxmax\"),\n",
    "    )\n",
    "    .reset_index()   \n",
    ")\n",
    "# max_pair_count_df = max_pair_count_df[ max_pair_count_df[\"max_pair_count\"] > 10]\n",
    "max_pair_count_df"
   ]
  },
  {
   "cell_type": "code",
   "execution_count": null,
   "metadata": {
    "ExecuteTime": {
     "end_time": "2020-07-28T17:07:11.249756Z",
     "start_time": "2020-07-28T17:07:11.210792Z"
    }
   },
   "outputs": [],
   "source": [
    "# max_pair_count_df.set_index([\"model\", \"volume_spec\", \"target\",  \"type\"]).unstack(level=-1).to_excel(\"../results/max_pair_count.xlsx\")"
   ]
  },
  {
   "cell_type": "markdown",
   "metadata": {},
   "source": [
    "## Number of Trades"
   ]
  },
  {
   "cell_type": "code",
   "execution_count": null,
   "metadata": {
    "ExecuteTime": {
     "end_time": "2020-07-30T07:59:57.772597Z",
     "start_time": "2020-07-30T07:59:57.432168Z"
    }
   },
   "outputs": [],
   "source": [
    "trade_count_df = (\n",
    "    (\n",
    "        (\n",
    "            trading_returns_df\n",
    "            [ trading_returns_df[\"threshold\"] == 0.5 ]\n",
    "            .groupby([\"model\", \"volume_spec\", \"target\",  \"position_num\", \"type\"])\n",
    "            .agg(\n",
    "                trade_count=(\"close_price\", \"count\"),\n",
    "            )\n",
    "            .reset_index()\n",
    "        )\n",
    "        .groupby([\"model\", \"volume_spec\", \"target\", \"type\", ])\n",
    "        .agg(\n",
    "            mean_trade_count=(\"trade_count\", \"mean\"),\n",
    "            std_trade_count=(\"trade_count\", \"std\"),\n",
    "        )\n",
    "        .reset_index()    \n",
    "    )\n",
    "    .set_index([\"model\", \"volume_spec\", \"target\", \"type\"])\n",
    "    .unstack(level=\"type\")\n",
    "#     .set_index(\"pair\")\n",
    "#     .groupby([\"model\", \"volume_spec\", \"target\", \"threshold\", \"type\"])\n",
    "#     .agg(\n",
    "#         max_pair_count=(\"pair_count\", \"max\"),\n",
    "#         max_pair=(\"pair_count\", \"idxmax\"),\n",
    "#     )\n",
    "#     .reset_index()   \n",
    ")\n",
    "trade_count_df[\"long_short_diff\"] = trade_count_df[\"mean_trade_count\"][\"long\"] - trade_count_df[\"mean_trade_count\"][\"short\"]\n",
    "# trade_count_df = trade_count_df[ \n",
    "#     (trade_count_df[\"mean_trade_count\"][\"long\"] > 15)\n",
    "#     & (trade_count_df[\"mean_trade_count\"][\"short\"] > 15)\n",
    "# ]\n",
    "trade_count_df"
   ]
  },
  {
   "cell_type": "code",
   "execution_count": null,
   "metadata": {
    "ExecuteTime": {
     "end_time": "2020-07-28T17:08:14.671318Z",
     "start_time": "2020-07-28T17:08:14.658354Z"
    }
   },
   "outputs": [],
   "source": [
    "trade_count_df[[\"long_short_diff\"]].unstack(level=\"target\")\n",
    "#.to_excel(\"../results/trade_pair_count.xlsx\")"
   ]
  },
  {
   "cell_type": "code",
   "execution_count": null,
   "metadata": {},
   "outputs": [],
   "source": []
  },
  {
   "cell_type": "markdown",
   "metadata": {},
   "source": [
    "# Returns statistics"
   ]
  },
  {
   "cell_type": "code",
   "execution_count": null,
   "metadata": {
    "ExecuteTime": {
     "end_time": "2020-07-06T19:02:31.691309Z",
     "start_time": "2020-07-06T19:02:31.628477Z"
    }
   },
   "outputs": [],
   "source": [
    "agg_returns_df = (\n",
    "    (\n",
    "        (   \n",
    "            trading_returns_df\n",
    "            [ (trading_returns_df[\"threshold\"] == 0.6) \n",
    "             & (trading_returns_df[\"model\"] != \"adaboost\") \n",
    "            ]\n",
    "            .groupby([\"model\", \"volume_spec\", \"target\", \"type\", \"position_num\",])\n",
    "            .agg(\n",
    "                return_growth_rate_15bps=(\"return_growth_rate_15bps\", \"prod\"),\n",
    "                return_growth_rate_15bps_mean=(\"return_growth_rate_15bps\", \"mean\"),\n",
    "                return_growth_rate_15bps_std=(\"return_growth_rate_15bps\", \"std\"),\n",
    "            )\n",
    "            .reset_index()\n",
    "        )\n",
    "            .groupby([\"model\", \"volume_spec\", \"target\", \"type\"])\n",
    "            .mean()\n",
    "    )\n",
    "#     .groupby([\"model\", \"volume_spec\", \"target\", pd.Grouper(key='open_time', freq='D')])\n",
    "#     .agg(daily_return_15bps=(\"return_growth_rate_15bps\", \"mean\"))\n",
    "#     -1\n",
    ").reset_index()\n",
    "\n",
    "agg_returns_df"
   ]
  },
  {
   "cell_type": "code",
   "execution_count": null,
   "metadata": {},
   "outputs": [],
   "source": []
  },
  {
   "cell_type": "code",
   "execution_count": null,
   "metadata": {},
   "outputs": [],
   "source": []
  },
  {
   "cell_type": "markdown",
   "metadata": {},
   "source": [
    "# Training Evaluation"
   ]
  },
  {
   "cell_type": "markdown",
   "metadata": {},
   "source": [
    "## Model Accuracy"
   ]
  },
  {
   "cell_type": "code",
   "execution_count": null,
   "metadata": {
    "ExecuteTime": {
     "end_time": "2020-07-27T14:55:01.330123Z",
     "start_time": "2020-07-27T14:55:01.310176Z"
    }
   },
   "outputs": [],
   "source": [
    "filtered_1min_df.head()"
   ]
  },
  {
   "cell_type": "code",
   "execution_count": null,
   "metadata": {
    "ExecuteTime": {
     "end_time": "2020-07-27T15:54:58.491851Z",
     "start_time": "2020-07-27T15:08:02.609125Z"
    },
    "code_folding": [],
    "scrolled": true
   },
   "outputs": [],
   "source": [
    "accuracy_scores = list()\n",
    "for target in targets_2state:\n",
    "    for features_spec, x_columns in feature_selections.items():  \n",
    "        # train\n",
    "        x_train = filtered_1min_df[ filtered_1min_df[\"time\"] < \"2019-11-01\" ][x_columns]\n",
    "        y_train = filtered_1min_df[ filtered_1min_df[\"time\"] < \"2019-11-01\" ][target]                        \n",
    "        # test\n",
    "        x_test = filtered_1min_df[ (filtered_1min_df[\"time\"] >= \"2019-11-01\") ][x_columns]\n",
    "        y_test = filtered_1min_df[ (filtered_1min_df[\"time\"] >= \"2019-11-01\") ][target]            \n",
    "#         for model_name, model_fullname in {\"ann\": \"Deep Neural Network\"}.items():\n",
    "        for model_name, model_fullname in MODEL_NAMES.items():\n",
    "            print(f\"../models/{model_name}/{model_name}_{features_spec}_{target}.pkl\")\n",
    "            try:\n",
    "                clf = joblib.load(f\"../models/{model_name}/{model_name}_{features_spec}_{target}.pkl\")\n",
    "                # train\n",
    "                # accuracy scores\n",
    "                accuracy_train = clf.score( x_train, y_train)\n",
    "                accuracy_test = clf.score( x_test, y_test)\n",
    "                accuracy_scores.append({\n",
    "                    \"model\": model_name,\n",
    "                    \"feature_selection\": features_spec,\n",
    "                    \"target\": target,\n",
    "                    \"accuracy_train\": accuracy_train,\n",
    "                    \"accuracy_test\": accuracy_test,                \n",
    "                })\n",
    "            except:\n",
    "                print(\"EXCEPTION\")\n",
    "accuracy_scores"
   ]
  },
  {
   "cell_type": "code",
   "execution_count": null,
   "metadata": {
    "ExecuteTime": {
     "end_time": "2020-07-27T16:42:08.254450Z",
     "start_time": "2020-07-27T16:42:08.238493Z"
    }
   },
   "outputs": [],
   "source": [
    "accuracies_df = (\n",
    "    pd.DataFrame(accuracy_scores)\n",
    "    .sort_values(by=[\"model\", \"feature_selection\", \"target\"])\n",
    "    \n",
    ")\n",
    "accuracies_df[\"feature_selection\"] = accuracies_df[\"feature_selection\"].str.replace(\"_\", \" \")\n",
    "accuracies_df[\"target\"] = accuracies_df[\"target\"].str.replace(\"future_2state_movement_\", \"\")\n",
    "accuracies_df = accuracies_df.set_index([\"model\", \"feature_selection\", \"target\"])\n",
    "accuracies_df"
   ]
  },
  {
   "cell_type": "code",
   "execution_count": null,
   "metadata": {
    "ExecuteTime": {
     "end_time": "2020-07-27T14:57:30.734833Z",
     "start_time": "2020-07-27T14:57:30.628128Z"
    }
   },
   "outputs": [],
   "source": [
    "accuracies_df = pd.read_csv(\"../results/accuracy_train_test.csv\")\n",
    "# accuracies_df = (\n",
    "#     accuracies_df\n",
    "#     [ accuracies_df[\"model\"] != \"ann\" ]\n",
    "# )\n",
    "accuracies_df = (\n",
    "    pd.concat([accuracies_df, accuracy_scores_df], ignore_index=False)\n",
    "    .sort_values(by=[\"model\", \"feature_selection\", \"target\"])\n",
    ")\n",
    "accuracies_df"
   ]
  },
  {
   "cell_type": "code",
   "execution_count": null,
   "metadata": {},
   "outputs": [],
   "source": []
  },
  {
   "cell_type": "code",
   "execution_count": null,
   "metadata": {
    "ExecuteTime": {
     "end_time": "2020-07-27T14:57:30.738822Z",
     "start_time": "2020-07-27T14:56:16.237Z"
    }
   },
   "outputs": [],
   "source": [
    "accuracies_df[\"feature_selection\"] = accuracies_df[\"feature_selection\"].str.replace(\"_\", \" \")\n",
    "accuracies_df[\"target\"] = accuracies_df[\"target\"].str.replace(\"future_2state_movement_\", \"\")\n",
    "accuracies_df"
   ]
  },
  {
   "cell_type": "code",
   "execution_count": null,
   "metadata": {
    "ExecuteTime": {
     "end_time": "2020-07-11T13:44:30.271815Z",
     "start_time": "2020-07-11T13:44:30.268824Z"
    }
   },
   "outputs": [],
   "source": [
    "# accuracy_scores_df = (\n",
    "#     pd.concat([accuracy_scores_df, ann_accuracy_scores_df], ignore_index=False)\n",
    "#     .sort_values(by=[\"model\", \"feature_selection\", \"target\"])\n",
    "# )\n",
    "# accuracy_scores_df.head()"
   ]
  },
  {
   "cell_type": "code",
   "execution_count": null,
   "metadata": {
    "ExecuteTime": {
     "end_time": "2020-07-27T16:43:20.218425Z",
     "start_time": "2020-07-27T16:43:19.713358Z"
    }
   },
   "outputs": [],
   "source": [
    "accuracies_df.to_excel(\"../results/accuracy_train_test.xlsx\", sheet_name='accuracy')"
   ]
  },
  {
   "cell_type": "code",
   "execution_count": null,
   "metadata": {},
   "outputs": [],
   "source": []
  },
  {
   "cell_type": "markdown",
   "metadata": {
    "heading_collapsed": true
   },
   "source": [
    "## ROC"
   ]
  },
  {
   "cell_type": "code",
   "execution_count": null,
   "metadata": {
    "ExecuteTime": {
     "end_time": "2020-07-06T12:40:04.910961Z",
     "start_time": "2020-07-06T12:38:15.235995Z"
    },
    "hidden": true
   },
   "outputs": [],
   "source": [
    "top10_1min_df = pd.read_csv(\n",
    "    f\"../data/1min/top10_2019_train_test.csv.gz\",\n",
    "    sep=',',\n",
    "    parse_dates=[\"time\"],\n",
    "    index_col=['time', 'pair'],\n",
    "    infer_datetime_format=True,\n",
    "    compression='gzip',\n",
    ")\n",
    "top10_1min_df.head()\n",
    "\n",
    "filtered_1min_df = (\n",
    "    top10_1min_df\n",
    "    [ top10_1min_df[ f\"volume_scaled\"].shift(-1) != 0 ]\n",
    "    .dropna()\n",
    ")"
   ]
  },
  {
   "cell_type": "code",
   "execution_count": null,
   "metadata": {
    "ExecuteTime": {
     "end_time": "2020-07-06T12:40:09.097316Z",
     "start_time": "2020-07-06T12:40:08.561730Z"
    },
    "hidden": true
   },
   "outputs": [],
   "source": [
    "models = [\"logistic\", \"forest\"]\n",
    "model_names = {\n",
    "    \"logistic\": \"Logistic Regression\",\n",
    "    \"forest\": \"Random Forest\",\n",
    "    \"adabost\": \"AdaBoost\",\n",
    "}\n",
    "x_columns = [ col for col in  top10_1min_df.columns if \"return\" in col and \"future\" not in col ]\n",
    "target = [\"future_2state_movement_120min\"]\n",
    "# [\"logistic\", \"forest\", ]\n",
    "x_test = filtered_1min_df[ (filtered_1min_df.index.get_level_values(\"time\") >= \"2019-11-01\") ][x_columns]\n",
    "y_test = filtered_1min_df[ (filtered_1min_df.index.get_level_values(\"time\") >= \"2019-11-01\") ][target]   "
   ]
  },
  {
   "cell_type": "code",
   "execution_count": null,
   "metadata": {
    "ExecuteTime": {
     "end_time": "2020-06-22T18:56:11.676842Z",
     "start_time": "2020-06-22T18:54:57.258793Z"
    },
    "hidden": true
   },
   "outputs": [],
   "source": [
    "for model_name, model_fullname in MODEL_NAMES.items():\n",
    "    print(model_fullname)\n",
    "    for target in [\"future_2state_movement_120min\"]:     \n",
    "        x_test = filtered_1min_df[ (filtered_1min_df.index.get_level_values(\"time\") >= \"2019-11-01\") ][x_columns]\n",
    "        y_test = filtered_1min_df[ (filtered_1min_df.index.get_level_values(\"time\") >= \"2019-11-01\") ][target]            \n",
    "        # get predictions\n",
    "        clf = joblib.load(f\"../models/{model_name}/{model_name}_no_volume_{target}.pkl\")\n",
    "        predictions = clf.predict_proba( x_test )\n",
    "        \n",
    "        y_pred_proba = clf.predict_proba(x_test)[::,1]\n",
    "        fpr, tpr, _ = roc_curve(y_test,  y_pred_proba)\n",
    "        auc = roc_auc_score(y_test, y_pred_proba)\n",
    "        plt.plot(fpr, tpr, label=f\"AUC={ round(auc, 4) }\")\n",
    "        plt.title(f\"ROC-Curve for {model_fullname}\")\n",
    "        plt.legend(loc=4)\n",
    "        plt.ylabel('True Positive Rate')\n",
    "        plt.xlabel('False Positive Rate')\n",
    "        plt.tight_layout()\n",
    "        # draw diagonal\n",
    "        ident = [0.0, 1.0]\n",
    "        plt.plot(ident , ident, ls=\"--\", color=\"red\")\n",
    "        plt.show()\n",
    "        plt.savefig(f\"../results/{model_name}/plots/roc-curve.png\")\n",
    "        plt.clf()"
   ]
  },
  {
   "cell_type": "markdown",
   "metadata": {},
   "source": [
    "## Precision and Recall"
   ]
  },
  {
   "cell_type": "code",
   "execution_count": null,
   "metadata": {
    "ExecuteTime": {
     "end_time": "2020-07-29T17:33:16.299875Z",
     "start_time": "2020-07-29T17:33:16.291855Z"
    }
   },
   "outputs": [],
   "source": [
    "def plot_prec_recall_vs_tresh(y_test, y_scores, count=True, title=\"Precision and Recall for different Thresholds\", xlim=(0.5, 0.625)):\n",
    "    fig, ax = plt.subplots()\n",
    "    prec, rec, tre = precision_recall_curve(y_test, y_scores[:,1], )\n",
    "    ax.plot(tre, prec[:-1], 'b--', label='precision')\n",
    "    ax.plot(tre, rec[:-1], 'g--', label = 'recall')\n",
    "    ax.set_xlabel('Threshold')\n",
    "#     ax.legend(loc='upper right')    \n",
    "    ax.set_ylim([0,1])\n",
    "#     ax.set_xlim(xlim)\n",
    "    ax.set_title(title)\n",
    "    if count:\n",
    "        ax2 = ax.twinx()  # instantiate a second axes that shares the same x-axis\n",
    "        x_thresholds = np.linspace(0.5, max(tre), num=100)\n",
    "        y_prob_count = list()\n",
    "        for threshold in x_thresholds:\n",
    "            y_prob_count.append( len([ x for x in (y_scores[:,1] > threshold) if x]) ) \n",
    "        color = 'tab:red'\n",
    "        ax2.set_ylabel('Count')  # we already handled the x-label with ax1\n",
    "        ax2.plot(x_thresholds, y_prob_count, color=color, label='positive-classifications')\n",
    "#         ax2.legend(loc='upper right')  \n",
    "        ax2.set_yscale(\"log\")\n",
    "        ax2.tick_params(axis='y')\n",
    "#         ax2.set_xlim(xlim)\n",
    "        fig.tight_layout()  # otherwise the right y-label is slightly clipped\n",
    "        fig.legend(loc=\"upper right\", \n",
    "                   bbox_to_anchor=(1, 0.6), \n",
    "                   bbox_transform=ax.transAxes)\n",
    "        return fig, ax, ax2\n",
    "    return fig, ax"
   ]
  },
  {
   "cell_type": "code",
   "execution_count": null,
   "metadata": {
    "ExecuteTime": {
     "end_time": "2020-07-29T17:39:11.398424Z",
     "start_time": "2020-07-29T17:33:29.620522Z"
    }
   },
   "outputs": [],
   "source": [
    "# for test set\n",
    "for model_name, model_fullname in MODEL_NAMES.items():\n",
    "    print(model_fullname)\n",
    "    for target in targets_2state:     \n",
    "        for volume_spec, columns in feature_selections.items():\n",
    "            print(model_name, target, volume_spec)\n",
    "            x_test = filtered_1min_df[ (filtered_1min_df[\"time\"] >= \"2019-11-01\") ][columns]\n",
    "            y_test = filtered_1min_df[ (filtered_1min_df[\"time\"] >= \"2019-11-01\") ][target]    \n",
    "            clf = joblib.load(f\"../models/{model_name}/{model_name}_{volume_spec}_{target}.pkl\")\n",
    "            y_scores = clf.predict_proba(x_test)\n",
    "#             prec, rec, tre = precision_recall_curve(y_test, y_scores[:,1], )    \n",
    "            fig, *_ = plot_prec_recall_vs_tresh(\n",
    "                y_test, \n",
    "                y_scores, \n",
    "                title=f\"Precision and Recall for different thresholds for {model_fullname} ({volume_spec.replace('_', ' ')}, {target.replace('future_2state_movement_', '')})\",\n",
    "                count=True,\n",
    "            )\n",
    "            plt.savefig(f\"../results/{model_name}/plots/{model_name}_{volume_spec}_{target}_precision_vs_threshold.png\") \n",
    "            plt.clf()"
   ]
  },
  {
   "cell_type": "code",
   "execution_count": null,
   "metadata": {
    "ExecuteTime": {
     "end_time": "2020-07-28T18:01:36.887399Z",
     "start_time": "2020-07-28T17:21:04.392630Z"
    }
   },
   "outputs": [],
   "source": [
    "# training set\n",
    "for model_name, model_fullname in MODEL_NAMES.items():\n",
    "    print(model_fullname)\n",
    "    for target in targets_2state:     \n",
    "        for volume_spec, columns in feature_selections.items():\n",
    "            print(model_name, target, volume_spec)\n",
    "            x_train = filtered_1min_df[ (filtered_1min_df[\"time\"] < \"2019-11-01\") ][columns]\n",
    "            y_train = filtered_1min_df[ (filtered_1min_df[\"time\"] < \"2019-11-01\") ][target]    \n",
    "            clf = joblib.load(f\"../models/{model_name}/{model_name}_{volume_spec}_{target}.pkl\")\n",
    "            y_scores = clf.predict_proba(x_train)\n",
    "            fig, *_ = plot_prec_recall_vs_tresh(\n",
    "                y_train, \n",
    "                y_scores, \n",
    "                title=f\"Precision and Recall on training set for different thresholds for {model_fullname} ({volume_spec.replace('_', ' ')}, {target.replace('future_2state_movement_', '')})\",\n",
    "                count=True,\n",
    "            )\n",
    "            plt.savefig(f\"../results/{model_name}/plots/train_{model_name}_{volume_spec}_{target}_precision_vs_threshold.png\") "
   ]
  },
  {
   "cell_type": "markdown",
   "metadata": {},
   "source": [
    "# Return over time"
   ]
  },
  {
   "cell_type": "markdown",
   "metadata": {},
   "source": [
    "## Cumulative Portfolio Return"
   ]
  },
  {
   "cell_type": "code",
   "execution_count": null,
   "metadata": {
    "ExecuteTime": {
     "end_time": "2020-07-30T10:41:09.559862Z",
     "start_time": "2020-07-30T10:40:39.374399Z"
    }
   },
   "outputs": [],
   "source": [
    "top10_ohlc_df = pd.read_csv(\n",
    "    f\"../data/1min/top10_merged.csv.gz\",\n",
    "    sep=',',\n",
    "    parse_dates=[\"time\"],\n",
    "#     index_col=['time', 'pair'],\n",
    "    infer_datetime_format=True,\n",
    "    compression='gzip',\n",
    ")\n",
    "top10_ohlc_df.head()"
   ]
  },
  {
   "cell_type": "code",
   "execution_count": null,
   "metadata": {
    "ExecuteTime": {
     "end_time": "2020-07-30T10:41:16.664863Z",
     "start_time": "2020-07-30T10:41:16.435476Z"
    }
   },
   "outputs": [],
   "source": [
    "top10_ohlc_df = top10_ohlc_df[ (top10_ohlc_df[\"time\"] >= \"2019-11-01\") & (top10_ohlc_df[\"time\"] < \"2020-01-01\")]\n",
    "top10_ohlc_df.head()"
   ]
  },
  {
   "cell_type": "code",
   "execution_count": null,
   "metadata": {
    "ExecuteTime": {
     "end_time": "2020-07-30T10:42:43.915048Z",
     "start_time": "2020-07-30T10:42:43.910062Z"
    }
   },
   "outputs": [],
   "source": [
    "top10_ohlc_df.shape"
   ]
  },
  {
   "cell_type": "code",
   "execution_count": null,
   "metadata": {
    "ExecuteTime": {
     "end_time": "2020-07-30T10:42:49.536521Z",
     "start_time": "2020-07-30T10:42:48.996069Z"
    }
   },
   "outputs": [],
   "source": [
    "pf_returns_df = (\n",
    "    top10_ohlc_df\n",
    "    .sort_values([\"pair\", \"time\"])\n",
    "    .groupby([\n",
    "        pd.Grouper(key=\"pair\"),\n",
    "        pd.Grouper(key=\"time\", freq=\"Y\")\n",
    "    ])\n",
    "    .agg(\n",
    "        first_price=(\"middle_median\", \"first\"),\n",
    "        last_price=(\"middle_median\", \"last\"),\n",
    "    )\n",
    "    .reset_index()\n",
    ")\n",
    "\n",
    "pf_returns_df[\"long_growth\"] = pf_returns_df[\"last_price\"] / pf_returns_df[\"first_price\"]\n",
    "pf_returns_df[\"short_growth\"] = pf_returns_df[\"first_price\"] / pf_returns_df[\"last_price\"]\n",
    "\n",
    "pf_returns_df"
   ]
  },
  {
   "cell_type": "code",
   "execution_count": null,
   "metadata": {
    "ExecuteTime": {
     "end_time": "2020-07-30T10:43:07.629984Z",
     "start_time": "2020-07-30T10:43:07.623028Z"
    }
   },
   "outputs": [],
   "source": [
    "(\n",
    "    pf_returns_df\n",
    "    .agg({\"short_growth\": \"mean\"})\n",
    "    - 1\n",
    ")"
   ]
  },
  {
   "cell_type": "code",
   "execution_count": null,
   "metadata": {
    "ExecuteTime": {
     "end_time": "2020-06-30T17:34:18.011244Z",
     "start_time": "2020-06-30T17:34:17.424789Z"
    }
   },
   "outputs": [],
   "source": [
    "pf_daily_returns_df = (\n",
    "    top10_ohlc_df\n",
    "    .sort_values([\"pair\", \"time\"])\n",
    "    .groupby([\n",
    "        pd.Grouper(key=\"pair\"),\n",
    "        pd.Grouper(key=\"time\", freq=\"D\")\n",
    "    ])\n",
    "    .agg(\n",
    "        first_price=(\"middle_median\", \"first\"),\n",
    "        last_price=(\"middle_median\", \"last\"),\n",
    "    )\n",
    "    \n",
    ").reset_index()\n",
    "\n",
    "pf_daily_returns_df[\"long_growth\"] = pf_daily_returns_df[\"last_price\"] /  pf_daily_returns_df[\"first_price\"]\n",
    "pf_daily_returns_df[\"short_growth\"] = pf_daily_returns_df[\"first_price\"] /  pf_daily_returns_df[\"last_price\"]\n",
    "\n",
    "pf_daily_returns_df"
   ]
  },
  {
   "cell_type": "code",
   "execution_count": null,
   "metadata": {
    "ExecuteTime": {
     "end_time": "2020-06-30T17:34:54.280257Z",
     "start_time": "2020-06-30T17:34:54.265297Z"
    },
    "scrolled": true
   },
   "outputs": [],
   "source": [
    "pf_daily_returns_df[[\"long_growth_cum\", \"short_growth_cum\"]] = (\n",
    "    pf_daily_returns_df\n",
    "    .groupby(\"pair\")\n",
    "    .cumprod()\n",
    "    [[\"long_growth\", \"short_growth\"]]\n",
    ")\n",
    " \n",
    "    \n",
    "pf_daily_returns_df[[\"long_return_cum\", \"short_return_cum\"]] = pf_daily_returns_df[[\"long_growth_cum\", \"short_growth_cum\"]] - 1\n",
    "pf_daily_returns_df[[]].mean(axis=1)\n",
    "\n",
    "pf_daily_returns_df[\"model\"] = \"equal-weight-pf\""
   ]
  },
  {
   "cell_type": "code",
   "execution_count": null,
   "metadata": {
    "ExecuteTime": {
     "end_time": "2020-06-30T17:34:55.827137Z",
     "start_time": "2020-06-30T17:34:55.815155Z"
    }
   },
   "outputs": [],
   "source": [
    "pf_daily_returns_df.head()"
   ]
  },
  {
   "cell_type": "code",
   "execution_count": null,
   "metadata": {
    "ExecuteTime": {
     "end_time": "2020-06-30T17:39:25.496016Z",
     "start_time": "2020-06-30T17:39:24.694154Z"
    }
   },
   "outputs": [],
   "source": [
    "pf_daily_returns_plot_df = pf_daily_returns_df.copy()\n",
    "pf_daily_returns_plot_df = pf_daily_returns_plot_df.rename(columns={\n",
    "    \"pair\": \"Pair\",\n",
    "    \"short_return_cum\": \"Cumulative return\",\n",
    "    \"time\": \"Date\",\n",
    "})\n",
    "pf_daily_returns_plot_df[\"Pair\"] = pf_daily_returns_plot_df[\"Pair\"].str.upper()\n",
    "pf_daily_returns_plot_df[\"Pair\"] = pf_daily_returns_plot_df[\"Pair\"].str.replace(\"USD\", \"/USD\")\n",
    "\n",
    "\n",
    "ax = sns.lineplot(x=\"Date\", y=\"Cumulative return\", hue=\"Pair\", \n",
    "                  data=pf_daily_returns_plot_df)\n",
    "ax.legend(loc='center left', bbox_to_anchor=(1, 0.5))\n",
    "ax.axhline(y=0, color='r', linestyle='--')\n",
    "ax.yaxis.set_major_formatter(ticker.PercentFormatter(1))\n",
    "ax.xaxis.set_major_formatter(mdates.DateFormatter(\"%d.%m\"))\n",
    "ax.xaxis.set_minor_formatter(mdates.DateFormatter(\"%d.%m\"))\n",
    "ax.set_xlabel(\"Date\")\n",
    "ax.set_ylabel(\"Cumulative Return\")\n",
    "ax.set_title(\"Daily cumulative short returns in the trading period\")\n",
    "plt.savefig(\"../results/all_top_10_daily_cum_returns.png\", bbox_inches='tight')"
   ]
  },
  {
   "cell_type": "code",
   "execution_count": null,
   "metadata": {
    "ExecuteTime": {
     "end_time": "2020-06-30T17:41:54.763963Z",
     "start_time": "2020-06-30T17:41:54.751995Z"
    }
   },
   "outputs": [],
   "source": [
    "pf_daily_returns_df = (\n",
    "    pf_daily_returns_df\n",
    "    .groupby(\"time\")\n",
    "    .mean()\n",
    "    [[\"long_return_cum\", \"short_return_cum\"]]\n",
    "    .reset_index()\n",
    ")\n",
    "pf_daily_returns_df.head()"
   ]
  },
  {
   "cell_type": "code",
   "execution_count": null,
   "metadata": {
    "ExecuteTime": {
     "end_time": "2020-06-30T17:45:19.520337Z",
     "start_time": "2020-06-30T17:45:19.514338Z"
    }
   },
   "outputs": [],
   "source": [
    "pf_daily_returns_df[\"time\"].values[-1]"
   ]
  },
  {
   "cell_type": "code",
   "execution_count": null,
   "metadata": {
    "ExecuteTime": {
     "end_time": "2020-06-30T17:54:27.251168Z",
     "start_time": "2020-06-30T17:54:26.977899Z"
    }
   },
   "outputs": [],
   "source": [
    "ax = sns.lineplot(x=\"time\", y=\"short_return_cum\", data=pf_daily_returns_df)\n",
    "\n",
    "ax.axhline(y=0, color='r', linestyle='--')\n",
    "ax.yaxis.set_major_formatter(ticker.PercentFormatter(1))\n",
    "ax.xaxis.set_major_formatter(mdates.DateFormatter(\"%d.%m\"))\n",
    "ax.xaxis.set_minor_formatter(mdates.DateFormatter(\"%d.%m\"))\n",
    "ax.set_title(\"Daily cumulative short equal-weight portfolio returns\")\n",
    "ax.set_xlabel(\"Date\")\n",
    "ax.set_ylabel(\"Cumulative Returns\")\n",
    "ax.annotate(\n",
    "    f'{round(pf_daily_returns_df[\"short_return_cum\"].values[-1]*100, 2)}%',\n",
    "    xy=(mdates.date2num(pf_daily_returns_df[\"time\"].values[-1]) - 1.75,\n",
    "        pf_daily_returns_df[\"short_return_cum\"].values[-1] + 0.02),\n",
    "    fontsize=15,\n",
    ")\n",
    "ax.plot( pf_daily_returns_df[\"time\"].values[-1], pf_daily_returns_df[\"short_return_cum\"].values[-1], 'bo')\n",
    "# plt.savefig(\"../results/equal_weight_pf_daily_returns.png\")"
   ]
  },
  {
   "cell_type": "code",
   "execution_count": null,
   "metadata": {},
   "outputs": [],
   "source": []
  },
  {
   "cell_type": "markdown",
   "metadata": {},
   "source": [
    "## Simple Daily Returns Models vs Portfolio"
   ]
  },
  {
   "cell_type": "code",
   "execution_count": null,
   "metadata": {
    "ExecuteTime": {
     "end_time": "2020-07-28T18:22:03.253626Z",
     "start_time": "2020-07-28T18:22:03.234677Z"
    }
   },
   "outputs": [],
   "source": [
    "trading_returns_df.head()"
   ]
  },
  {
   "cell_type": "code",
   "execution_count": null,
   "metadata": {
    "ExecuteTime": {
     "end_time": "2020-07-28T18:22:13.295414Z",
     "start_time": "2020-07-28T18:22:11.898151Z"
    }
   },
   "outputs": [],
   "source": [
    "trading_returns_df[\"open_time\"] = pd.to_datetime(trading_returns_df[\"open_time\"], infer_datetime_format=True)"
   ]
  },
  {
   "cell_type": "code",
   "execution_count": null,
   "metadata": {
    "ExecuteTime": {
     "end_time": "2020-07-28T18:22:21.589243Z",
     "start_time": "2020-07-28T18:22:21.568289Z"
    }
   },
   "outputs": [],
   "source": [
    "trading_returns_df.head()"
   ]
  },
  {
   "cell_type": "code",
   "execution_count": null,
   "metadata": {
    "ExecuteTime": {
     "end_time": "2020-07-28T18:35:34.147390Z",
     "start_time": "2020-07-28T18:35:34.133417Z"
    }
   },
   "outputs": [],
   "source": [
    "max_agg_return_df = pd.read_csv(\"../results/_general/max_agg_returns.csv\")\n",
    "max_agg_return_df"
   ]
  },
  {
   "cell_type": "code",
   "execution_count": null,
   "metadata": {
    "ExecuteTime": {
     "end_time": "2020-07-28T18:35:25.499890Z",
     "start_time": "2020-07-28T18:35:25.488895Z"
    }
   },
   "outputs": [],
   "source": [
    "pd.merge( [trading_returns_df, max_agg_return_df], on=[\"model\", \"volume_spec\", \"target\"], how=\"left\")"
   ]
  },
  {
   "cell_type": "code",
   "execution_count": null,
   "metadata": {
    "ExecuteTime": {
     "end_time": "2020-07-28T18:22:30.371762Z",
     "start_time": "2020-07-28T18:22:29.980803Z"
    }
   },
   "outputs": [],
   "source": [
    "agg_returns_df = (\n",
    "    (\n",
    "        (   \n",
    "            trading_returns_df\n",
    "            [ ( (trading_returns_df[\"threshold\"] == 0.6) & (trading_returns_df[\"model\"] == \"adaboost\") & (trading_returns_df[\"model\"] == \"adaboost\") ) \n",
    "             |   \n",
    "            ]\n",
    "            .groupby([\"model\", \"volume_spec\", \"target\", \"type\", \"position_num\", pd.Grouper(key='open_time', freq='D')])\n",
    "            .agg({\"return_growth_rate_15bps\": \"prod\"})\n",
    "            .reset_index()\n",
    "        )\n",
    "            .groupby([\"model\", \"volume_spec\", \"target\", \"type\", pd.Grouper(key='open_time', freq='D')])\n",
    "            .mean()\n",
    "            .reset_index()\n",
    "    )\n",
    "    .groupby([\"model\", \"volume_spec\", \"target\", pd.Grouper(key='open_time', freq='D')])\n",
    "    .agg(daily_return_15bps=(\"return_growth_rate_15bps\", \"mean\"))\n",
    "    -1\n",
    ").reset_index()\n",
    "\n",
    "agg_returns_df.head()"
   ]
  },
  {
   "cell_type": "code",
   "execution_count": null,
   "metadata": {
    "ExecuteTime": {
     "end_time": "2020-07-28T18:22:39.569737Z",
     "start_time": "2020-07-28T18:22:38.792223Z"
    }
   },
   "outputs": [],
   "source": [
    "for spec in agg_returns_df[\"volume_spec\"].unique():\n",
    "    for target in agg_returns_df[\"target\"].unique():\n",
    "        df = agg_returns_df[\n",
    "            (agg_returns_df[\"volume_spec\"] == spec)\n",
    "            & (agg_returns_df[\"target\"] == target)\n",
    "        ]\n",
    "        ax = sns.lineplot(x=\"open_time\", y=\"daily_return_15bps\", hue=\"model\", \n",
    "                          data=df)\n",
    "        ax.axhline(y=0, color='r', linestyle='--')\n",
    "        ax.yaxis.set_major_formatter(ticker.PercentFormatter(1))\n",
    "        ax.xaxis.set_major_formatter(mdates.DateFormatter(\"%d.%m\"))\n",
    "        ax.xaxis.set_minor_formatter(mdates.DateFormatter(\"%d.%m\"))\n",
    "        ax.set_title(f\"Daily mean returns in the trading period for {spec}, {target}\")\n",
    "        plt.show()\n",
    "        plt.clf()\n",
    "    # plt.savefig(\"../results/all_dailymean_returns.png\")"
   ]
  },
  {
   "cell_type": "markdown",
   "metadata": {},
   "source": [
    "##  Daily Cumulative Model Returns"
   ]
  },
  {
   "cell_type": "code",
   "execution_count": null,
   "metadata": {
    "ExecuteTime": {
     "end_time": "2020-07-28T18:22:48.179712Z",
     "start_time": "2020-07-28T18:22:47.856575Z"
    }
   },
   "outputs": [],
   "source": [
    "cum_returns_df = ( \n",
    "    trading_returns_df\n",
    "    [ (trading_returns_df[\"threshold\"] == 0.6) \n",
    "     & (trading_returns_df[\"model\"] != \"adaboost\") \n",
    "    ]\n",
    "    .groupby([\"model\", \"volume_spec\", \"target\", \"type\", \"position_num\", pd.Grouper(key='open_time', freq='D')])\n",
    "    .agg({\"return_growth_rate_15bps\": \"prod\"})\n",
    "    .reset_index()\n",
    ")\n",
    "cum_returns_df.head()"
   ]
  },
  {
   "cell_type": "code",
   "execution_count": null,
   "metadata": {
    "ExecuteTime": {
     "end_time": "2020-07-28T18:22:56.628116Z",
     "start_time": "2020-07-28T18:22:56.599193Z"
    }
   },
   "outputs": [],
   "source": [
    "cum_returns_df[\"cumulative_growth_15bps\"] = (\n",
    "    cum_returns_df\n",
    "    .groupby([\"model\", \"volume_spec\", \"target\", \"type\", \"position_num\",])\n",
    "    .cumprod()\n",
    "    [\"return_growth_rate_15bps\"]\n",
    ")\n",
    "cum_returns_df.head()"
   ]
  },
  {
   "cell_type": "code",
   "execution_count": null,
   "metadata": {
    "ExecuteTime": {
     "end_time": "2020-07-28T18:23:05.027669Z",
     "start_time": "2020-07-28T18:23:04.984784Z"
    }
   },
   "outputs": [],
   "source": [
    "cum_returns_df = (\n",
    "    (\n",
    "        cum_returns_df\n",
    "        .groupby([\"model\", \"volume_spec\", \"target\", \"type\", \"open_time\"])\n",
    "        .agg(\n",
    "            return_15bps= (\"return_growth_rate_15bps\", \"mean\"),\n",
    "            cumulative_return_15bps= (\"cumulative_growth_15bps\", \"mean\"),\n",
    "        )\n",
    "        .reset_index()\n",
    "    )\n",
    "    .groupby([\"model\", \"volume_spec\", \"target\", \"open_time\"])\n",
    "    .agg(\n",
    "        return_15bps= (\"return_15bps\", \"mean\"),\n",
    "        cumulative_return_15bps= (\"cumulative_return_15bps\", \"mean\"),\n",
    "    )    \n",
    "    - 1\n",
    ").reset_index()\n",
    "    \n",
    "cum_returns_df.head()"
   ]
  },
  {
   "cell_type": "code",
   "execution_count": null,
   "metadata": {},
   "outputs": [],
   "source": []
  },
  {
   "cell_type": "code",
   "execution_count": null,
   "metadata": {
    "ExecuteTime": {
     "end_time": "2020-07-28T18:23:14.137332Z",
     "start_time": "2020-07-28T18:23:13.377337Z"
    }
   },
   "outputs": [],
   "source": [
    "for spec in agg_returns_df[\"volume_spec\"].unique():\n",
    "    for target in agg_returns_df[\"target\"].unique():\n",
    "        print(spec, target)\n",
    "        df = cum_returns_df[\n",
    "            (cum_returns_df[\"volume_spec\"] == spec)\n",
    "            & (cum_returns_df[\"target\"] == target)\n",
    "        ]\n",
    "        df = df.rename(columns={\n",
    "                              \"open_time\": \"Date\", \"cumulative_return_15bps\": \"Cumulative Return\", \"model\": \"Model\"\n",
    "                          })\n",
    "\n",
    "        df[\"Model\"] = df[\"Model\"].str.capitalize()\n",
    "\n",
    "        ax = sns.lineplot(x=\"Date\", y=\"Cumulative Return\", hue=\"Model\", data=df)\n",
    "        ax.axhline(y=0, color='r', linestyle='--')\n",
    "        ax.yaxis.set_major_formatter(ticker.PercentFormatter(1))\n",
    "        ax.xaxis.set_major_formatter(mdates.DateFormatter(\"%d.%m\"))\n",
    "        ax.xaxis.set_minor_formatter(mdates.DateFormatter(\"%d.%m\"))\n",
    "        ax.set_title(f\"Daily cumulative returns in the trading period ({spec}, {target})\")\n",
    "        plt.show()"
   ]
  },
  {
   "cell_type": "code",
   "execution_count": null,
   "metadata": {},
   "outputs": [],
   "source": []
  },
  {
   "cell_type": "markdown",
   "metadata": {},
   "source": [
    "# RF Return with variance"
   ]
  },
  {
   "cell_type": "code",
   "execution_count": null,
   "metadata": {
    "ExecuteTime": {
     "end_time": "2020-06-24T18:46:15.353240Z",
     "start_time": "2020-06-24T18:46:15.299384Z"
    }
   },
   "outputs": [],
   "source": [
    "rf_agg_returns_df = (\n",
    "    (\n",
    "        (   \n",
    "            trading_returns_df\n",
    "            [ (trading_returns_df[\"threshold\"] == 0.6) \n",
    "             & (trading_returns_df[\"model\"] == \"forest\") \n",
    "            ]\n",
    "            .groupby([\"type\", \"position_num\", pd.Grouper(key='open_time', freq='D')])\n",
    "            .agg(\n",
    "                return_growth_rate_15bps=(\"return_growth_rate_15bps\", \"prod\"),\n",
    "            ) - 1\n",
    "        )\n",
    "        .groupby([pd.Grouper(level='type'), pd.Grouper(level=\"open_time\")])\n",
    "        .agg(\n",
    "            return_rate_variance_15bps=(\"return_growth_rate_15bps\", \"std\"),\n",
    "            return_rate_15bps=(\"return_growth_rate_15bps\", \"mean\"),\n",
    "        )\n",
    "#         .reset_index()\n",
    "    )\n",
    "#     - 1\n",
    ").reset_index()\n",
    "\n",
    "rf_agg_returns_df.head()"
   ]
  },
  {
   "cell_type": "code",
   "execution_count": null,
   "metadata": {
    "ExecuteTime": {
     "end_time": "2020-06-24T18:53:37.312598Z",
     "start_time": "2020-06-24T18:53:37.115138Z"
    }
   },
   "outputs": [],
   "source": [
    "ax = sns.lineplot(x=\"open_time\", y=\"return_rate_15bps\", hue=\"type\", data=rf_agg_returns_df)\n",
    "ax.axhline(y=0, color='r', linestyle='--')\n",
    "\n",
    "df_long =  rf_agg_returns_df[ rf_agg_returns_df[\"type\"] == \"long\" ]\n",
    "ax.fill_between(df_long[\"open_time\"], df_long[\"return_rate_15bps\"] - df_long[\"return_rate_variance_15bps\"], df_long[\"return_rate_15bps\"] + df_long[\"return_rate_variance_15bps\"])"
   ]
  },
  {
   "cell_type": "code",
   "execution_count": null,
   "metadata": {
    "ExecuteTime": {
     "end_time": "2020-06-24T18:50:36.978781Z",
     "start_time": "2020-06-24T18:50:36.974781Z"
    }
   },
   "outputs": [],
   "source": [
    "l1 = ax.lines[0]\n",
    "ax.lines"
   ]
  },
  {
   "cell_type": "code",
   "execution_count": null,
   "metadata": {},
   "outputs": [],
   "source": []
  },
  {
   "cell_type": "code",
   "execution_count": null,
   "metadata": {},
   "outputs": [],
   "source": []
  },
  {
   "cell_type": "markdown",
   "metadata": {},
   "source": [
    "# Further analysis"
   ]
  },
  {
   "cell_type": "code",
   "execution_count": null,
   "metadata": {
    "ExecuteTime": {
     "end_time": "2020-07-30T12:00:42.907192Z",
     "start_time": "2020-07-30T12:00:42.902206Z"
    }
   },
   "outputs": [],
   "source": [
    "x_test.columns"
   ]
  },
  {
   "cell_type": "markdown",
   "metadata": {},
   "source": [
    "## Feature Importance"
   ]
  },
  {
   "cell_type": "code",
   "execution_count": 10,
   "metadata": {
    "ExecuteTime": {
     "end_time": "2020-07-31T08:35:14.133965Z",
     "start_time": "2020-07-31T08:35:04.967499Z"
    },
    "code_folding": [
     9,
     20,
     27
    ],
    "scrolled": false
   },
   "outputs": [
    {
     "name": "stdout",
     "output_type": "stream",
     "text": [
      "return no_volume future_2state_movement_120min\n"
     ]
    },
    {
     "data": {
      "image/png": "[encoded data removed]",
      "text/plain": [
       "<Figure size 1440x720 with 1 Axes>"
      ]
     },
     "metadata": {
      "needs_background": "light"
     },
     "output_type": "display_data"
    },
    {
     "name": "stdout",
     "output_type": "stream",
     "text": [
      "return with_volume future_2state_movement_120min\n"
     ]
    },
    {
     "data": {
      "text/plain": [
       "<Figure size 1080x360 with 0 Axes>"
      ]
     },
     "metadata": {},
     "output_type": "display_data"
    },
    {
     "data": {
      "image/png": "[encoded data removed]",
      "text/plain": [
       "<Figure size 1440x720 with 1 Axes>"
      ]
     },
     "metadata": {
      "needs_background": "light"
     },
     "output_type": "display_data"
    },
    {
     "name": "stdout",
     "output_type": "stream",
     "text": [
      "return no_volume future_2state_movement_240min\n"
     ]
    },
    {
     "data": {
      "text/plain": [
       "<Figure size 1080x360 with 0 Axes>"
      ]
     },
     "metadata": {},
     "output_type": "display_data"
    },
    {
     "data": {
      "image/png": "[encoded data removed]",
      "text/plain": [
       "<Figure size 1440x720 with 1 Axes>"
      ]
     },
     "metadata": {
      "needs_background": "light"
     },
     "output_type": "display_data"
    },
    {
     "name": "stdout",
     "output_type": "stream",
     "text": [
      "return with_volume future_2state_movement_240min\n"
     ]
    },
    {
     "data": {
      "text/plain": [
       "<Figure size 1080x360 with 0 Axes>"
      ]
     },
     "metadata": {},
     "output_type": "display_data"
    },
    {
     "data": {
      "image/png": "[encoded data removed]",
      "text/plain": [
       "<Figure size 1440x720 with 1 Axes>"
      ]
     },
     "metadata": {
      "needs_background": "light"
     },
     "output_type": "display_data"
    },
    {
     "name": "stdout",
     "output_type": "stream",
     "text": [
      "volume with_volume future_2state_movement_120min\n"
     ]
    },
    {
     "data": {
      "text/plain": [
       "<Figure size 1080x360 with 0 Axes>"
      ]
     },
     "metadata": {},
     "output_type": "display_data"
    },
    {
     "data": {
      "image/png": "[encoded data removed]",
      "text/plain": [
       "<Figure size 1440x720 with 1 Axes>"
      ]
     },
     "metadata": {
      "needs_background": "light"
     },
     "output_type": "display_data"
    },
    {
     "name": "stdout",
     "output_type": "stream",
     "text": [
      "volume with_volume future_2state_movement_240min\n"
     ]
    },
    {
     "data": {
      "text/plain": [
       "<Figure size 1080x360 with 0 Axes>"
      ]
     },
     "metadata": {},
     "output_type": "display_data"
    },
    {
     "data": {
      "image/png": "[encoded data removed]",
      "text/plain": [
       "<Figure size 1440x720 with 1 Axes>"
      ]
     },
     "metadata": {
      "needs_background": "light"
     },
     "output_type": "display_data"
    },
    {
     "data": {
      "text/plain": [
       "<Figure size 1080x360 with 0 Axes>"
      ]
     },
     "metadata": {},
     "output_type": "display_data"
    }
   ],
   "source": [
    "for feature_type in [\"return\", \"volume\"]:\n",
    "    for target in targets_2state:     \n",
    "        for volume_spec, columns in feature_selections.items():\n",
    "            if not (feature_type == \"volume\" and volume_spec == \"no_volume\"):\n",
    "                print(feature_type, volume_spec, target)\n",
    "                clf = joblib.load(f\"../models/forest/forest_{volume_spec}_{target}.pkl\")\n",
    "                x_test = filtered_1min_df[ (filtered_1min_df[\"time\"] >= \"2019-11-01\") ][columns]\n",
    "                y_test = filtered_1min_df[ (filtered_1min_df[\"time\"] >= \"2019-11-01\") ][target] \n",
    "\n",
    "                feature_importances = pd.DataFrame(\n",
    "                    {\n",
    "                        'importance': clf.best_estimator_.steps[1][1].feature_importances_[:len(columns)], \n",
    "                        \"feature\": columns,\n",
    "                    }\n",
    "                ) \n",
    "                replace_string = \"middle_return_\" if feature_type == \"return\" else \"volume_scaled_\"\n",
    "                feature_importances = feature_importances[ feature_importances[\"feature\"].str.contains(replace_string) ]\n",
    "        #         else:\n",
    "        #             feature_importances = feature_importances[ feature_importances[\"feature\"].str.contains(\"volume\") ]\n",
    "                \n",
    "                feature_importances[\"feature\"] = (\n",
    "                    feature_importances[\"feature\"]\n",
    "                    .str.replace(replace_string, \"\")\n",
    "                    .str.replace(\"min\", \"\")\n",
    "                    .astype(int)\n",
    "                )\n",
    "#                 fig = plt.figure()\n",
    "                ax = (\n",
    "                    feature_importances\n",
    "                    .sort_values(by=\"feature\")\n",
    "                    .plot(\n",
    "                        x=\"feature\",\n",
    "                        y=\"importance\",\n",
    "                        kind=\"bar\",\n",
    "                        figsize=(20,10),\n",
    "                    )\n",
    "                )\n",
    "                ax.set_title(f\"{feature_type.capitalize()} Feature Importances of the Random Forest ({volume_spec.replace('_', ' ')}, {target.replace('future_2state_movement_', '')})\", fontsize=20)\n",
    "                ax.set_xlabel(f\"{feature_type.capitalize()} (min)\", fontsize=18)\n",
    "                ax.set_ylabel(\"Importance (MDI)\", fontsize=18)\n",
    "                ax.legend_ = None\n",
    "                # ax.set_xticklabels(\"Lags\", rotation=45)\n",
    "                plt.xticks(rotation=0)\n",
    "#                 plt.show()\n",
    "                plt.savefig(f\"../results/forest/plots/{feature_type}_feature_importance_{volume_spec}_{target}.png\")\n",
    "                plt.show()\n",
    "                plt.clf()"
   ]
  },
  {
   "cell_type": "code",
   "execution_count": null,
   "metadata": {},
   "outputs": [],
   "source": []
  },
  {
   "cell_type": "markdown",
   "metadata": {},
   "source": [
    "## Regression Coefficients"
   ]
  },
  {
   "cell_type": "code",
   "execution_count": 13,
   "metadata": {
    "ExecuteTime": {
     "end_time": "2020-07-31T09:47:13.734946Z",
     "start_time": "2020-07-31T09:46:58.490734Z"
    },
    "scrolled": false
   },
   "outputs": [
    {
     "name": "stdout",
     "output_type": "stream",
     "text": [
      "return no_volume future_2state_movement_120min\n"
     ]
    },
    {
     "data": {
      "image/png": "[encoded data removed]",
      "text/plain": [
       "<Figure size 1440x720 with 1 Axes>"
      ]
     },
     "metadata": {
      "needs_background": "light"
     },
     "output_type": "display_data"
    },
    {
     "name": "stdout",
     "output_type": "stream",
     "text": [
      "return with_volume future_2state_movement_120min\n"
     ]
    },
    {
     "data": {
      "image/png": "[encoded data removed]",
      "text/plain": [
       "<Figure size 1440x720 with 1 Axes>"
      ]
     },
     "metadata": {
      "needs_background": "light"
     },
     "output_type": "display_data"
    },
    {
     "name": "stdout",
     "output_type": "stream",
     "text": [
      "return no_volume future_2state_movement_240min\n"
     ]
    },
    {
     "data": {
      "image/png": "[encoded data removed]",
      "text/plain": [
       "<Figure size 1440x720 with 1 Axes>"
      ]
     },
     "metadata": {
      "needs_background": "light"
     },
     "output_type": "display_data"
    },
    {
     "name": "stdout",
     "output_type": "stream",
     "text": [
      "return with_volume future_2state_movement_240min\n"
     ]
    },
    {
     "data": {
      "image/png": "[encoded data removed]",
      "text/plain": [
       "<Figure size 1440x720 with 1 Axes>"
      ]
     },
     "metadata": {
      "needs_background": "light"
     },
     "output_type": "display_data"
    },
    {
     "name": "stdout",
     "output_type": "stream",
     "text": [
      "volume no_volume future_2state_movement_120min\n",
      "volume with_volume future_2state_movement_120min\n"
     ]
    },
    {
     "data": {
      "image/png": "[encoded data removed]",
      "text/plain": [
       "<Figure size 1440x720 with 1 Axes>"
      ]
     },
     "metadata": {
      "needs_background": "light"
     },
     "output_type": "display_data"
    },
    {
     "name": "stdout",
     "output_type": "stream",
     "text": [
      "volume no_volume future_2state_movement_240min\n",
      "volume with_volume future_2state_movement_240min\n"
     ]
    },
    {
     "data": {
      "image/png": "[encoded data removed]",
      "text/plain": [
       "<Figure size 1440x720 with 1 Axes>"
      ]
     },
     "metadata": {
      "needs_background": "light"
     },
     "output_type": "display_data"
    }
   ],
   "source": [
    "for feature_type in [\"return\", \"volume\"]:\n",
    "    for target in targets_2state:     \n",
    "        for volume_spec, columns in feature_selections.items():\n",
    "            print(feature_type, volume_spec, target)\n",
    "            if not (feature_type == \"volume\" and volume_spec == \"no_volume\"):\n",
    "                x_test = filtered_1min_df[ (filtered_1min_df[\"time\"] >= \"2019-11-01\") ][columns]\n",
    "                y_test = filtered_1min_df[ (filtered_1min_df[\"time\"] >= \"2019-11-01\") ][target] \n",
    "                x_train = filtered_1min_df[ (filtered_1min_df[\"time\"] < \"2019-11-01\") ][columns]\n",
    "                y_train = filtered_1min_df[ (filtered_1min_df[\"time\"] < \"2019-11-01\") ][target]         \n",
    "                clf = joblib.load(f\"../models/logistic/logistic_{volume_spec}_{target}.pkl\")\n",
    "\n",
    "                coefficients = clf.best_estimator_.steps[1][1].coef_[0]\n",
    "\n",
    "                logistic_coefficients = pd.DataFrame(\n",
    "                    {\n",
    "                        'coefficients': coefficients, \n",
    "                        \"feature\": columns,\n",
    "                    }\n",
    "                )  \n",
    "\n",
    "                replace_string = \"middle_return_\" if feature_type == \"return\" else \"volume_scaled_\"\n",
    "                logistic_coefficients = logistic_coefficients[ logistic_coefficients[\"feature\"].str.contains(replace_string) ]\n",
    "\n",
    "                logistic_coefficients[\"feature\"] = (\n",
    "                    logistic_coefficients[\"feature\"]\n",
    "                    .str.replace(replace_string, \"\")\n",
    "                    .str.replace(\"min\", \"\")\n",
    "                    .astype(int)\n",
    "                )            \n",
    "                ax = (\n",
    "                    logistic_coefficients\n",
    "                    .sort_values(by=\"feature\")\n",
    "                    .plot(\n",
    "                        x=\"feature\",\n",
    "                        y=\"coefficients\",\n",
    "                        kind=\"bar\",\n",
    "                        figsize=(20,10),\n",
    "                    )\n",
    "                )        \n",
    "\n",
    "                ax.set_title(f\"{feature_type.capitalize()} coefficients of the Logistic Regression ({volume_spec.replace('_', ' ')}, {target.replace('future_2state_movement_', '')})\", fontsize=20)\n",
    "                ax.set_xlabel(f\"{feature_type.capitalize()} (min)\", fontsize=18)\n",
    "                ax.set_ylabel(\"Coefficient Value\", fontsize=18)\n",
    "                ax.legend_ = None\n",
    "                # ax.set_xticklabels(\"Lags\", rotation=45)\n",
    "                ax.axhline(y=0, color='black', linestyle='--')\n",
    "                plt.xticks(rotation=0)        \n",
    "#                 plt.show()\n",
    "                plt.savefig(f\"../results/logistic/plots/{feature_type}_coefficients_{volume_spec}_{target}.png\")\n",
    "                plt.show()"
   ]
  },
  {
   "cell_type": "code",
   "execution_count": null,
   "metadata": {},
   "outputs": [],
   "source": []
  },
  {
   "cell_type": "code",
   "execution_count": null,
   "metadata": {},
   "outputs": [],
   "source": []
  },
  {
   "cell_type": "code",
   "execution_count": null,
   "metadata": {
    "ExecuteTime": {
     "end_time": "2020-07-31T07:52:10.612524Z",
     "start_time": "2020-07-31T07:52:10.603548Z"
    }
   },
   "outputs": [],
   "source": [
    "logistic_coefficients"
   ]
  },
  {
   "cell_type": "code",
   "execution_count": null,
   "metadata": {
    "ExecuteTime": {
     "end_time": "2020-07-30T12:49:56.231795Z",
     "start_time": "2020-07-30T12:49:56.228804Z"
    }
   },
   "outputs": [],
   "source": [
    "volume_columns = feature_selections[\"with_volume\"][2::2]"
   ]
  },
  {
   "cell_type": "code",
   "execution_count": null,
   "metadata": {
    "ExecuteTime": {
     "end_time": "2020-06-24T17:08:15.678287Z",
     "start_time": "2020-06-24T17:08:08.884451Z"
    }
   },
   "outputs": [],
   "source": [
    "params = np.append(clf_logistic.best_estimator_.steps[1][1].intercept_, clf_logistic.best_estimator_.steps[1][1].coef_)\n",
    "predictions = clf_logistic.predict(x_train)"
   ]
  },
  {
   "cell_type": "code",
   "execution_count": null,
   "metadata": {
    "ExecuteTime": {
     "end_time": "2020-06-24T17:08:19.004393Z",
     "start_time": "2020-06-24T17:08:17.900345Z"
    }
   },
   "outputs": [],
   "source": [
    "newX = x_train\n",
    "newX[\"Constant\"] = np.ones(x_train.shape[0])\n",
    "MSE = (\n",
    "    sum( (y_train[\"future_2state_movement_120min\"].to_numpy() - predictions)**2 )\n",
    "    / ( newX.shape[0]-len(newX.columns) ) \n",
    ")\n",
    "\n",
    "var_b = MSE*(np.linalg.inv(np.dot(newX.T,newX)).diagonal())\n",
    "sd_b = np.sqrt(var_b)\n",
    "ts_b = params/ sd_b\n",
    "\n",
    "p_values =[2*(1-stats.t.cdf(np.abs(i),(len(newX)-1))) for i in ts_b]\n",
    "\n",
    "sd_b = np.round(sd_b,3)\n",
    "ts_b = np.round(ts_b,3)\n",
    "p_values = np.round(p_values,3)\n",
    "params = np.round(params,4)\n",
    "\n",
    "myDF3 = pd.DataFrame(index = [\"costant\"] + [ int( col.replace(\"middle_return_\", \"\").replace(\"min\",\"\").capitalize() ) for col in x_columns ],)\n",
    "myDF3.index.name = \"Delta (min)\"\n",
    "myDF3[\"Coefficients\"],myDF3[\"Standard Errors\"],myDF3[\"t values\"],myDF3[\"Probabilities\"] = [params,sd_b,ts_b,p_values]\n",
    "myDF3 = myDF3[1:]\n",
    "myDF3"
   ]
  },
  {
   "cell_type": "code",
   "execution_count": null,
   "metadata": {
    "ExecuteTime": {
     "end_time": "2020-06-24T17:08:21.583498Z",
     "start_time": "2020-06-24T17:08:21.565545Z"
    }
   },
   "outputs": [],
   "source": [
    "myDF3['colors'] = 'b'\n",
    "myDF3.loc[myDF3[\"t values\"] >=1.96,'colors'] = 'r'\n",
    "myDF3"
   ]
  },
  {
   "cell_type": "code",
   "execution_count": null,
   "metadata": {
    "ExecuteTime": {
     "end_time": "2020-06-24T17:09:05.114369Z",
     "start_time": "2020-06-24T17:09:04.794224Z"
    }
   },
   "outputs": [],
   "source": [
    "ax = (\n",
    "    myDF3\n",
    "#     myDF3\n",
    "    .plot(\n",
    "        kind=\"bar\",\n",
    "        figsize=(20,10),\n",
    "        y=\"Coefficients\",\n",
    "        color=myDF3.colors,\n",
    "    )\n",
    ")\n",
    "\n",
    "ax.set_title(\"Coefficients of the Logistic Regression for each lagged return\", fontsize=20)\n",
    "ax.set_xlabel(\"Return Delta (min)\", fontsize=18)\n",
    "ax.set_ylabel(\"Coefficient Value\", fontsize=18)\n",
    "ax.legend_ = None\n",
    "# ax.set_xticklabels(\"Lags\", rotation=45)\n",
    "ax.axhline(y=0, color='black', linestyle='--')\n",
    "plt.xticks(rotation=0)\n",
    "plt.savefig(\"../results/logistic/logistic_coefficients.png\")"
   ]
  },
  {
   "cell_type": "code",
   "execution_count": null,
   "metadata": {},
   "outputs": [],
   "source": []
  },
  {
   "cell_type": "markdown",
   "metadata": {},
   "source": [
    "## Coin based Models"
   ]
  },
  {
   "cell_type": "markdown",
   "metadata": {},
   "source": [
    "### Returns"
   ]
  },
  {
   "cell_type": "code",
   "execution_count": 8,
   "metadata": {
    "ExecuteTime": {
     "end_time": "2020-08-23T09:25:31.081894Z",
     "start_time": "2020-08-23T09:24:48.155963Z"
    },
    "scrolled": true
   },
   "outputs": [
    {
     "name": "stdout",
     "output_type": "stream",
     "text": [
      "logistic 0.5 no_volume future_return_sign_120min\n",
      "logistic 0.5 no_volume future_return_sign_240min\n",
      "logistic 0.5 with_volume future_return_sign_120min\n",
      "logistic 0.5 with_volume future_return_sign_240min\n",
      "logistic 0.525 no_volume future_return_sign_120min\n",
      "logistic 0.525 no_volume future_return_sign_240min\n",
      "logistic 0.525 with_volume future_return_sign_120min\n",
      "logistic 0.525 with_volume future_return_sign_240min\n",
      "logistic 0.55 no_volume future_return_sign_120min\n",
      "logistic 0.55 no_volume future_return_sign_240min\n",
      "logistic 0.55 with_volume future_return_sign_120min\n",
      "logistic 0.55 with_volume future_return_sign_240min\n",
      "logistic 0.575 no_volume future_return_sign_120min\n",
      "logistic 0.575 no_volume future_return_sign_240min\n",
      "logistic 0.575 with_volume future_return_sign_120min\n",
      "logistic 0.575 with_volume future_return_sign_240min\n",
      "logistic 0.6 no_volume future_return_sign_120min\n",
      "logistic 0.6 no_volume future_return_sign_240min\n",
      "logistic 0.6 with_volume future_return_sign_120min\n",
      "logistic 0.6 with_volume future_return_sign_240min\n",
      "logistic 0.625 no_volume future_return_sign_120min\n",
      "logistic 0.625 no_volume future_return_sign_240min\n",
      "logistic 0.625 with_volume future_return_sign_120min\n",
      "logistic 0.625 with_volume future_return_sign_240min\n",
      "logistic 0.65 no_volume future_return_sign_120min\n",
      "logistic 0.65 no_volume future_return_sign_240min\n",
      "logistic 0.65 with_volume future_return_sign_120min\n",
      "logistic 0.65 with_volume future_return_sign_240min\n",
      "logistic 0.675 no_volume future_return_sign_120min\n",
      "logistic 0.675 no_volume future_return_sign_240min\n",
      "logistic 0.675 with_volume future_return_sign_120min\n",
      "logistic 0.675 with_volume future_return_sign_240min\n",
      "logistic 0.7 no_volume future_return_sign_120min\n",
      "logistic 0.7 no_volume future_return_sign_240min\n",
      "logistic 0.7 with_volume future_return_sign_120min\n",
      "logistic 0.7 with_volume future_return_sign_240min\n",
      "logistic 0.725 no_volume future_return_sign_120min\n",
      "logistic 0.725 no_volume future_return_sign_240min\n",
      "logistic 0.725 with_volume future_return_sign_120min\n",
      "logistic 0.725 with_volume future_return_sign_240min\n",
      "logistic 0.75 no_volume future_return_sign_120min\n",
      "logistic 0.75 no_volume future_return_sign_240min\n",
      "logistic 0.75 with_volume future_return_sign_120min\n",
      "logistic 0.75 with_volume future_return_sign_240min\n",
      "EXCEPTION: ../results/alternative/logistic/returns/trading_returns_no_volume_future_return_sign_120min_77.5_threshold.csv\n",
      "EXCEPTION: ../results/alternative/logistic/returns/trading_returns_no_volume_future_return_sign_240min_77.5_threshold.csv\n",
      "logistic 0.775 with_volume future_return_sign_120min\n",
      "logistic 0.775 with_volume future_return_sign_240min\n",
      "EXCEPTION: ../results/alternative/logistic/returns/trading_returns_no_volume_future_return_sign_120min_80.0_threshold.csv\n",
      "logistic 0.8 no_volume future_return_sign_240min\n",
      "EXCEPTION: ../results/alternative/logistic/returns/trading_returns_with_volume_future_return_sign_120min_80.0_threshold.csv\n",
      "logistic 0.8 with_volume future_return_sign_240min\n",
      "EXCEPTION: ../results/alternative/logistic/returns/trading_returns_no_volume_future_return_sign_120min_85.0_threshold.csv\n",
      "EXCEPTION: ../results/alternative/logistic/returns/trading_returns_no_volume_future_return_sign_240min_85.0_threshold.csv\n",
      "EXCEPTION: ../results/alternative/logistic/returns/trading_returns_with_volume_future_return_sign_120min_85.0_threshold.csv\n",
      "EXCEPTION: ../results/alternative/logistic/returns/trading_returns_with_volume_future_return_sign_240min_85.0_threshold.csv\n",
      "EXCEPTION: ../results/alternative/logistic/returns/trading_returns_no_volume_future_return_sign_120min_90.0_threshold.csv\n",
      "EXCEPTION: ../results/alternative/logistic/returns/trading_returns_no_volume_future_return_sign_240min_90.0_threshold.csv\n",
      "EXCEPTION: ../results/alternative/logistic/returns/trading_returns_with_volume_future_return_sign_120min_90.0_threshold.csv\n",
      "EXCEPTION: ../results/alternative/logistic/returns/trading_returns_with_volume_future_return_sign_240min_90.0_threshold.csv\n",
      "EXCEPTION: ../results/alternative/logistic/returns/trading_returns_no_volume_future_return_sign_120min_95.0_threshold.csv\n",
      "EXCEPTION: ../results/alternative/logistic/returns/trading_returns_no_volume_future_return_sign_240min_95.0_threshold.csv\n",
      "EXCEPTION: ../results/alternative/logistic/returns/trading_returns_with_volume_future_return_sign_120min_95.0_threshold.csv\n",
      "EXCEPTION: ../results/alternative/logistic/returns/trading_returns_with_volume_future_return_sign_240min_95.0_threshold.csv\n",
      "forest 0.5 no_volume future_return_sign_120min\n",
      "forest 0.5 no_volume future_return_sign_240min\n",
      "forest 0.5 with_volume future_return_sign_120min\n",
      "forest 0.5 with_volume future_return_sign_240min\n",
      "forest 0.525 no_volume future_return_sign_120min\n",
      "forest 0.525 no_volume future_return_sign_240min\n",
      "forest 0.525 with_volume future_return_sign_120min\n",
      "forest 0.525 with_volume future_return_sign_240min\n",
      "forest 0.55 no_volume future_return_sign_120min\n",
      "forest 0.55 no_volume future_return_sign_240min\n",
      "forest 0.55 with_volume future_return_sign_120min\n",
      "forest 0.55 with_volume future_return_sign_240min\n",
      "forest 0.575 no_volume future_return_sign_120min\n",
      "forest 0.575 no_volume future_return_sign_240min\n",
      "forest 0.575 with_volume future_return_sign_120min\n",
      "forest 0.575 with_volume future_return_sign_240min\n",
      "forest 0.6 no_volume future_return_sign_120min\n",
      "forest 0.6 no_volume future_return_sign_240min\n",
      "forest 0.6 with_volume future_return_sign_120min\n",
      "forest 0.6 with_volume future_return_sign_240min\n",
      "forest 0.625 no_volume future_return_sign_120min\n",
      "forest 0.625 no_volume future_return_sign_240min\n",
      "forest 0.625 with_volume future_return_sign_120min\n",
      "forest 0.625 with_volume future_return_sign_240min\n",
      "forest 0.65 no_volume future_return_sign_120min\n",
      "forest 0.65 no_volume future_return_sign_240min\n",
      "forest 0.65 with_volume future_return_sign_120min\n",
      "forest 0.65 with_volume future_return_sign_240min\n",
      "forest 0.675 no_volume future_return_sign_120min\n",
      "forest 0.675 no_volume future_return_sign_240min\n",
      "forest 0.675 with_volume future_return_sign_120min\n",
      "forest 0.675 with_volume future_return_sign_240min\n",
      "forest 0.7 no_volume future_return_sign_120min\n",
      "forest 0.7 no_volume future_return_sign_240min\n",
      "forest 0.7 with_volume future_return_sign_120min\n",
      "forest 0.7 with_volume future_return_sign_240min\n",
      "forest 0.725 no_volume future_return_sign_120min\n",
      "forest 0.725 no_volume future_return_sign_240min\n",
      "forest 0.725 with_volume future_return_sign_120min\n",
      "forest 0.725 with_volume future_return_sign_240min\n",
      "forest 0.75 no_volume future_return_sign_120min\n",
      "forest 0.75 no_volume future_return_sign_240min\n",
      "forest 0.75 with_volume future_return_sign_120min\n",
      "forest 0.75 with_volume future_return_sign_240min\n",
      "EXCEPTION: ../results/alternative/forest/returns/trading_returns_no_volume_future_return_sign_120min_77.5_threshold.csv\n",
      "EXCEPTION: ../results/alternative/forest/returns/trading_returns_no_volume_future_return_sign_240min_77.5_threshold.csv\n",
      "forest 0.775 with_volume future_return_sign_120min\n",
      "forest 0.775 with_volume future_return_sign_240min\n",
      "EXCEPTION: ../results/alternative/forest/returns/trading_returns_no_volume_future_return_sign_120min_80.0_threshold.csv\n",
      "forest 0.8 no_volume future_return_sign_240min\n",
      "EXCEPTION: ../results/alternative/forest/returns/trading_returns_with_volume_future_return_sign_120min_80.0_threshold.csv\n",
      "forest 0.8 with_volume future_return_sign_240min\n",
      "EXCEPTION: ../results/alternative/forest/returns/trading_returns_no_volume_future_return_sign_120min_85.0_threshold.csv\n",
      "EXCEPTION: ../results/alternative/forest/returns/trading_returns_no_volume_future_return_sign_240min_85.0_threshold.csv\n",
      "EXCEPTION: ../results/alternative/forest/returns/trading_returns_with_volume_future_return_sign_120min_85.0_threshold.csv\n",
      "EXCEPTION: ../results/alternative/forest/returns/trading_returns_with_volume_future_return_sign_240min_85.0_threshold.csv\n",
      "EXCEPTION: ../results/alternative/forest/returns/trading_returns_no_volume_future_return_sign_120min_90.0_threshold.csv\n",
      "EXCEPTION: ../results/alternative/forest/returns/trading_returns_no_volume_future_return_sign_240min_90.0_threshold.csv\n",
      "EXCEPTION: ../results/alternative/forest/returns/trading_returns_with_volume_future_return_sign_120min_90.0_threshold.csv\n",
      "EXCEPTION: ../results/alternative/forest/returns/trading_returns_with_volume_future_return_sign_240min_90.0_threshold.csv\n",
      "EXCEPTION: ../results/alternative/forest/returns/trading_returns_no_volume_future_return_sign_120min_95.0_threshold.csv\n",
      "EXCEPTION: ../results/alternative/forest/returns/trading_returns_no_volume_future_return_sign_240min_95.0_threshold.csv\n",
      "EXCEPTION: ../results/alternative/forest/returns/trading_returns_with_volume_future_return_sign_120min_95.0_threshold.csv\n",
      "EXCEPTION: ../results/alternative/forest/returns/trading_returns_with_volume_future_return_sign_240min_95.0_threshold.csv\n"
     ]
    },
    {
     "name": "stdout",
     "output_type": "stream",
     "text": [
      "adaboost 0.5 no_volume future_return_sign_120min\n",
      "adaboost 0.5 no_volume future_return_sign_240min\n",
      "adaboost 0.5 with_volume future_return_sign_120min\n",
      "adaboost 0.5 with_volume future_return_sign_240min\n",
      "adaboost 0.525 no_volume future_return_sign_120min\n",
      "adaboost 0.525 no_volume future_return_sign_240min\n",
      "adaboost 0.525 with_volume future_return_sign_120min\n",
      "adaboost 0.525 with_volume future_return_sign_240min\n",
      "adaboost 0.55 no_volume future_return_sign_120min\n",
      "adaboost 0.55 no_volume future_return_sign_240min\n",
      "adaboost 0.55 with_volume future_return_sign_120min\n",
      "adaboost 0.55 with_volume future_return_sign_240min\n",
      "adaboost 0.575 no_volume future_return_sign_120min\n",
      "adaboost 0.575 no_volume future_return_sign_240min\n",
      "adaboost 0.575 with_volume future_return_sign_120min\n",
      "adaboost 0.575 with_volume future_return_sign_240min\n",
      "adaboost 0.6 no_volume future_return_sign_120min\n",
      "adaboost 0.6 no_volume future_return_sign_240min\n",
      "adaboost 0.6 with_volume future_return_sign_120min\n",
      "adaboost 0.6 with_volume future_return_sign_240min\n",
      "adaboost 0.625 no_volume future_return_sign_120min\n",
      "adaboost 0.625 no_volume future_return_sign_240min\n",
      "adaboost 0.625 with_volume future_return_sign_120min\n",
      "adaboost 0.625 with_volume future_return_sign_240min\n",
      "adaboost 0.65 no_volume future_return_sign_120min\n",
      "adaboost 0.65 no_volume future_return_sign_240min\n",
      "adaboost 0.65 with_volume future_return_sign_120min\n",
      "adaboost 0.65 with_volume future_return_sign_240min\n",
      "adaboost 0.675 no_volume future_return_sign_120min\n",
      "adaboost 0.675 no_volume future_return_sign_240min\n",
      "adaboost 0.675 with_volume future_return_sign_120min\n",
      "adaboost 0.675 with_volume future_return_sign_240min\n",
      "EXCEPTION: ../results/alternative/adaboost/returns/trading_returns_no_volume_future_return_sign_120min_70.0_threshold.csv\n",
      "EXCEPTION: ../results/alternative/adaboost/returns/trading_returns_no_volume_future_return_sign_240min_70.0_threshold.csv\n",
      "adaboost 0.7 with_volume future_return_sign_120min\n",
      "adaboost 0.7 with_volume future_return_sign_240min\n",
      "EXCEPTION: ../results/alternative/adaboost/returns/trading_returns_no_volume_future_return_sign_120min_72.5_threshold.csv\n",
      "EXCEPTION: ../results/alternative/adaboost/returns/trading_returns_no_volume_future_return_sign_240min_72.5_threshold.csv\n",
      "adaboost 0.725 with_volume future_return_sign_120min\n",
      "adaboost 0.725 with_volume future_return_sign_240min\n",
      "EXCEPTION: ../results/alternative/adaboost/returns/trading_returns_no_volume_future_return_sign_120min_75.0_threshold.csv\n",
      "EXCEPTION: ../results/alternative/adaboost/returns/trading_returns_no_volume_future_return_sign_240min_75.0_threshold.csv\n",
      "EXCEPTION: ../results/alternative/adaboost/returns/trading_returns_with_volume_future_return_sign_120min_75.0_threshold.csv\n",
      "EXCEPTION: ../results/alternative/adaboost/returns/trading_returns_with_volume_future_return_sign_240min_75.0_threshold.csv\n",
      "EXCEPTION: ../results/alternative/adaboost/returns/trading_returns_no_volume_future_return_sign_120min_77.5_threshold.csv\n",
      "EXCEPTION: ../results/alternative/adaboost/returns/trading_returns_no_volume_future_return_sign_240min_77.5_threshold.csv\n",
      "EXCEPTION: ../results/alternative/adaboost/returns/trading_returns_with_volume_future_return_sign_120min_77.5_threshold.csv\n",
      "EXCEPTION: ../results/alternative/adaboost/returns/trading_returns_with_volume_future_return_sign_240min_77.5_threshold.csv\n",
      "EXCEPTION: ../results/alternative/adaboost/returns/trading_returns_no_volume_future_return_sign_120min_80.0_threshold.csv\n",
      "EXCEPTION: ../results/alternative/adaboost/returns/trading_returns_no_volume_future_return_sign_240min_80.0_threshold.csv\n",
      "EXCEPTION: ../results/alternative/adaboost/returns/trading_returns_with_volume_future_return_sign_120min_80.0_threshold.csv\n",
      "EXCEPTION: ../results/alternative/adaboost/returns/trading_returns_with_volume_future_return_sign_240min_80.0_threshold.csv\n",
      "EXCEPTION: ../results/alternative/adaboost/returns/trading_returns_no_volume_future_return_sign_120min_85.0_threshold.csv\n",
      "EXCEPTION: ../results/alternative/adaboost/returns/trading_returns_no_volume_future_return_sign_240min_85.0_threshold.csv\n",
      "EXCEPTION: ../results/alternative/adaboost/returns/trading_returns_with_volume_future_return_sign_120min_85.0_threshold.csv\n",
      "EXCEPTION: ../results/alternative/adaboost/returns/trading_returns_with_volume_future_return_sign_240min_85.0_threshold.csv\n",
      "EXCEPTION: ../results/alternative/adaboost/returns/trading_returns_no_volume_future_return_sign_120min_90.0_threshold.csv\n",
      "EXCEPTION: ../results/alternative/adaboost/returns/trading_returns_no_volume_future_return_sign_240min_90.0_threshold.csv\n",
      "EXCEPTION: ../results/alternative/adaboost/returns/trading_returns_with_volume_future_return_sign_120min_90.0_threshold.csv\n",
      "EXCEPTION: ../results/alternative/adaboost/returns/trading_returns_with_volume_future_return_sign_240min_90.0_threshold.csv\n",
      "EXCEPTION: ../results/alternative/adaboost/returns/trading_returns_no_volume_future_return_sign_120min_95.0_threshold.csv\n",
      "EXCEPTION: ../results/alternative/adaboost/returns/trading_returns_no_volume_future_return_sign_240min_95.0_threshold.csv\n",
      "EXCEPTION: ../results/alternative/adaboost/returns/trading_returns_with_volume_future_return_sign_120min_95.0_threshold.csv\n",
      "EXCEPTION: ../results/alternative/adaboost/returns/trading_returns_with_volume_future_return_sign_240min_95.0_threshold.csv\n",
      "ann 0.5 no_volume future_return_sign_120min\n",
      "ann 0.5 no_volume future_return_sign_240min\n",
      "ann 0.5 with_volume future_return_sign_120min\n",
      "ann 0.5 with_volume future_return_sign_240min\n",
      "ann 0.525 no_volume future_return_sign_120min\n",
      "ann 0.525 no_volume future_return_sign_240min\n",
      "ann 0.525 with_volume future_return_sign_120min\n",
      "ann 0.525 with_volume future_return_sign_240min\n",
      "ann 0.55 no_volume future_return_sign_120min\n",
      "ann 0.55 no_volume future_return_sign_240min\n",
      "ann 0.55 with_volume future_return_sign_120min\n",
      "ann 0.55 with_volume future_return_sign_240min\n",
      "ann 0.575 no_volume future_return_sign_120min\n",
      "ann 0.575 no_volume future_return_sign_240min\n",
      "ann 0.575 with_volume future_return_sign_120min\n",
      "ann 0.575 with_volume future_return_sign_240min\n",
      "ann 0.6 no_volume future_return_sign_120min\n",
      "ann 0.6 no_volume future_return_sign_240min\n",
      "ann 0.6 with_volume future_return_sign_120min\n",
      "ann 0.6 with_volume future_return_sign_240min\n",
      "ann 0.625 no_volume future_return_sign_120min\n",
      "ann 0.625 no_volume future_return_sign_240min\n",
      "ann 0.625 with_volume future_return_sign_120min\n",
      "ann 0.625 with_volume future_return_sign_240min\n",
      "ann 0.65 no_volume future_return_sign_120min\n",
      "ann 0.65 no_volume future_return_sign_240min\n",
      "ann 0.65 with_volume future_return_sign_120min\n",
      "ann 0.65 with_volume future_return_sign_240min\n",
      "ann 0.675 no_volume future_return_sign_120min\n",
      "ann 0.675 no_volume future_return_sign_240min\n",
      "ann 0.675 with_volume future_return_sign_120min\n",
      "ann 0.675 with_volume future_return_sign_240min\n",
      "ann 0.7 no_volume future_return_sign_120min\n",
      "ann 0.7 no_volume future_return_sign_240min\n",
      "ann 0.7 with_volume future_return_sign_120min\n",
      "ann 0.7 with_volume future_return_sign_240min\n",
      "ann 0.725 no_volume future_return_sign_120min\n",
      "ann 0.725 no_volume future_return_sign_240min\n",
      "ann 0.725 with_volume future_return_sign_120min\n",
      "ann 0.725 with_volume future_return_sign_240min\n",
      "ann 0.75 no_volume future_return_sign_120min\n",
      "ann 0.75 no_volume future_return_sign_240min\n",
      "ann 0.75 with_volume future_return_sign_120min\n",
      "ann 0.75 with_volume future_return_sign_240min\n",
      "EXCEPTION: ../results/alternative/ann/returns/trading_returns_no_volume_future_return_sign_120min_77.5_threshold.csv\n",
      "EXCEPTION: ../results/alternative/ann/returns/trading_returns_no_volume_future_return_sign_240min_77.5_threshold.csv\n",
      "ann 0.775 with_volume future_return_sign_120min\n",
      "ann 0.775 with_volume future_return_sign_240min\n",
      "EXCEPTION: ../results/alternative/ann/returns/trading_returns_no_volume_future_return_sign_120min_80.0_threshold.csv\n",
      "EXCEPTION: ../results/alternative/ann/returns/trading_returns_no_volume_future_return_sign_240min_80.0_threshold.csv\n",
      "ann 0.8 with_volume future_return_sign_120min\n",
      "ann 0.8 with_volume future_return_sign_240min\n",
      "EXCEPTION: ../results/alternative/ann/returns/trading_returns_no_volume_future_return_sign_120min_85.0_threshold.csv\n",
      "EXCEPTION: ../results/alternative/ann/returns/trading_returns_no_volume_future_return_sign_240min_85.0_threshold.csv\n",
      "EXCEPTION: ../results/alternative/ann/returns/trading_returns_with_volume_future_return_sign_120min_85.0_threshold.csv\n",
      "EXCEPTION: ../results/alternative/ann/returns/trading_returns_with_volume_future_return_sign_240min_85.0_threshold.csv\n",
      "EXCEPTION: ../results/alternative/ann/returns/trading_returns_no_volume_future_return_sign_120min_90.0_threshold.csv\n",
      "EXCEPTION: ../results/alternative/ann/returns/trading_returns_no_volume_future_return_sign_240min_90.0_threshold.csv\n",
      "EXCEPTION: ../results/alternative/ann/returns/trading_returns_with_volume_future_return_sign_120min_90.0_threshold.csv\n",
      "EXCEPTION: ../results/alternative/ann/returns/trading_returns_with_volume_future_return_sign_240min_90.0_threshold.csv\n",
      "EXCEPTION: ../results/alternative/ann/returns/trading_returns_no_volume_future_return_sign_120min_95.0_threshold.csv\n",
      "EXCEPTION: ../results/alternative/ann/returns/trading_returns_no_volume_future_return_sign_240min_95.0_threshold.csv\n",
      "EXCEPTION: ../results/alternative/ann/returns/trading_returns_with_volume_future_return_sign_120min_95.0_threshold.csv\n",
      "EXCEPTION: ../results/alternative/ann/returns/trading_returns_with_volume_future_return_sign_240min_95.0_threshold.csv\n"
     ]
    },
    {
     "data": {
      "text/html": [
       "<div>\n",
       "<style scoped>\n",
       "    .dataframe tbody tr th:only-of-type {\n",
       "        vertical-align: middle;\n",
       "    }\n",
       "\n",
       "    .dataframe tbody tr th {\n",
       "        vertical-align: top;\n",
       "    }\n",
       "\n",
       "    .dataframe thead th {\n",
       "        text-align: right;\n",
       "    }\n",
       "</style>\n",
       "<table border=\"1\" class=\"dataframe\">\n",
       "  <thead>\n",
       "    <tr style=\"text-align: right;\">\n",
       "      <th></th>\n",
       "      <th>position_num</th>\n",
       "      <th>type</th>\n",
       "      <th>pair</th>\n",
       "      <th>open_row_num</th>\n",
       "      <th>open_time</th>\n",
       "      <th>open_price</th>\n",
       "      <th>duration</th>\n",
       "      <th>close_row_num</th>\n",
       "      <th>close_time</th>\n",
       "      <th>close_price</th>\n",
       "      <th>close_return</th>\n",
       "      <th>transaction_cost</th>\n",
       "      <th>volume_spec</th>\n",
       "      <th>threshold</th>\n",
       "      <th>model</th>\n",
       "      <th>target</th>\n",
       "    </tr>\n",
       "  </thead>\n",
       "  <tbody>\n",
       "    <tr>\n",
       "      <th>0</th>\n",
       "      <td>1</td>\n",
       "      <td>long</td>\n",
       "      <td>btcusd</td>\n",
       "      <td>2</td>\n",
       "      <td>2019-11-01 00:02:00</td>\n",
       "      <td>9150.465671</td>\n",
       "      <td>120</td>\n",
       "      <td>122</td>\n",
       "      <td>2019-11-01 02:02:00</td>\n",
       "      <td>9161.00000</td>\n",
       "      <td>0.001151</td>\n",
       "      <td>0</td>\n",
       "      <td>no_volume</td>\n",
       "      <td>0.5</td>\n",
       "      <td>logistic</td>\n",
       "      <td>future_return_sign_120min</td>\n",
       "    </tr>\n",
       "    <tr>\n",
       "      <th>1</th>\n",
       "      <td>1</td>\n",
       "      <td>long</td>\n",
       "      <td>xrpusd</td>\n",
       "      <td>124</td>\n",
       "      <td>2019-11-01 02:04:00</td>\n",
       "      <td>0.294550</td>\n",
       "      <td>120</td>\n",
       "      <td>244</td>\n",
       "      <td>2019-11-01 04:04:00</td>\n",
       "      <td>0.29537</td>\n",
       "      <td>0.002784</td>\n",
       "      <td>0</td>\n",
       "      <td>no_volume</td>\n",
       "      <td>0.5</td>\n",
       "      <td>logistic</td>\n",
       "      <td>future_return_sign_120min</td>\n",
       "    </tr>\n",
       "    <tr>\n",
       "      <th>2</th>\n",
       "      <td>1</td>\n",
       "      <td>long</td>\n",
       "      <td>xmrusd</td>\n",
       "      <td>254</td>\n",
       "      <td>2019-11-01 04:14:00</td>\n",
       "      <td>58.954000</td>\n",
       "      <td>121</td>\n",
       "      <td>375</td>\n",
       "      <td>2019-11-01 06:15:00</td>\n",
       "      <td>58.89800</td>\n",
       "      <td>-0.000950</td>\n",
       "      <td>0</td>\n",
       "      <td>no_volume</td>\n",
       "      <td>0.5</td>\n",
       "      <td>logistic</td>\n",
       "      <td>future_return_sign_120min</td>\n",
       "    </tr>\n",
       "    <tr>\n",
       "      <th>3</th>\n",
       "      <td>1</td>\n",
       "      <td>long</td>\n",
       "      <td>dshusd</td>\n",
       "      <td>383</td>\n",
       "      <td>2019-11-01 06:23:00</td>\n",
       "      <td>71.379000</td>\n",
       "      <td>128</td>\n",
       "      <td>511</td>\n",
       "      <td>2019-11-01 08:31:00</td>\n",
       "      <td>71.29050</td>\n",
       "      <td>-0.001240</td>\n",
       "      <td>0</td>\n",
       "      <td>no_volume</td>\n",
       "      <td>0.5</td>\n",
       "      <td>logistic</td>\n",
       "      <td>future_return_sign_120min</td>\n",
       "    </tr>\n",
       "    <tr>\n",
       "      <th>4</th>\n",
       "      <td>1</td>\n",
       "      <td>long</td>\n",
       "      <td>babusd</td>\n",
       "      <td>519</td>\n",
       "      <td>2019-11-01 08:39:00</td>\n",
       "      <td>281.000000</td>\n",
       "      <td>360</td>\n",
       "      <td>879</td>\n",
       "      <td>2019-11-01 14:39:00</td>\n",
       "      <td>276.51500</td>\n",
       "      <td>-0.015961</td>\n",
       "      <td>0</td>\n",
       "      <td>no_volume</td>\n",
       "      <td>0.5</td>\n",
       "      <td>logistic</td>\n",
       "      <td>future_return_sign_120min</td>\n",
       "    </tr>\n",
       "  </tbody>\n",
       "</table>\n",
       "</div>"
      ],
      "text/plain": [
       "   position_num  type    pair  open_row_num            open_time   open_price  \\\n",
       "0             1  long  btcusd             2  2019-11-01 00:02:00  9150.465671   \n",
       "1             1  long  xrpusd           124  2019-11-01 02:04:00     0.294550   \n",
       "2             1  long  xmrusd           254  2019-11-01 04:14:00    58.954000   \n",
       "3             1  long  dshusd           383  2019-11-01 06:23:00    71.379000   \n",
       "4             1  long  babusd           519  2019-11-01 08:39:00   281.000000   \n",
       "\n",
       "   duration  close_row_num           close_time  close_price  close_return  \\\n",
       "0       120            122  2019-11-01 02:02:00   9161.00000      0.001151   \n",
       "1       120            244  2019-11-01 04:04:00      0.29537      0.002784   \n",
       "2       121            375  2019-11-01 06:15:00     58.89800     -0.000950   \n",
       "3       128            511  2019-11-01 08:31:00     71.29050     -0.001240   \n",
       "4       360            879  2019-11-01 14:39:00    276.51500     -0.015961   \n",
       "\n",
       "   transaction_cost volume_spec  threshold     model  \\\n",
       "0                 0   no_volume        0.5  logistic   \n",
       "1                 0   no_volume        0.5  logistic   \n",
       "2                 0   no_volume        0.5  logistic   \n",
       "3                 0   no_volume        0.5  logistic   \n",
       "4                 0   no_volume        0.5  logistic   \n",
       "\n",
       "                      target  \n",
       "0  future_return_sign_120min  \n",
       "1  future_return_sign_120min  \n",
       "2  future_return_sign_120min  \n",
       "3  future_return_sign_120min  \n",
       "4  future_return_sign_120min  "
      ]
     },
     "execution_count": 8,
     "metadata": {},
     "output_type": "execute_result"
    }
   ],
   "source": [
    "# alt_targets = [\"future_return_sign_120min\", \"future_return_sign_240min\"]\n",
    "alt_targets = {\"future_return_sign_120min\": \"120min\", \"future_return_sign_240min\": \"240min\"}\n",
    "trading_returns_df = pd.DataFrame()\n",
    "for model_name in model_names:\n",
    "    for threshold in THRESHOLDS:\n",
    "#         for volume_spec in [\"with_volume\", \"no_volume\"]:\n",
    "        for volume_spec in feature_selections:\n",
    "            for target, duration in alt_targets.items():\n",
    "                try:\n",
    "                    filename = f\"../results/alternative/{model_name}/returns/trading_returns_{volume_spec}_{target}_{round(threshold*100, 1)}_threshold.csv\"\n",
    "                    df = pd.read_csv(filename)\n",
    "                    df[\"volume_spec\"] = volume_spec\n",
    "                    df[\"threshold\"] = threshold\n",
    "                    df[\"model\"] = model_name\n",
    "                    df[\"target\"] = target\n",
    "                    trading_returns_df = pd.concat([trading_returns_df, df])\n",
    "                    \n",
    "                    print(model_name, threshold, volume_spec, target)\n",
    "                except:\n",
    "                    print(\"EXCEPTION:\", filename)\n",
    "#     trading_returns_df.to_csv(f\"../results/{model_name}/returns/{model_name}_trading_returns_future_2state_movement.csv\", index=False)\n",
    "trading_returns_df.head()    \n",
    "# trading_returns_df.to_csv(f\"../results/trading_returns_future_2state_movement_120min.csv\", index=False)        "
   ]
  },
  {
   "cell_type": "code",
   "execution_count": 9,
   "metadata": {
    "ExecuteTime": {
     "end_time": "2020-08-23T09:25:34.346078Z",
     "start_time": "2020-08-23T09:25:33.776594Z"
    }
   },
   "outputs": [
    {
     "name": "stdout",
     "output_type": "stream",
     "text": [
      "(1567880, 21)\n"
     ]
    },
    {
     "data": {
      "text/html": [
       "<div>\n",
       "<style scoped>\n",
       "    .dataframe tbody tr th:only-of-type {\n",
       "        vertical-align: middle;\n",
       "    }\n",
       "\n",
       "    .dataframe tbody tr th {\n",
       "        vertical-align: top;\n",
       "    }\n",
       "\n",
       "    .dataframe thead th {\n",
       "        text-align: right;\n",
       "    }\n",
       "</style>\n",
       "<table border=\"1\" class=\"dataframe\">\n",
       "  <thead>\n",
       "    <tr style=\"text-align: right;\">\n",
       "      <th></th>\n",
       "      <th>position_num</th>\n",
       "      <th>type</th>\n",
       "      <th>pair</th>\n",
       "      <th>open_row_num</th>\n",
       "      <th>open_time</th>\n",
       "      <th>open_price</th>\n",
       "      <th>duration</th>\n",
       "      <th>close_row_num</th>\n",
       "      <th>close_time</th>\n",
       "      <th>close_price</th>\n",
       "      <th>...</th>\n",
       "      <th>transaction_cost</th>\n",
       "      <th>volume_spec</th>\n",
       "      <th>threshold</th>\n",
       "      <th>model</th>\n",
       "      <th>target</th>\n",
       "      <th>return_growth_rate_0bps</th>\n",
       "      <th>return_growth_rate_5bps</th>\n",
       "      <th>return_growth_rate_10bps</th>\n",
       "      <th>return_growth_rate_15bps</th>\n",
       "      <th>return_growth_rate_20bps</th>\n",
       "    </tr>\n",
       "  </thead>\n",
       "  <tbody>\n",
       "    <tr>\n",
       "      <th>0</th>\n",
       "      <td>1</td>\n",
       "      <td>long</td>\n",
       "      <td>btcusd</td>\n",
       "      <td>2</td>\n",
       "      <td>2019-11-01 00:02:00</td>\n",
       "      <td>9150.465671</td>\n",
       "      <td>120</td>\n",
       "      <td>122</td>\n",
       "      <td>2019-11-01 02:02:00</td>\n",
       "      <td>9161.00000</td>\n",
       "      <td>...</td>\n",
       "      <td>0</td>\n",
       "      <td>no_volume</td>\n",
       "      <td>0.5</td>\n",
       "      <td>logistic</td>\n",
       "      <td>future_return_sign_120min</td>\n",
       "      <td>1.001151</td>\n",
       "      <td>1.000151</td>\n",
       "      <td>0.999151</td>\n",
       "      <td>0.998152</td>\n",
       "      <td>0.997155</td>\n",
       "    </tr>\n",
       "    <tr>\n",
       "      <th>1</th>\n",
       "      <td>1</td>\n",
       "      <td>long</td>\n",
       "      <td>xrpusd</td>\n",
       "      <td>124</td>\n",
       "      <td>2019-11-01 02:04:00</td>\n",
       "      <td>0.294550</td>\n",
       "      <td>120</td>\n",
       "      <td>244</td>\n",
       "      <td>2019-11-01 04:04:00</td>\n",
       "      <td>0.29537</td>\n",
       "      <td>...</td>\n",
       "      <td>0</td>\n",
       "      <td>no_volume</td>\n",
       "      <td>0.5</td>\n",
       "      <td>logistic</td>\n",
       "      <td>future_return_sign_120min</td>\n",
       "      <td>1.002784</td>\n",
       "      <td>1.001782</td>\n",
       "      <td>1.000780</td>\n",
       "      <td>0.999780</td>\n",
       "      <td>0.998781</td>\n",
       "    </tr>\n",
       "    <tr>\n",
       "      <th>2</th>\n",
       "      <td>1</td>\n",
       "      <td>long</td>\n",
       "      <td>xmrusd</td>\n",
       "      <td>254</td>\n",
       "      <td>2019-11-01 04:14:00</td>\n",
       "      <td>58.954000</td>\n",
       "      <td>121</td>\n",
       "      <td>375</td>\n",
       "      <td>2019-11-01 06:15:00</td>\n",
       "      <td>58.89800</td>\n",
       "      <td>...</td>\n",
       "      <td>0</td>\n",
       "      <td>no_volume</td>\n",
       "      <td>0.5</td>\n",
       "      <td>logistic</td>\n",
       "      <td>future_return_sign_120min</td>\n",
       "      <td>0.999050</td>\n",
       "      <td>0.998052</td>\n",
       "      <td>0.997054</td>\n",
       "      <td>0.996057</td>\n",
       "      <td>0.995062</td>\n",
       "    </tr>\n",
       "    <tr>\n",
       "      <th>3</th>\n",
       "      <td>1</td>\n",
       "      <td>long</td>\n",
       "      <td>dshusd</td>\n",
       "      <td>383</td>\n",
       "      <td>2019-11-01 06:23:00</td>\n",
       "      <td>71.379000</td>\n",
       "      <td>128</td>\n",
       "      <td>511</td>\n",
       "      <td>2019-11-01 08:31:00</td>\n",
       "      <td>71.29050</td>\n",
       "      <td>...</td>\n",
       "      <td>0</td>\n",
       "      <td>no_volume</td>\n",
       "      <td>0.5</td>\n",
       "      <td>logistic</td>\n",
       "      <td>future_return_sign_120min</td>\n",
       "      <td>0.998760</td>\n",
       "      <td>0.997762</td>\n",
       "      <td>0.996765</td>\n",
       "      <td>0.995768</td>\n",
       "      <td>0.994773</td>\n",
       "    </tr>\n",
       "    <tr>\n",
       "      <th>4</th>\n",
       "      <td>1</td>\n",
       "      <td>long</td>\n",
       "      <td>babusd</td>\n",
       "      <td>519</td>\n",
       "      <td>2019-11-01 08:39:00</td>\n",
       "      <td>281.000000</td>\n",
       "      <td>360</td>\n",
       "      <td>879</td>\n",
       "      <td>2019-11-01 14:39:00</td>\n",
       "      <td>276.51500</td>\n",
       "      <td>...</td>\n",
       "      <td>0</td>\n",
       "      <td>no_volume</td>\n",
       "      <td>0.5</td>\n",
       "      <td>logistic</td>\n",
       "      <td>future_return_sign_120min</td>\n",
       "      <td>0.984039</td>\n",
       "      <td>0.983056</td>\n",
       "      <td>0.982073</td>\n",
       "      <td>0.981091</td>\n",
       "      <td>0.980111</td>\n",
       "    </tr>\n",
       "  </tbody>\n",
       "</table>\n",
       "<p>5 rows × 21 columns</p>\n",
       "</div>"
      ],
      "text/plain": [
       "   position_num  type    pair  open_row_num            open_time   open_price  \\\n",
       "0             1  long  btcusd             2  2019-11-01 00:02:00  9150.465671   \n",
       "1             1  long  xrpusd           124  2019-11-01 02:04:00     0.294550   \n",
       "2             1  long  xmrusd           254  2019-11-01 04:14:00    58.954000   \n",
       "3             1  long  dshusd           383  2019-11-01 06:23:00    71.379000   \n",
       "4             1  long  babusd           519  2019-11-01 08:39:00   281.000000   \n",
       "\n",
       "   duration  close_row_num           close_time  close_price  ...  \\\n",
       "0       120            122  2019-11-01 02:02:00   9161.00000  ...   \n",
       "1       120            244  2019-11-01 04:04:00      0.29537  ...   \n",
       "2       121            375  2019-11-01 06:15:00     58.89800  ...   \n",
       "3       128            511  2019-11-01 08:31:00     71.29050  ...   \n",
       "4       360            879  2019-11-01 14:39:00    276.51500  ...   \n",
       "\n",
       "   transaction_cost  volume_spec threshold     model  \\\n",
       "0                 0    no_volume       0.5  logistic   \n",
       "1                 0    no_volume       0.5  logistic   \n",
       "2                 0    no_volume       0.5  logistic   \n",
       "3                 0    no_volume       0.5  logistic   \n",
       "4                 0    no_volume       0.5  logistic   \n",
       "\n",
       "                      target return_growth_rate_0bps  return_growth_rate_5bps  \\\n",
       "0  future_return_sign_120min                1.001151                 1.000151   \n",
       "1  future_return_sign_120min                1.002784                 1.001782   \n",
       "2  future_return_sign_120min                0.999050                 0.998052   \n",
       "3  future_return_sign_120min                0.998760                 0.997762   \n",
       "4  future_return_sign_120min                0.984039                 0.983056   \n",
       "\n",
       "   return_growth_rate_10bps  return_growth_rate_15bps  \\\n",
       "0                  0.999151                  0.998152   \n",
       "1                  1.000780                  0.999780   \n",
       "2                  0.997054                  0.996057   \n",
       "3                  0.996765                  0.995768   \n",
       "4                  0.982073                  0.981091   \n",
       "\n",
       "   return_growth_rate_20bps  \n",
       "0                  0.997155  \n",
       "1                  0.998781  \n",
       "2                  0.995062  \n",
       "3                  0.994773  \n",
       "4                  0.980111  \n",
       "\n",
       "[5 rows x 21 columns]"
      ]
     },
     "execution_count": 9,
     "metadata": {},
     "output_type": "execute_result"
    }
   ],
   "source": [
    "costs_bps = [ x*0.0005 for x in range(0, 5) ]\n",
    "# get growth rate for all bps\n",
    "for cost in costs_bps:\n",
    "    trading_returns_df[f\"return_growth_rate_{ int( cost * 10**4 ) }bps\"] = np.where(\n",
    "        trading_returns_df[\"type\"] == \"long\",\n",
    "        (trading_returns_df[\"close_price\"] / trading_returns_df[\"open_price\"]) * (1 - cost) / (1 + cost),\n",
    "        (trading_returns_df[\"open_price\"] / trading_returns_df[\"close_price\"]) * (1 - cost) / (1 + cost),\n",
    "    )\n",
    "print(trading_returns_df.shape)    \n",
    "trading_returns_df.head()    "
   ]
  },
  {
   "cell_type": "code",
   "execution_count": 10,
   "metadata": {
    "ExecuteTime": {
     "end_time": "2020-08-23T09:25:38.300422Z",
     "start_time": "2020-08-23T09:25:38.255511Z"
    }
   },
   "outputs": [
    {
     "data": {
      "text/plain": [
       "array(['logistic', 'forest', 'adaboost', 'ann'], dtype=object)"
      ]
     },
     "execution_count": 10,
     "metadata": {},
     "output_type": "execute_result"
    }
   ],
   "source": [
    "trading_returns_df[\"model\"].unique()"
   ]
  },
  {
   "cell_type": "code",
   "execution_count": 11,
   "metadata": {
    "ExecuteTime": {
     "end_time": "2020-08-23T09:25:42.877179Z",
     "start_time": "2020-08-23T09:25:42.176027Z"
    }
   },
   "outputs": [
    {
     "data": {
      "text/html": [
       "<div>\n",
       "<style scoped>\n",
       "    .dataframe tbody tr th:only-of-type {\n",
       "        vertical-align: middle;\n",
       "    }\n",
       "\n",
       "    .dataframe tbody tr th {\n",
       "        vertical-align: top;\n",
       "    }\n",
       "\n",
       "    .dataframe thead th {\n",
       "        text-align: right;\n",
       "    }\n",
       "</style>\n",
       "<table border=\"1\" class=\"dataframe\">\n",
       "  <thead>\n",
       "    <tr style=\"text-align: right;\">\n",
       "      <th></th>\n",
       "      <th>model</th>\n",
       "      <th>volume_spec</th>\n",
       "      <th>target</th>\n",
       "      <th>threshold</th>\n",
       "      <th>0bps</th>\n",
       "      <th>5bps</th>\n",
       "      <th>10bps</th>\n",
       "      <th>15bps</th>\n",
       "      <th>20bps</th>\n",
       "    </tr>\n",
       "  </thead>\n",
       "  <tbody>\n",
       "    <tr>\n",
       "      <th>0</th>\n",
       "      <td>AdaBoost</td>\n",
       "      <td>no volume</td>\n",
       "      <td>future_return_sign_120min</td>\n",
       "      <td>0.500</td>\n",
       "      <td>0.422660</td>\n",
       "      <td>-0.188043</td>\n",
       "      <td>-0.536556</td>\n",
       "      <td>-0.735459</td>\n",
       "      <td>-0.848985</td>\n",
       "    </tr>\n",
       "    <tr>\n",
       "      <th>1</th>\n",
       "      <td>AdaBoost</td>\n",
       "      <td>no volume</td>\n",
       "      <td>future_return_sign_120min</td>\n",
       "      <td>0.525</td>\n",
       "      <td>0.047180</td>\n",
       "      <td>-0.189609</td>\n",
       "      <td>-0.324076</td>\n",
       "      <td>-0.400529</td>\n",
       "      <td>-0.444092</td>\n",
       "    </tr>\n",
       "    <tr>\n",
       "      <th>2</th>\n",
       "      <td>AdaBoost</td>\n",
       "      <td>no volume</td>\n",
       "      <td>future_return_sign_120min</td>\n",
       "      <td>0.550</td>\n",
       "      <td>0.018871</td>\n",
       "      <td>-0.197584</td>\n",
       "      <td>-0.323893</td>\n",
       "      <td>-0.397685</td>\n",
       "      <td>-0.440883</td>\n",
       "    </tr>\n",
       "    <tr>\n",
       "      <th>3</th>\n",
       "      <td>AdaBoost</td>\n",
       "      <td>no volume</td>\n",
       "      <td>future_return_sign_120min</td>\n",
       "      <td>0.575</td>\n",
       "      <td>0.001132</td>\n",
       "      <td>0.000131</td>\n",
       "      <td>-0.000869</td>\n",
       "      <td>-0.001867</td>\n",
       "      <td>-0.002865</td>\n",
       "    </tr>\n",
       "    <tr>\n",
       "      <th>4</th>\n",
       "      <td>AdaBoost</td>\n",
       "      <td>no volume</td>\n",
       "      <td>future_return_sign_120min</td>\n",
       "      <td>0.600</td>\n",
       "      <td>0.001132</td>\n",
       "      <td>0.000131</td>\n",
       "      <td>-0.000869</td>\n",
       "      <td>-0.001867</td>\n",
       "      <td>-0.002865</td>\n",
       "    </tr>\n",
       "  </tbody>\n",
       "</table>\n",
       "</div>"
      ],
      "text/plain": [
       "      model volume_spec                     target  threshold      0bps  \\\n",
       "0  AdaBoost   no volume  future_return_sign_120min      0.500  0.422660   \n",
       "1  AdaBoost   no volume  future_return_sign_120min      0.525  0.047180   \n",
       "2  AdaBoost   no volume  future_return_sign_120min      0.550  0.018871   \n",
       "3  AdaBoost   no volume  future_return_sign_120min      0.575  0.001132   \n",
       "4  AdaBoost   no volume  future_return_sign_120min      0.600  0.001132   \n",
       "\n",
       "       5bps     10bps     15bps     20bps  \n",
       "0 -0.188043 -0.536556 -0.735459 -0.848985  \n",
       "1 -0.189609 -0.324076 -0.400529 -0.444092  \n",
       "2 -0.197584 -0.323893 -0.397685 -0.440883  \n",
       "3  0.000131 -0.000869 -0.001867 -0.002865  \n",
       "4  0.000131 -0.000869 -0.001867 -0.002865  "
      ]
     },
     "execution_count": 11,
     "metadata": {},
     "output_type": "execute_result"
    }
   ],
   "source": [
    "agg_returns_df = (\n",
    "    (\n",
    "        (   \n",
    "            # get total return per individual trading simulation\n",
    "            trading_returns_df\n",
    "            .groupby([\"model\", \"volume_spec\", \"target\", \"threshold\", \"position_num\", \"type\" ])\n",
    "            .agg(\n",
    "                { f\"return_growth_rate_{int( cost * 10**4 )}bps\": \"prod\" for cost in costs_bps }\n",
    "            )\n",
    "            .reset_index()\n",
    "        )\n",
    "        # get mean return per position type\n",
    "        .groupby([\"model\", \"volume_spec\", \"target\", \"threshold\", \"type\"])\n",
    "        .agg(\n",
    "                { f\"return_growth_rate_{int( cost * 10**4 )}bps\": \"mean\" for cost in costs_bps }\n",
    "        )\n",
    "        .reset_index()\n",
    "    )\n",
    "    # mean return per threshold\n",
    "    .groupby([\"model\", \"volume_spec\", \"target\", \"threshold\",])\n",
    "    .agg(\n",
    "            **{ f\"{int( cost * 10**4 )}bps\": (f\"return_growth_rate_{int( cost * 10**4 )}bps\", \"mean\") for cost in costs_bps }\n",
    "    )\n",
    "    -1\n",
    ").reset_index()\n",
    "# print(agg_returns_df[ agg_returns_df[\"model\"] == \"forest\" ][\"open_time\"].max())\n",
    "agg_returns_df[\"target\"] = agg_returns_df[\"target\"].str.replace(\"future_2state_movement_\", \"\")\n",
    "agg_returns_df[\"volume_spec\"] = agg_returns_df[\"volume_spec\"].str.replace(\"_\", \" \")\n",
    "agg_returns_df[\"model\"] = agg_returns_df[\"model\"].map(MODEL_NAMES)\n",
    "agg_returns_df.head()"
   ]
  },
  {
   "cell_type": "code",
   "execution_count": 17,
   "metadata": {
    "ExecuteTime": {
     "end_time": "2020-08-23T10:01:05.035884Z",
     "start_time": "2020-08-23T10:01:04.212088Z"
    }
   },
   "outputs": [
    {
     "data": {
      "image/png": "[encoded data removed]",
      "text/plain": [
       "<Figure size 1080x360 with 1 Axes>"
      ]
     },
     "metadata": {
      "needs_background": "light"
     },
     "output_type": "display_data"
    },
    {
     "data": {
      "image/png": "[encoded data removed]",
      "text/plain": [
       "<Figure size 1080x360 with 1 Axes>"
      ]
     },
     "metadata": {
      "needs_background": "light"
     },
     "output_type": "display_data"
    },
    {
     "data": {
      "image/png": "[encoded data removed]",
      "text/plain": [
       "<Figure size 1080x360 with 1 Axes>"
      ]
     },
     "metadata": {
      "needs_background": "light"
     },
     "output_type": "display_data"
    },
    {
     "data": {
      "image/png": "[encoded data removed]",
      "text/plain": [
       "<Figure size 1080x360 with 1 Axes>"
      ]
     },
     "metadata": {
      "needs_background": "light"
     },
     "output_type": "display_data"
    },
    {
     "data": {
      "text/plain": [
       "<Figure size 1080x360 with 0 Axes>"
      ]
     },
     "metadata": {},
     "output_type": "display_data"
    }
   ],
   "source": [
    "for volume_spec in agg_returns_df[\"volume_spec\"].unique():\n",
    "    for target, duration in alt_targets.items():\n",
    "        df = agg_returns_df[ \n",
    "             (agg_returns_df[\"volume_spec\"] == volume_spec) \n",
    "            & (agg_returns_df[\"target\"] == target) \n",
    "        ]\n",
    "        ax = sns.lineplot(x=\"threshold\", y=\"15bps\", hue=\"model\", data=df)\n",
    "        ax.axhline(y=0, color='r', linestyle='--')\n",
    "        ax.set_title(f\"Total returns at different thresholds at 15bps trained on BTC ({volume_spec}, {duration})\")\n",
    "        ax.set_ylabel(\"Return\")\n",
    "        ax.yaxis.set_major_formatter(ticker.PercentFormatter(1))\n",
    "        ax.set_xlabel(\"Threshold\")  \n",
    "#         ax.set_xlim((0.5, 0.75))\n",
    "        plt.show()\n",
    "#         plt.draw()\n",
    "#         plt.savefig(f\"../results/alternative/btc_threshold_vs_return_15bps_{volume_spec}_{target}.png\")\n",
    "        plt.clf()"
   ]
  },
  {
   "cell_type": "markdown",
   "metadata": {},
   "source": [
    "Notes:\n",
    "- forest, with volume, 120min -> thresh: 0.75\n",
    "- forest, with volume, 240min -> thresh: 0.75\n",
    "- dnn, with volume, 120min -> thresh: 0.75\n",
    "- dnn , with volume, 120min -> thresh: 0.75"
   ]
  },
  {
   "cell_type": "markdown",
   "metadata": {},
   "source": [
    "### Accuracy"
   ]
  },
  {
   "cell_type": "code",
   "execution_count": 18,
   "metadata": {
    "ExecuteTime": {
     "end_time": "2020-08-13T09:34:00.570117Z",
     "start_time": "2020-08-13T09:33:54.572148Z"
    }
   },
   "outputs": [
    {
     "name": "stderr",
     "output_type": "stream",
     "text": [
      "c:\\users\\rared\\appdata\\local\\programs\\python\\python37\\lib\\site-packages\\pandas\\core\\series.py:679: RuntimeWarning: invalid value encountered in sign\n",
      "  result = getattr(ufunc, method)(*inputs, **kwargs)\n"
     ]
    }
   ],
   "source": [
    "ALT_TARGETS = [\"future_return_sign_120min\", \"future_return_sign_240min\"]\n",
    "top10_1min_df['future_return_sign_120min'] = np.sign(top10_1min_df['future_return_120min_constraint'])\n",
    "top10_1min_df['future_return_sign_240min'] = np.sign(top10_1min_df['future_return_240min_constraint'])\n",
    "\n",
    "filtered_1min_df = (\n",
    "    top10_1min_df\n",
    "    [ top10_1min_df[ f\"volume_scaled\"].shift(-1) != 0 ]\n",
    "    .dropna()\n",
    ")"
   ]
  },
  {
   "cell_type": "code",
   "execution_count": 26,
   "metadata": {
    "ExecuteTime": {
     "end_time": "2020-08-13T09:58:13.625961Z",
     "start_time": "2020-08-13T09:58:13.620975Z"
    }
   },
   "outputs": [
    {
     "data": {
      "text/plain": [
       "Index(['Unnamed: 0', 'time', 'open', 'close', 'high', 'low', 'volume',\n",
       "       'middle_median', 'pair', 'volume_scaled', 'middle_return_5min',\n",
       "       'volume_scaled_5min', 'middle_return_10min', 'volume_scaled_10min',\n",
       "       'middle_return_20min', 'volume_scaled_20min', 'middle_return_40min',\n",
       "       'volume_scaled_40min', 'middle_return_60min', 'volume_scaled_60min',\n",
       "       'middle_return_80min', 'volume_scaled_80min', 'middle_return_100min',\n",
       "       'volume_scaled_100min', 'middle_return_120min', 'volume_scaled_120min',\n",
       "       'middle_return_240min', 'volume_scaled_240min', 'middle_return_360min',\n",
       "       'volume_scaled_360min', 'middle_return_480min', 'volume_scaled_480min',\n",
       "       'middle_return_600min', 'volume_scaled_600min', 'middle_return_720min',\n",
       "       'volume_scaled_720min', 'middle_return_840min', 'volume_scaled_840min',\n",
       "       'middle_return_960min', 'volume_scaled_960min', 'middle_return_1080min',\n",
       "       'volume_scaled_1080min', 'middle_return_1200min',\n",
       "       'volume_scaled_1200min', 'middle_return_1320min',\n",
       "       'volume_scaled_1320min', 'middle_return_1440min',\n",
       "       'volume_scaled_1440min', 'middle_return_1680min',\n",
       "       'volume_scaled_1680min', 'middle_return_1920min',\n",
       "       'volume_scaled_1920min', 'future_middle_return_120min',\n",
       "       'future_middle_return_240min', 'middle_return_1min',\n",
       "       'volume_scaled_1min', 'future_return_120min_constraint',\n",
       "       'future_return_240min_constraint',\n",
       "       'future_net_return_120min_long_15bps',\n",
       "       'future_net_return_120min_short_15bps',\n",
       "       'future_net_return_240min_long_15bps',\n",
       "       'future_net_return_240min_short_15bps', 'cross_sectional_median_120min',\n",
       "       'cross_sectional_median_240min',\n",
       "       'cross_sectional_median_120min_long_15bps',\n",
       "       'cross_sectional_median_120min_short_15bps',\n",
       "       'cross_sectional_median_240min_long_15bps',\n",
       "       'cross_sectional_median_240min_short_15bps',\n",
       "       'future_2state_movement_120min', 'future_3state_movement_120min',\n",
       "       'future_2state_movement_240min', 'future_3state_movement_240min',\n",
       "       'future_return_sign_120min', 'future_return_sign_240min'],\n",
       "      dtype='object')"
      ]
     },
     "execution_count": 26,
     "metadata": {},
     "output_type": "execute_result"
    }
   ],
   "source": [
    "filtered_1min_df.columns"
   ]
  },
  {
   "cell_type": "code",
   "execution_count": 31,
   "metadata": {
    "ExecuteTime": {
     "end_time": "2020-08-13T10:01:47.468490Z",
     "start_time": "2020-08-13T10:01:47.461508Z"
    }
   },
   "outputs": [
    {
     "data": {
      "text/plain": [
       "set()"
      ]
     },
     "execution_count": 31,
     "metadata": {},
     "output_type": "execute_result"
    }
   ],
   "source": [
    "set(feature_selections[\"with_volume\"]) - set(filtered_1min_df.columns)"
   ]
  },
  {
   "cell_type": "code",
   "execution_count": 28,
   "metadata": {
    "ExecuteTime": {
     "end_time": "2020-08-13T09:59:12.564455Z",
     "start_time": "2020-08-13T09:59:11.533212Z"
    },
    "scrolled": true
   },
   "outputs": [
    {
     "data": {
      "text/html": [
       "<div>\n",
       "<style scoped>\n",
       "    .dataframe tbody tr th:only-of-type {\n",
       "        vertical-align: middle;\n",
       "    }\n",
       "\n",
       "    .dataframe tbody tr th {\n",
       "        vertical-align: top;\n",
       "    }\n",
       "\n",
       "    .dataframe thead th {\n",
       "        text-align: right;\n",
       "    }\n",
       "</style>\n",
       "<table border=\"1\" class=\"dataframe\">\n",
       "  <thead>\n",
       "    <tr style=\"text-align: right;\">\n",
       "      <th></th>\n",
       "      <th>volume_scaled</th>\n",
       "      <th>middle_return_5min</th>\n",
       "      <th>volume_scaled_5min</th>\n",
       "      <th>middle_return_10min</th>\n",
       "      <th>volume_scaled_10min</th>\n",
       "      <th>middle_return_20min</th>\n",
       "      <th>volume_scaled_20min</th>\n",
       "      <th>middle_return_40min</th>\n",
       "      <th>volume_scaled_40min</th>\n",
       "      <th>middle_return_60min</th>\n",
       "      <th>...</th>\n",
       "      <th>middle_return_1320min</th>\n",
       "      <th>volume_scaled_1320min</th>\n",
       "      <th>middle_return_1440min</th>\n",
       "      <th>volume_scaled_1440min</th>\n",
       "      <th>middle_return_1680min</th>\n",
       "      <th>volume_scaled_1680min</th>\n",
       "      <th>middle_return_1920min</th>\n",
       "      <th>volume_scaled_1920min</th>\n",
       "      <th>middle_return_1min</th>\n",
       "      <th>volume_scaled_1min</th>\n",
       "    </tr>\n",
       "  </thead>\n",
       "  <tbody>\n",
       "    <tr>\n",
       "      <th>1920</th>\n",
       "      <td>0.489633</td>\n",
       "      <td>0.000263</td>\n",
       "      <td>0.557690</td>\n",
       "      <td>0.000523</td>\n",
       "      <td>0.691986</td>\n",
       "      <td>-0.001260</td>\n",
       "      <td>0.986940</td>\n",
       "      <td>-0.003377</td>\n",
       "      <td>0.495302</td>\n",
       "      <td>-0.004098</td>\n",
       "      <td>...</td>\n",
       "      <td>0.016195</td>\n",
       "      <td>0.713396</td>\n",
       "      <td>0.023149</td>\n",
       "      <td>0.513022</td>\n",
       "      <td>0.027520</td>\n",
       "      <td>0.680862</td>\n",
       "      <td>0.025708</td>\n",
       "      <td>0.153225</td>\n",
       "      <td>-0.000025</td>\n",
       "      <td>0.213029</td>\n",
       "    </tr>\n",
       "    <tr>\n",
       "      <th>1921</th>\n",
       "      <td>0.092626</td>\n",
       "      <td>0.000178</td>\n",
       "      <td>0.222179</td>\n",
       "      <td>0.000612</td>\n",
       "      <td>0.421747</td>\n",
       "      <td>-0.000560</td>\n",
       "      <td>0.810159</td>\n",
       "      <td>-0.003554</td>\n",
       "      <td>0.347962</td>\n",
       "      <td>-0.004351</td>\n",
       "      <td>...</td>\n",
       "      <td>0.016349</td>\n",
       "      <td>0.588043</td>\n",
       "      <td>0.023109</td>\n",
       "      <td>0.097362</td>\n",
       "      <td>0.027596</td>\n",
       "      <td>0.681423</td>\n",
       "      <td>0.025399</td>\n",
       "      <td>0.971958</td>\n",
       "      <td>0.000013</td>\n",
       "      <td>0.489633</td>\n",
       "    </tr>\n",
       "    <tr>\n",
       "      <th>1922</th>\n",
       "      <td>0.737697</td>\n",
       "      <td>0.000217</td>\n",
       "      <td>0.378792</td>\n",
       "      <td>0.000556</td>\n",
       "      <td>0.934573</td>\n",
       "      <td>-0.000649</td>\n",
       "      <td>0.532970</td>\n",
       "      <td>-0.003618</td>\n",
       "      <td>0.411311</td>\n",
       "      <td>-0.004313</td>\n",
       "      <td>...</td>\n",
       "      <td>0.016579</td>\n",
       "      <td>0.448983</td>\n",
       "      <td>0.022952</td>\n",
       "      <td>0.214766</td>\n",
       "      <td>0.027385</td>\n",
       "      <td>0.703159</td>\n",
       "      <td>0.024791</td>\n",
       "      <td>0.854724</td>\n",
       "      <td>-0.000140</td>\n",
       "      <td>0.092626</td>\n",
       "    </tr>\n",
       "    <tr>\n",
       "      <th>1923</th>\n",
       "      <td>0.489843</td>\n",
       "      <td>0.000051</td>\n",
       "      <td>0.273906</td>\n",
       "      <td>0.000671</td>\n",
       "      <td>0.434424</td>\n",
       "      <td>-0.000408</td>\n",
       "      <td>0.562043</td>\n",
       "      <td>-0.003618</td>\n",
       "      <td>0.453981</td>\n",
       "      <td>-0.003770</td>\n",
       "      <td>...</td>\n",
       "      <td>0.017079</td>\n",
       "      <td>0.398652</td>\n",
       "      <td>0.023005</td>\n",
       "      <td>0.058099</td>\n",
       "      <td>0.027343</td>\n",
       "      <td>0.673464</td>\n",
       "      <td>0.023899</td>\n",
       "      <td>0.942818</td>\n",
       "      <td>0.000051</td>\n",
       "      <td>0.737697</td>\n",
       "    </tr>\n",
       "    <tr>\n",
       "      <th>1924</th>\n",
       "      <td>0.871862</td>\n",
       "      <td>0.000841</td>\n",
       "      <td>0.213029</td>\n",
       "      <td>0.001282</td>\n",
       "      <td>0.767614</td>\n",
       "      <td>-0.000025</td>\n",
       "      <td>0.176386</td>\n",
       "      <td>-0.002666</td>\n",
       "      <td>0.361211</td>\n",
       "      <td>-0.002653</td>\n",
       "      <td>...</td>\n",
       "      <td>0.018157</td>\n",
       "      <td>0.436945</td>\n",
       "      <td>0.023996</td>\n",
       "      <td>0.261860</td>\n",
       "      <td>0.028406</td>\n",
       "      <td>0.817439</td>\n",
       "      <td>0.024351</td>\n",
       "      <td>0.424673</td>\n",
       "      <td>0.000943</td>\n",
       "      <td>0.489843</td>\n",
       "    </tr>\n",
       "    <tr>\n",
       "      <th>...</th>\n",
       "      <td>...</td>\n",
       "      <td>...</td>\n",
       "      <td>...</td>\n",
       "      <td>...</td>\n",
       "      <td>...</td>\n",
       "      <td>...</td>\n",
       "      <td>...</td>\n",
       "      <td>...</td>\n",
       "      <td>...</td>\n",
       "      <td>...</td>\n",
       "      <td>...</td>\n",
       "      <td>...</td>\n",
       "      <td>...</td>\n",
       "      <td>...</td>\n",
       "      <td>...</td>\n",
       "      <td>...</td>\n",
       "      <td>...</td>\n",
       "      <td>...</td>\n",
       "      <td>...</td>\n",
       "      <td>...</td>\n",
       "      <td>...</td>\n",
       "    </tr>\n",
       "    <tr>\n",
       "      <th>5255690</th>\n",
       "      <td>0.000000</td>\n",
       "      <td>0.000000</td>\n",
       "      <td>0.000000</td>\n",
       "      <td>-0.000648</td>\n",
       "      <td>0.000000</td>\n",
       "      <td>-0.002838</td>\n",
       "      <td>0.000000</td>\n",
       "      <td>-0.006964</td>\n",
       "      <td>0.000000</td>\n",
       "      <td>-0.009868</td>\n",
       "      <td>...</td>\n",
       "      <td>-0.017913</td>\n",
       "      <td>0.000000</td>\n",
       "      <td>-0.025235</td>\n",
       "      <td>0.000000</td>\n",
       "      <td>-0.050702</td>\n",
       "      <td>0.000000</td>\n",
       "      <td>-0.048142</td>\n",
       "      <td>0.000000</td>\n",
       "      <td>0.000000</td>\n",
       "      <td>0.000000</td>\n",
       "    </tr>\n",
       "    <tr>\n",
       "      <th>5255723</th>\n",
       "      <td>0.000000</td>\n",
       "      <td>0.000000</td>\n",
       "      <td>0.000000</td>\n",
       "      <td>0.000000</td>\n",
       "      <td>0.000000</td>\n",
       "      <td>0.000000</td>\n",
       "      <td>0.000000</td>\n",
       "      <td>-0.000961</td>\n",
       "      <td>0.000000</td>\n",
       "      <td>-0.009429</td>\n",
       "      <td>...</td>\n",
       "      <td>-0.021395</td>\n",
       "      <td>0.000000</td>\n",
       "      <td>-0.026263</td>\n",
       "      <td>0.000000</td>\n",
       "      <td>-0.049501</td>\n",
       "      <td>0.439032</td>\n",
       "      <td>-0.053039</td>\n",
       "      <td>0.000000</td>\n",
       "      <td>0.000000</td>\n",
       "      <td>0.000000</td>\n",
       "    </tr>\n",
       "    <tr>\n",
       "      <th>5255724</th>\n",
       "      <td>0.184155</td>\n",
       "      <td>0.000024</td>\n",
       "      <td>0.000000</td>\n",
       "      <td>0.000024</td>\n",
       "      <td>0.000000</td>\n",
       "      <td>0.000024</td>\n",
       "      <td>0.000000</td>\n",
       "      <td>-0.000937</td>\n",
       "      <td>0.000000</td>\n",
       "      <td>-0.009406</td>\n",
       "      <td>...</td>\n",
       "      <td>-0.021372</td>\n",
       "      <td>0.000000</td>\n",
       "      <td>-0.026239</td>\n",
       "      <td>0.000000</td>\n",
       "      <td>-0.049478</td>\n",
       "      <td>0.000000</td>\n",
       "      <td>-0.053016</td>\n",
       "      <td>0.000000</td>\n",
       "      <td>0.000024</td>\n",
       "      <td>0.000000</td>\n",
       "    </tr>\n",
       "    <tr>\n",
       "      <th>5255727</th>\n",
       "      <td>0.000000</td>\n",
       "      <td>0.000024</td>\n",
       "      <td>0.000000</td>\n",
       "      <td>0.000024</td>\n",
       "      <td>0.000000</td>\n",
       "      <td>0.000024</td>\n",
       "      <td>0.000000</td>\n",
       "      <td>-0.000937</td>\n",
       "      <td>0.000000</td>\n",
       "      <td>-0.005165</td>\n",
       "      <td>...</td>\n",
       "      <td>-0.021372</td>\n",
       "      <td>0.000000</td>\n",
       "      <td>-0.028366</td>\n",
       "      <td>0.000000</td>\n",
       "      <td>-0.049478</td>\n",
       "      <td>0.000000</td>\n",
       "      <td>-0.053016</td>\n",
       "      <td>0.000000</td>\n",
       "      <td>0.000000</td>\n",
       "      <td>0.000000</td>\n",
       "    </tr>\n",
       "    <tr>\n",
       "      <th>5255732</th>\n",
       "      <td>0.000000</td>\n",
       "      <td>0.000000</td>\n",
       "      <td>0.000000</td>\n",
       "      <td>0.000024</td>\n",
       "      <td>0.000000</td>\n",
       "      <td>0.000024</td>\n",
       "      <td>0.000000</td>\n",
       "      <td>0.000024</td>\n",
       "      <td>0.000000</td>\n",
       "      <td>-0.003772</td>\n",
       "      <td>...</td>\n",
       "      <td>-0.021452</td>\n",
       "      <td>0.000000</td>\n",
       "      <td>-0.028366</td>\n",
       "      <td>0.000000</td>\n",
       "      <td>-0.049478</td>\n",
       "      <td>0.000000</td>\n",
       "      <td>-0.053016</td>\n",
       "      <td>0.000000</td>\n",
       "      <td>0.000000</td>\n",
       "      <td>0.000000</td>\n",
       "    </tr>\n",
       "  </tbody>\n",
       "</table>\n",
       "<p>3071050 rows × 45 columns</p>\n",
       "</div>"
      ],
      "text/plain": [
       "         volume_scaled  middle_return_5min  volume_scaled_5min  \\\n",
       "1920          0.489633            0.000263            0.557690   \n",
       "1921          0.092626            0.000178            0.222179   \n",
       "1922          0.737697            0.000217            0.378792   \n",
       "1923          0.489843            0.000051            0.273906   \n",
       "1924          0.871862            0.000841            0.213029   \n",
       "...                ...                 ...                 ...   \n",
       "5255690       0.000000            0.000000            0.000000   \n",
       "5255723       0.000000            0.000000            0.000000   \n",
       "5255724       0.184155            0.000024            0.000000   \n",
       "5255727       0.000000            0.000024            0.000000   \n",
       "5255732       0.000000            0.000000            0.000000   \n",
       "\n",
       "         middle_return_10min  volume_scaled_10min  middle_return_20min  \\\n",
       "1920                0.000523             0.691986            -0.001260   \n",
       "1921                0.000612             0.421747            -0.000560   \n",
       "1922                0.000556             0.934573            -0.000649   \n",
       "1923                0.000671             0.434424            -0.000408   \n",
       "1924                0.001282             0.767614            -0.000025   \n",
       "...                      ...                  ...                  ...   \n",
       "5255690            -0.000648             0.000000            -0.002838   \n",
       "5255723             0.000000             0.000000             0.000000   \n",
       "5255724             0.000024             0.000000             0.000024   \n",
       "5255727             0.000024             0.000000             0.000024   \n",
       "5255732             0.000024             0.000000             0.000024   \n",
       "\n",
       "         volume_scaled_20min  middle_return_40min  volume_scaled_40min  \\\n",
       "1920                0.986940            -0.003377             0.495302   \n",
       "1921                0.810159            -0.003554             0.347962   \n",
       "1922                0.532970            -0.003618             0.411311   \n",
       "1923                0.562043            -0.003618             0.453981   \n",
       "1924                0.176386            -0.002666             0.361211   \n",
       "...                      ...                  ...                  ...   \n",
       "5255690             0.000000            -0.006964             0.000000   \n",
       "5255723             0.000000            -0.000961             0.000000   \n",
       "5255724             0.000000            -0.000937             0.000000   \n",
       "5255727             0.000000            -0.000937             0.000000   \n",
       "5255732             0.000000             0.000024             0.000000   \n",
       "\n",
       "         middle_return_60min  ...  middle_return_1320min  \\\n",
       "1920               -0.004098  ...               0.016195   \n",
       "1921               -0.004351  ...               0.016349   \n",
       "1922               -0.004313  ...               0.016579   \n",
       "1923               -0.003770  ...               0.017079   \n",
       "1924               -0.002653  ...               0.018157   \n",
       "...                      ...  ...                    ...   \n",
       "5255690            -0.009868  ...              -0.017913   \n",
       "5255723            -0.009429  ...              -0.021395   \n",
       "5255724            -0.009406  ...              -0.021372   \n",
       "5255727            -0.005165  ...              -0.021372   \n",
       "5255732            -0.003772  ...              -0.021452   \n",
       "\n",
       "         volume_scaled_1320min  middle_return_1440min  volume_scaled_1440min  \\\n",
       "1920                  0.713396               0.023149               0.513022   \n",
       "1921                  0.588043               0.023109               0.097362   \n",
       "1922                  0.448983               0.022952               0.214766   \n",
       "1923                  0.398652               0.023005               0.058099   \n",
       "1924                  0.436945               0.023996               0.261860   \n",
       "...                        ...                    ...                    ...   \n",
       "5255690               0.000000              -0.025235               0.000000   \n",
       "5255723               0.000000              -0.026263               0.000000   \n",
       "5255724               0.000000              -0.026239               0.000000   \n",
       "5255727               0.000000              -0.028366               0.000000   \n",
       "5255732               0.000000              -0.028366               0.000000   \n",
       "\n",
       "         middle_return_1680min  volume_scaled_1680min  middle_return_1920min  \\\n",
       "1920                  0.027520               0.680862               0.025708   \n",
       "1921                  0.027596               0.681423               0.025399   \n",
       "1922                  0.027385               0.703159               0.024791   \n",
       "1923                  0.027343               0.673464               0.023899   \n",
       "1924                  0.028406               0.817439               0.024351   \n",
       "...                        ...                    ...                    ...   \n",
       "5255690              -0.050702               0.000000              -0.048142   \n",
       "5255723              -0.049501               0.439032              -0.053039   \n",
       "5255724              -0.049478               0.000000              -0.053016   \n",
       "5255727              -0.049478               0.000000              -0.053016   \n",
       "5255732              -0.049478               0.000000              -0.053016   \n",
       "\n",
       "         volume_scaled_1920min  middle_return_1min  volume_scaled_1min  \n",
       "1920                  0.153225           -0.000025            0.213029  \n",
       "1921                  0.971958            0.000013            0.489633  \n",
       "1922                  0.854724           -0.000140            0.092626  \n",
       "1923                  0.942818            0.000051            0.737697  \n",
       "1924                  0.424673            0.000943            0.489843  \n",
       "...                        ...                 ...                 ...  \n",
       "5255690               0.000000            0.000000            0.000000  \n",
       "5255723               0.000000            0.000000            0.000000  \n",
       "5255724               0.000000            0.000024            0.000000  \n",
       "5255727               0.000000            0.000000            0.000000  \n",
       "5255732               0.000000            0.000000            0.000000  \n",
       "\n",
       "[3071050 rows x 45 columns]"
      ]
     },
     "execution_count": 28,
     "metadata": {},
     "output_type": "execute_result"
    }
   ],
   "source": [
    "filtered_1min_df[feature_selections[\"with_volume\"]]"
   ]
  },
  {
   "cell_type": "code",
   "execution_count": 29,
   "metadata": {
    "ExecuteTime": {
     "end_time": "2020-08-13T10:00:31.325972Z",
     "start_time": "2020-08-13T10:00:27.855248Z"
    }
   },
   "outputs": [
    {
     "ename": "ValueError",
     "evalue": "X does not have the same number of features as the previously fitted data. Got 45 instead of 22.",
     "output_type": "error",
     "traceback": [
      "\u001b[1;31m---------------------------------------------------------------------------\u001b[0m",
      "\u001b[1;31mValueError\u001b[0m                                Traceback (most recent call last)",
      "\u001b[1;32m<ipython-input-29-c76e3eb842b3>\u001b[0m in \u001b[0;36m<module>\u001b[1;34m\u001b[0m\n\u001b[0;32m      9\u001b[0m \u001b[0my_test\u001b[0m \u001b[1;33m=\u001b[0m \u001b[0mfiltered_1min_df\u001b[0m\u001b[1;33m[\u001b[0m \u001b[1;33m(\u001b[0m\u001b[0mfiltered_1min_df\u001b[0m\u001b[1;33m[\u001b[0m\u001b[1;34m\"time\"\u001b[0m\u001b[1;33m]\u001b[0m \u001b[1;33m>=\u001b[0m \u001b[1;34m\"2019-11-01\"\u001b[0m\u001b[1;33m)\u001b[0m \u001b[1;33m]\u001b[0m\u001b[1;33m[\u001b[0m\u001b[1;34m\"future_return_sign_120min\"\u001b[0m\u001b[1;33m]\u001b[0m\u001b[1;33m\u001b[0m\u001b[1;33m\u001b[0m\u001b[0m\n\u001b[0;32m     10\u001b[0m \u001b[1;33m\u001b[0m\u001b[0m\n\u001b[1;32m---> 11\u001b[1;33m \u001b[0maccuracy_train\u001b[0m \u001b[1;33m=\u001b[0m \u001b[0mclf\u001b[0m\u001b[1;33m.\u001b[0m\u001b[0mscore\u001b[0m\u001b[1;33m(\u001b[0m \u001b[0mx_train\u001b[0m\u001b[1;33m,\u001b[0m \u001b[0my_train\u001b[0m\u001b[1;33m)\u001b[0m\u001b[1;33m\u001b[0m\u001b[1;33m\u001b[0m\u001b[0m\n\u001b[0m\u001b[0;32m     12\u001b[0m \u001b[0maccuracy_test\u001b[0m \u001b[1;33m=\u001b[0m \u001b[0mclf\u001b[0m\u001b[1;33m.\u001b[0m\u001b[0mscore\u001b[0m\u001b[1;33m(\u001b[0m \u001b[0mx_test\u001b[0m\u001b[1;33m,\u001b[0m \u001b[0my_test\u001b[0m\u001b[1;33m)\u001b[0m\u001b[1;33m\u001b[0m\u001b[1;33m\u001b[0m\u001b[0m\n\u001b[0;32m     13\u001b[0m accuracy_scores.append({\n",
      "\u001b[1;32mc:\\users\\rared\\appdata\\local\\programs\\python\\python37\\lib\\site-packages\\sklearn\\model_selection\\_search.py\u001b[0m in \u001b[0;36mscore\u001b[1;34m(self, X, y)\u001b[0m\n\u001b[0;32m    446\u001b[0m                              % self.best_estimator_)\n\u001b[0;32m    447\u001b[0m         \u001b[0mscore\u001b[0m \u001b[1;33m=\u001b[0m \u001b[0mself\u001b[0m\u001b[1;33m.\u001b[0m\u001b[0mscorer_\u001b[0m\u001b[1;33m[\u001b[0m\u001b[0mself\u001b[0m\u001b[1;33m.\u001b[0m\u001b[0mrefit\u001b[0m\u001b[1;33m]\u001b[0m \u001b[1;32mif\u001b[0m \u001b[0mself\u001b[0m\u001b[1;33m.\u001b[0m\u001b[0mmultimetric_\u001b[0m \u001b[1;32melse\u001b[0m \u001b[0mself\u001b[0m\u001b[1;33m.\u001b[0m\u001b[0mscorer_\u001b[0m\u001b[1;33m\u001b[0m\u001b[1;33m\u001b[0m\u001b[0m\n\u001b[1;32m--> 448\u001b[1;33m         \u001b[1;32mreturn\u001b[0m \u001b[0mscore\u001b[0m\u001b[1;33m(\u001b[0m\u001b[0mself\u001b[0m\u001b[1;33m.\u001b[0m\u001b[0mbest_estimator_\u001b[0m\u001b[1;33m,\u001b[0m \u001b[0mX\u001b[0m\u001b[1;33m,\u001b[0m \u001b[0my\u001b[0m\u001b[1;33m)\u001b[0m\u001b[1;33m\u001b[0m\u001b[1;33m\u001b[0m\u001b[0m\n\u001b[0m\u001b[0;32m    449\u001b[0m \u001b[1;33m\u001b[0m\u001b[0m\n\u001b[0;32m    450\u001b[0m     \u001b[1;32mdef\u001b[0m \u001b[0m_check_is_fitted\u001b[0m\u001b[1;33m(\u001b[0m\u001b[0mself\u001b[0m\u001b[1;33m,\u001b[0m \u001b[0mmethod_name\u001b[0m\u001b[1;33m)\u001b[0m\u001b[1;33m:\u001b[0m\u001b[1;33m\u001b[0m\u001b[1;33m\u001b[0m\u001b[0m\n",
      "\u001b[1;32mc:\\users\\rared\\appdata\\local\\programs\\python\\python37\\lib\\site-packages\\sklearn\\metrics\\_scorer.py\u001b[0m in \u001b[0;36m_passthrough_scorer\u001b[1;34m(estimator, *args, **kwargs)\u001b[0m\n\u001b[0;32m    369\u001b[0m \u001b[1;32mdef\u001b[0m \u001b[0m_passthrough_scorer\u001b[0m\u001b[1;33m(\u001b[0m\u001b[0mestimator\u001b[0m\u001b[1;33m,\u001b[0m \u001b[1;33m*\u001b[0m\u001b[0margs\u001b[0m\u001b[1;33m,\u001b[0m \u001b[1;33m**\u001b[0m\u001b[0mkwargs\u001b[0m\u001b[1;33m)\u001b[0m\u001b[1;33m:\u001b[0m\u001b[1;33m\u001b[0m\u001b[1;33m\u001b[0m\u001b[0m\n\u001b[0;32m    370\u001b[0m     \u001b[1;34m\"\"\"Function that wraps estimator.score\"\"\"\u001b[0m\u001b[1;33m\u001b[0m\u001b[1;33m\u001b[0m\u001b[0m\n\u001b[1;32m--> 371\u001b[1;33m     \u001b[1;32mreturn\u001b[0m \u001b[0mestimator\u001b[0m\u001b[1;33m.\u001b[0m\u001b[0mscore\u001b[0m\u001b[1;33m(\u001b[0m\u001b[1;33m*\u001b[0m\u001b[0margs\u001b[0m\u001b[1;33m,\u001b[0m \u001b[1;33m**\u001b[0m\u001b[0mkwargs\u001b[0m\u001b[1;33m)\u001b[0m\u001b[1;33m\u001b[0m\u001b[1;33m\u001b[0m\u001b[0m\n\u001b[0m\u001b[0;32m    372\u001b[0m \u001b[1;33m\u001b[0m\u001b[0m\n\u001b[0;32m    373\u001b[0m \u001b[1;33m\u001b[0m\u001b[0m\n",
      "\u001b[1;32mc:\\users\\rared\\appdata\\local\\programs\\python\\python37\\lib\\site-packages\\sklearn\\utils\\metaestimators.py\u001b[0m in \u001b[0;36m<lambda>\u001b[1;34m(*args, **kwargs)\u001b[0m\n\u001b[0;32m    114\u001b[0m \u001b[1;33m\u001b[0m\u001b[0m\n\u001b[0;32m    115\u001b[0m         \u001b[1;31m# lambda, but not partial, allows help() to work with update_wrapper\u001b[0m\u001b[1;33m\u001b[0m\u001b[1;33m\u001b[0m\u001b[1;33m\u001b[0m\u001b[0m\n\u001b[1;32m--> 116\u001b[1;33m         \u001b[0mout\u001b[0m \u001b[1;33m=\u001b[0m \u001b[1;32mlambda\u001b[0m \u001b[1;33m*\u001b[0m\u001b[0margs\u001b[0m\u001b[1;33m,\u001b[0m \u001b[1;33m**\u001b[0m\u001b[0mkwargs\u001b[0m\u001b[1;33m:\u001b[0m \u001b[0mself\u001b[0m\u001b[1;33m.\u001b[0m\u001b[0mfn\u001b[0m\u001b[1;33m(\u001b[0m\u001b[0mobj\u001b[0m\u001b[1;33m,\u001b[0m \u001b[1;33m*\u001b[0m\u001b[0margs\u001b[0m\u001b[1;33m,\u001b[0m \u001b[1;33m**\u001b[0m\u001b[0mkwargs\u001b[0m\u001b[1;33m)\u001b[0m\u001b[1;33m\u001b[0m\u001b[1;33m\u001b[0m\u001b[0m\n\u001b[0m\u001b[0;32m    117\u001b[0m         \u001b[1;31m# update the docstring of the returned function\u001b[0m\u001b[1;33m\u001b[0m\u001b[1;33m\u001b[0m\u001b[1;33m\u001b[0m\u001b[0m\n\u001b[0;32m    118\u001b[0m         \u001b[0mupdate_wrapper\u001b[0m\u001b[1;33m(\u001b[0m\u001b[0mout\u001b[0m\u001b[1;33m,\u001b[0m \u001b[0mself\u001b[0m\u001b[1;33m.\u001b[0m\u001b[0mfn\u001b[0m\u001b[1;33m)\u001b[0m\u001b[1;33m\u001b[0m\u001b[1;33m\u001b[0m\u001b[0m\n",
      "\u001b[1;32mc:\\users\\rared\\appdata\\local\\programs\\python\\python37\\lib\\site-packages\\sklearn\\pipeline.py\u001b[0m in \u001b[0;36mscore\u001b[1;34m(self, X, y, sample_weight)\u001b[0m\n\u001b[0;32m    613\u001b[0m         \u001b[0mXt\u001b[0m \u001b[1;33m=\u001b[0m \u001b[0mX\u001b[0m\u001b[1;33m\u001b[0m\u001b[1;33m\u001b[0m\u001b[0m\n\u001b[0;32m    614\u001b[0m         \u001b[1;32mfor\u001b[0m \u001b[0m_\u001b[0m\u001b[1;33m,\u001b[0m \u001b[0mname\u001b[0m\u001b[1;33m,\u001b[0m \u001b[0mtransform\u001b[0m \u001b[1;32min\u001b[0m \u001b[0mself\u001b[0m\u001b[1;33m.\u001b[0m\u001b[0m_iter\u001b[0m\u001b[1;33m(\u001b[0m\u001b[0mwith_final\u001b[0m\u001b[1;33m=\u001b[0m\u001b[1;32mFalse\u001b[0m\u001b[1;33m)\u001b[0m\u001b[1;33m:\u001b[0m\u001b[1;33m\u001b[0m\u001b[1;33m\u001b[0m\u001b[0m\n\u001b[1;32m--> 615\u001b[1;33m             \u001b[0mXt\u001b[0m \u001b[1;33m=\u001b[0m \u001b[0mtransform\u001b[0m\u001b[1;33m.\u001b[0m\u001b[0mtransform\u001b[0m\u001b[1;33m(\u001b[0m\u001b[0mXt\u001b[0m\u001b[1;33m)\u001b[0m\u001b[1;33m\u001b[0m\u001b[1;33m\u001b[0m\u001b[0m\n\u001b[0m\u001b[0;32m    616\u001b[0m         \u001b[0mscore_params\u001b[0m \u001b[1;33m=\u001b[0m \u001b[1;33m{\u001b[0m\u001b[1;33m}\u001b[0m\u001b[1;33m\u001b[0m\u001b[1;33m\u001b[0m\u001b[0m\n\u001b[0;32m    617\u001b[0m         \u001b[1;32mif\u001b[0m \u001b[0msample_weight\u001b[0m \u001b[1;32mis\u001b[0m \u001b[1;32mnot\u001b[0m \u001b[1;32mNone\u001b[0m\u001b[1;33m:\u001b[0m\u001b[1;33m\u001b[0m\u001b[1;33m\u001b[0m\u001b[0m\n",
      "\u001b[1;32mc:\\users\\rared\\appdata\\local\\programs\\python\\python37\\lib\\site-packages\\sklearn\\preprocessing\\_data.py\u001b[0m in \u001b[0;36mtransform\u001b[1;34m(self, X)\u001b[0m\n\u001b[0;32m   2520\u001b[0m         \"\"\"\n\u001b[0;32m   2521\u001b[0m         \u001b[0mX\u001b[0m \u001b[1;33m=\u001b[0m \u001b[0mself\u001b[0m\u001b[1;33m.\u001b[0m\u001b[0m_check_inputs\u001b[0m\u001b[1;33m(\u001b[0m\u001b[0mX\u001b[0m\u001b[1;33m,\u001b[0m \u001b[0mcopy\u001b[0m\u001b[1;33m=\u001b[0m\u001b[0mself\u001b[0m\u001b[1;33m.\u001b[0m\u001b[0mcopy\u001b[0m\u001b[1;33m)\u001b[0m\u001b[1;33m\u001b[0m\u001b[1;33m\u001b[0m\u001b[0m\n\u001b[1;32m-> 2522\u001b[1;33m         \u001b[0mself\u001b[0m\u001b[1;33m.\u001b[0m\u001b[0m_check_is_fitted\u001b[0m\u001b[1;33m(\u001b[0m\u001b[0mX\u001b[0m\u001b[1;33m)\u001b[0m\u001b[1;33m\u001b[0m\u001b[1;33m\u001b[0m\u001b[0m\n\u001b[0m\u001b[0;32m   2523\u001b[0m \u001b[1;33m\u001b[0m\u001b[0m\n\u001b[0;32m   2524\u001b[0m         \u001b[1;32mreturn\u001b[0m \u001b[0mself\u001b[0m\u001b[1;33m.\u001b[0m\u001b[0m_transform\u001b[0m\u001b[1;33m(\u001b[0m\u001b[0mX\u001b[0m\u001b[1;33m,\u001b[0m \u001b[0minverse\u001b[0m\u001b[1;33m=\u001b[0m\u001b[1;32mFalse\u001b[0m\u001b[1;33m)\u001b[0m\u001b[1;33m\u001b[0m\u001b[1;33m\u001b[0m\u001b[0m\n",
      "\u001b[1;32mc:\\users\\rared\\appdata\\local\\programs\\python\\python37\\lib\\site-packages\\sklearn\\preprocessing\\_data.py\u001b[0m in \u001b[0;36m_check_is_fitted\u001b[1;34m(self, X)\u001b[0m\n\u001b[0;32m   2468\u001b[0m                              \u001b[1;34m' the previously fitted data. Got {} instead of'\u001b[0m\u001b[1;33m\u001b[0m\u001b[1;33m\u001b[0m\u001b[0m\n\u001b[0;32m   2469\u001b[0m                              ' {}.'.format(X.shape[1],\n\u001b[1;32m-> 2470\u001b[1;33m                                            self.quantiles_.shape[1]))\n\u001b[0m\u001b[0;32m   2471\u001b[0m \u001b[1;33m\u001b[0m\u001b[0m\n\u001b[0;32m   2472\u001b[0m     \u001b[1;32mdef\u001b[0m \u001b[0m_transform\u001b[0m\u001b[1;33m(\u001b[0m\u001b[0mself\u001b[0m\u001b[1;33m,\u001b[0m \u001b[0mX\u001b[0m\u001b[1;33m,\u001b[0m \u001b[0minverse\u001b[0m\u001b[1;33m=\u001b[0m\u001b[1;32mFalse\u001b[0m\u001b[1;33m)\u001b[0m\u001b[1;33m:\u001b[0m\u001b[1;33m\u001b[0m\u001b[1;33m\u001b[0m\u001b[0m\n",
      "\u001b[1;31mValueError\u001b[0m: X does not have the same number of features as the previously fitted data. Got 45 instead of 22."
     ]
    }
   ],
   "source": [
    "clf = joblib.load(\"../models/alternative/logistic/alternative_logistic_btcusd_with_volume_future_return_sign_120min.pkl\")\n",
    "# train\n",
    "# accuracy scores\n",
    "\n",
    "x_train = filtered_1min_df[ filtered_1min_df[\"time\"] < \"2019-11-01\" ][feature_selections[\"with_volume\"]]\n",
    "y_train = filtered_1min_df[ filtered_1min_df[\"time\"] < \"2019-11-01\" ][\"future_return_sign_120min\"]                        \n",
    "# test\n",
    "x_test = filtered_1min_df[ (filtered_1min_df[\"time\"] >= \"2019-11-01\") ][feature_selections[\"with_volume\"]]\n",
    "y_test = filtered_1min_df[ (filtered_1min_df[\"time\"] >= \"2019-11-01\") ][\"future_return_sign_120min\"] \n",
    "\n",
    "accuracy_train = clf.score( x_train, y_train)\n",
    "accuracy_test = clf.score( x_test, y_test)\n",
    "accuracy_scores.append({\n",
    "\"model\": model_name,\n",
    "\"feature_selection\": features_spec,\n",
    "\"target\": target,\n",
    "\"accuracy_train\": accuracy_train,\n",
    "\"accuracy_test\": accuracy_test,                \n",
    "})"
   ]
  },
  {
   "cell_type": "code",
   "execution_count": 24,
   "metadata": {
    "ExecuteTime": {
     "end_time": "2020-08-13T09:53:11.640475Z",
     "start_time": "2020-08-13T09:37:00.434516Z"
    }
   },
   "outputs": [
    {
     "name": "stdout",
     "output_type": "stream",
     "text": [
      "../models/alternative/forest/alternative_forest_btcusd_no_volume_future_return_sign_120min.pkl\n",
      "../models/alternative/logistic/alternative_logistic_btcusd_no_volume_future_return_sign_120min.pkl\n",
      "../models/alternative/adaboost/alternative_adaboost_btcusd_no_volume_future_return_sign_120min.pkl\n",
      "../models/alternative/ann/alternative_ann_btcusd_no_volume_future_return_sign_120min.pkl\n",
      "../models/alternative/forest/alternative_forest_btcusd_with_volume_future_return_sign_120min.pkl\n",
      "EXCEPTION\n",
      "../models/alternative/logistic/alternative_logistic_btcusd_with_volume_future_return_sign_120min.pkl\n",
      "EXCEPTION\n",
      "../models/alternative/adaboost/alternative_adaboost_btcusd_with_volume_future_return_sign_120min.pkl\n",
      "EXCEPTION\n",
      "../models/alternative/ann/alternative_ann_btcusd_with_volume_future_return_sign_120min.pkl\n",
      "EXCEPTION\n",
      "../models/alternative/forest/alternative_forest_btcusd_no_volume_future_return_sign_240min.pkl\n",
      "../models/alternative/logistic/alternative_logistic_btcusd_no_volume_future_return_sign_240min.pkl\n",
      "../models/alternative/adaboost/alternative_adaboost_btcusd_no_volume_future_return_sign_240min.pkl\n",
      "../models/alternative/ann/alternative_ann_btcusd_no_volume_future_return_sign_240min.pkl\n",
      "../models/alternative/forest/alternative_forest_btcusd_with_volume_future_return_sign_240min.pkl\n",
      "EXCEPTION\n",
      "../models/alternative/logistic/alternative_logistic_btcusd_with_volume_future_return_sign_240min.pkl\n",
      "EXCEPTION\n",
      "../models/alternative/adaboost/alternative_adaboost_btcusd_with_volume_future_return_sign_240min.pkl\n",
      "EXCEPTION\n",
      "../models/alternative/ann/alternative_ann_btcusd_with_volume_future_return_sign_240min.pkl\n",
      "EXCEPTION\n"
     ]
    },
    {
     "data": {
      "text/plain": [
       "[{'model': 'forest',\n",
       "  'feature_selection': 'no_volume',\n",
       "  'target': 'future_return_sign_120min',\n",
       "  'accuracy_train': 0.5487062768630995,\n",
       "  'accuracy_test': 0.5358592796092796},\n",
       " {'model': 'logistic',\n",
       "  'feature_selection': 'no_volume',\n",
       "  'target': 'future_return_sign_120min',\n",
       "  'accuracy_train': 0.5491174153170546,\n",
       "  'accuracy_test': 0.5370777370777371},\n",
       " {'model': 'adaboost',\n",
       "  'feature_selection': 'no_volume',\n",
       "  'target': 'future_return_sign_120min',\n",
       "  'accuracy_train': 0.5417072141542161,\n",
       "  'accuracy_test': 0.5297746235246236},\n",
       " {'model': 'ann',\n",
       "  'feature_selection': 'no_volume',\n",
       "  'target': 'future_return_sign_120min',\n",
       "  'accuracy_train': 0.5597129125854672,\n",
       "  'accuracy_test': 0.536513024013024},\n",
       " {'model': 'forest',\n",
       "  'feature_selection': 'no_volume',\n",
       "  'target': 'future_return_sign_240min',\n",
       "  'accuracy_train': 0.5588364893779897,\n",
       "  'accuracy_test': 0.5226139601139601},\n",
       " {'model': 'logistic',\n",
       "  'feature_selection': 'no_volume',\n",
       "  'target': 'future_return_sign_240min',\n",
       "  'accuracy_train': 0.5527205714861853,\n",
       "  'accuracy_test': 0.529985754985755},\n",
       " {'model': 'adaboost',\n",
       "  'feature_selection': 'no_volume',\n",
       "  'target': 'future_return_sign_240min',\n",
       "  'accuracy_train': 0.5543311438312428,\n",
       "  'accuracy_test': 0.5273606023606023},\n",
       " {'model': 'ann',\n",
       "  'feature_selection': 'no_volume',\n",
       "  'target': 'future_return_sign_240min',\n",
       "  'accuracy_train': 0.5608936753387878,\n",
       "  'accuracy_test': 0.5320690883190883}]"
      ]
     },
     "execution_count": 24,
     "metadata": {},
     "output_type": "execute_result"
    }
   ],
   "source": [
    "accuracy_scores = list()\n",
    "\n",
    "for target in ALT_TARGETS:\n",
    "    for features_spec, x_columns in feature_selections.items():  \n",
    "        # train\n",
    "        x_train = filtered_1min_df[ filtered_1min_df[\"time\"] < \"2019-11-01\" ][x_columns]\n",
    "        y_train = filtered_1min_df[ filtered_1min_df[\"time\"] < \"2019-11-01\" ][target]                        \n",
    "        # test\n",
    "        x_test = filtered_1min_df[ (filtered_1min_df[\"time\"] >= \"2019-11-01\") ][x_columns]\n",
    "        y_test = filtered_1min_df[ (filtered_1min_df[\"time\"] >= \"2019-11-01\") ][target]            \n",
    "#         for model_name, model_fullname in {\"ann\": \"Deep Neural Network\"}.items():\n",
    "        for model_name, model_fullname in MODEL_NAMES.items():\n",
    "            file_name = f\"alternative_{model_name}_btcusd_{features_spec}_{target}.pkl\"\n",
    "            file_path = f\"../models/alternative/{model_name}/{file_name}\"\n",
    "            \n",
    "            print(file_path)\n",
    "            try:\n",
    "                clf = joblib.load(file_path)\n",
    "                # train\n",
    "                # accuracy scores\n",
    "                accuracy_train = clf.score( x_train, y_train)\n",
    "                accuracy_test = clf.score( x_test, y_test)\n",
    "                accuracy_scores.append({\n",
    "                    \"model\": model_name,\n",
    "                    \"feature_selection\": features_spec,\n",
    "                    \"target\": target,\n",
    "                    \"accuracy_train\": accuracy_train,\n",
    "                    \"accuracy_test\": accuracy_test,                \n",
    "                })\n",
    "            except:\n",
    "                print(\"EXCEPTION\")\n",
    "                \n",
    "accuracy_scores"
   ]
  },
  {
   "cell_type": "code",
   "execution_count": null,
   "metadata": {},
   "outputs": [],
   "source": []
  },
  {
   "cell_type": "code",
   "execution_count": null,
   "metadata": {},
   "outputs": [],
   "source": []
  }
 ],
 "metadata": {
  "kernelspec": {
   "display_name": "Python 3",
   "language": "python",
   "name": "python3"
  },
  "language_info": {
   "codemirror_mode": {
    "name": "ipython",
    "version": 3
   },
   "file_extension": ".py",
   "mimetype": "text/x-python",
   "name": "python",
   "nbconvert_exporter": "python",
   "pygments_lexer": "ipython3",
   "version": "3.7.4"
  },
  "toc": {
   "base_numbering": 1,
   "nav_menu": {},
   "number_sections": true,
   "sideBar": true,
   "skip_h1_title": false,
   "title_cell": "Table of Contents",
   "title_sidebar": "Contents",
   "toc_cell": false,
   "toc_position": {
    "height": "calc(100% - 180px)",
    "left": "10px",
    "top": "150px",
    "width": "426.641px"
   },
   "toc_section_display": true,
   "toc_window_display": true
  },
  "varInspector": {
   "cols": {
    "lenName": 16,
    "lenType": 16,
    "lenVar": 40
   },
   "kernels_config": {
    "python": {
     "delete_cmd_postfix": "",
     "delete_cmd_prefix": "del ",
     "library": "var_list.py",
     "varRefreshCmd": "print(var_dic_list())"
    },
    "r": {
     "delete_cmd_postfix": ") ",
     "delete_cmd_prefix": "rm(",
     "library": "var_list.r",
     "varRefreshCmd": "cat(var_dic_list()) "
    }
   },
   "types_to_exclude": [
    "module",
    "function",
    "builtin_function_or_method",
    "instance",
    "_Feature"
   ],
   "window_display": false
  }
 },
 "nbformat": 4,
 "nbformat_minor": 2
}
