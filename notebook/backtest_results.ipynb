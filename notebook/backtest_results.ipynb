{
 "cells": [
  {
   "cell_type": "code",
   "execution_count": 1,
   "metadata": {
    "ExecuteTime": {
     "end_time": "2020-06-13T13:19:01.849145Z",
     "start_time": "2020-06-13T13:19:00.995421Z"
    }
   },
   "outputs": [],
   "source": [
    "import pandas as pd\n",
    "import numpy as np\n",
    "import os\n",
    "from datetime import datetime\n",
    "import matplotlib.pyplot as plt\n",
    "from jupyterthemes import jtplot\n",
    "import plotly.express as px\n",
    "import plotly.io as pio\n",
    "\n",
    "jtplot.style(theme=\"monokai\", context=\"notebook\", ticks=True,  figsize=(40, 10))"
   ]
  },
  {
   "cell_type": "code",
   "execution_count": 2,
   "metadata": {
    "ExecuteTime": {
     "end_time": "2020-06-13T13:19:01.865068Z",
     "start_time": "2020-06-13T13:19:01.860081Z"
    }
   },
   "outputs": [],
   "source": [
    "jtplot.style(theme=\"monokai\", context=\"notebook\", ticks=True,  figsize=(40, 10))"
   ]
  },
  {
   "cell_type": "code",
   "execution_count": 3,
   "metadata": {
    "ExecuteTime": {
     "end_time": "2020-06-13T13:19:03.024000Z",
     "start_time": "2020-06-13T13:19:03.019980Z"
    }
   },
   "outputs": [],
   "source": [
    "TOP_10_CAPITALIZATION = ['btcusd', 'ethusd', 'eosusd', 'ltcusd', 'xrpusd', 'babusd', 'xmrusd', 'neousd', 'iotusd', \"dshusd\"]\n",
    "timestamp2datetime = lambda x: datetime.fromtimestamp(int(x) / 1000.0)"
   ]
  },
  {
   "cell_type": "code",
   "execution_count": 7,
   "metadata": {
    "ExecuteTime": {
     "end_time": "2020-06-13T13:20:44.761966Z",
     "start_time": "2020-06-13T13:20:44.715094Z"
    }
   },
   "outputs": [
    {
     "name": "stdout",
     "output_type": "stream",
     "text": [
      "(13770, 12)\n"
     ]
    },
    {
     "data": {
      "text/html": [
       "<div>\n",
       "<style scoped>\n",
       "    .dataframe tbody tr th:only-of-type {\n",
       "        vertical-align: middle;\n",
       "    }\n",
       "\n",
       "    .dataframe tbody tr th {\n",
       "        vertical-align: top;\n",
       "    }\n",
       "\n",
       "    .dataframe thead th {\n",
       "        text-align: right;\n",
       "    }\n",
       "</style>\n",
       "<table border=\"1\" class=\"dataframe\">\n",
       "  <thead>\n",
       "    <tr style=\"text-align: right;\">\n",
       "      <th></th>\n",
       "      <th>position_num</th>\n",
       "      <th>type</th>\n",
       "      <th>pair</th>\n",
       "      <th>open_row_num</th>\n",
       "      <th>open_time</th>\n",
       "      <th>open_price</th>\n",
       "      <th>duration</th>\n",
       "      <th>close_row_num</th>\n",
       "      <th>close_time</th>\n",
       "      <th>close_price</th>\n",
       "      <th>close_return</th>\n",
       "      <th>transaction_cost</th>\n",
       "    </tr>\n",
       "  </thead>\n",
       "  <tbody>\n",
       "    <tr>\n",
       "      <th>0</th>\n",
       "      <td>1</td>\n",
       "      <td>long</td>\n",
       "      <td>btcusd</td>\n",
       "      <td>3</td>\n",
       "      <td>2019-11-01 00:03:00</td>\n",
       "      <td>9149.2000</td>\n",
       "      <td>120</td>\n",
       "      <td>123</td>\n",
       "      <td>2019-11-01 02:03:00</td>\n",
       "      <td>9163.7000</td>\n",
       "      <td>0.001585</td>\n",
       "      <td>0</td>\n",
       "    </tr>\n",
       "    <tr>\n",
       "      <th>1</th>\n",
       "      <td>1</td>\n",
       "      <td>long</td>\n",
       "      <td>babusd</td>\n",
       "      <td>921</td>\n",
       "      <td>2019-11-01 15:21:00</td>\n",
       "      <td>273.4800</td>\n",
       "      <td>120</td>\n",
       "      <td>1041</td>\n",
       "      <td>2019-11-01 17:21:00</td>\n",
       "      <td>275.7850</td>\n",
       "      <td>0.008428</td>\n",
       "      <td>0</td>\n",
       "    </tr>\n",
       "    <tr>\n",
       "      <th>2</th>\n",
       "      <td>1</td>\n",
       "      <td>long</td>\n",
       "      <td>babusd</td>\n",
       "      <td>3572</td>\n",
       "      <td>2019-11-03 11:32:00</td>\n",
       "      <td>287.0700</td>\n",
       "      <td>122</td>\n",
       "      <td>3694</td>\n",
       "      <td>2019-11-03 13:34:00</td>\n",
       "      <td>288.7000</td>\n",
       "      <td>0.005678</td>\n",
       "      <td>0</td>\n",
       "    </tr>\n",
       "    <tr>\n",
       "      <th>3</th>\n",
       "      <td>1</td>\n",
       "      <td>long</td>\n",
       "      <td>neousd</td>\n",
       "      <td>5873</td>\n",
       "      <td>2019-11-05 01:53:00</td>\n",
       "      <td>11.1485</td>\n",
       "      <td>123</td>\n",
       "      <td>5996</td>\n",
       "      <td>2019-11-05 03:56:00</td>\n",
       "      <td>11.2565</td>\n",
       "      <td>0.009687</td>\n",
       "      <td>0</td>\n",
       "    </tr>\n",
       "    <tr>\n",
       "      <th>4</th>\n",
       "      <td>1</td>\n",
       "      <td>long</td>\n",
       "      <td>babusd</td>\n",
       "      <td>9279</td>\n",
       "      <td>2019-11-07 10:39:00</td>\n",
       "      <td>292.0000</td>\n",
       "      <td>126</td>\n",
       "      <td>9405</td>\n",
       "      <td>2019-11-07 12:45:00</td>\n",
       "      <td>291.7000</td>\n",
       "      <td>-0.001027</td>\n",
       "      <td>0</td>\n",
       "    </tr>\n",
       "  </tbody>\n",
       "</table>\n",
       "</div>"
      ],
      "text/plain": [
       "   position_num  type    pair  open_row_num           open_time  open_price  \\\n",
       "0             1  long  btcusd             3 2019-11-01 00:03:00   9149.2000   \n",
       "1             1  long  babusd           921 2019-11-01 15:21:00    273.4800   \n",
       "2             1  long  babusd          3572 2019-11-03 11:32:00    287.0700   \n",
       "3             1  long  neousd          5873 2019-11-05 01:53:00     11.1485   \n",
       "4             1  long  babusd          9279 2019-11-07 10:39:00    292.0000   \n",
       "\n",
       "   duration  close_row_num          close_time  close_price  close_return  \\\n",
       "0       120            123 2019-11-01 02:03:00    9163.7000      0.001585   \n",
       "1       120           1041 2019-11-01 17:21:00     275.7850      0.008428   \n",
       "2       122           3694 2019-11-03 13:34:00     288.7000      0.005678   \n",
       "3       123           5996 2019-11-05 03:56:00      11.2565      0.009687   \n",
       "4       126           9405 2019-11-07 12:45:00     291.7000     -0.001027   \n",
       "\n",
       "   transaction_cost  \n",
       "0                 0  \n",
       "1                 0  \n",
       "2                 0  \n",
       "3                 0  \n",
       "4                 0  "
      ]
     },
     "execution_count": 7,
     "metadata": {},
     "output_type": "execute_result"
    }
   ],
   "source": [
    "trading_logistic_df = pd.read_csv(\n",
    "    f\"../results/forest/returns/trading_returns_no_volume_future_2state_movement_120min_57.5_threshold.csv\",\n",
    "    sep=',',\n",
    "    parse_dates=[\"open_time\", \"close_time\"],\n",
    "#     index_col=['time', 'pair'],\n",
    "    infer_datetime_format=True,\n",
    "#     compression='gzip',\n",
    ")\n",
    "print(trading_logistic_df.shape)\n",
    "trading_logistic_df.head()"
   ]
  },
  {
   "cell_type": "code",
   "execution_count": null,
   "metadata": {
    "ExecuteTime": {
     "end_time": "2020-06-01T08:40:49.642035Z",
     "start_time": "2020-06-01T08:40:49.037663Z"
    }
   },
   "outputs": [],
   "source": [
    "fig = px.histogram(trading_logistic_df[ trading_logistic_df[\"close_return\"] > - 0.06 ], x=\"close_return\")\n",
    "\n",
    "fig.update_layout(shapes=[\n",
    "    dict(\n",
    "      type= 'line',\n",
    "      yref= 'paper', y0= 0, y1= 1,\n",
    "      xref= 'x', x0= -0.003, x1= -0.003,\n",
    "    ),\n",
    "    dict(\n",
    "      type= 'line',\n",
    "      yref= 'paper', y0= 0, y1= 1,\n",
    "      xref= 'x', x0= 0.003, x1= 0.003,\n",
    "    )    \n",
    "])"
   ]
  },
  {
   "cell_type": "code",
   "execution_count": 8,
   "metadata": {
    "ExecuteTime": {
     "end_time": "2020-06-13T13:21:06.919692Z",
     "start_time": "2020-06-13T13:21:06.914721Z"
    }
   },
   "outputs": [],
   "source": [
    "def get_total_return(returns_df, costs_bps=[]):\n",
    "    costs_bps = [ x*0.0005 for x in range(0, 9) ] if not costs_bps else costs_bps\n",
    "    # get growth rate for all bps\n",
    "    for cost in costs_bps:\n",
    "        returns_df[f\"return_growth_rate_{ int( cost * 10**4 ) }bps\"] = 1 + returns_df[\"close_return\"] -  cost    \n",
    "    # aggregate over each position and its short/long-positions\n",
    "    position_returns_df = (\n",
    "        returns_df\n",
    "        .groupby( [\"position_num\", \"type\"] )\n",
    "        # multiply each \n",
    "        .agg(\n",
    "            **{ f\"total_return_{ int( cost * 10**4 ) }bps\": (f\"return_growth_rate_{ int( cost * 10**4 ) }bps\", \"prod\") for cost in costs_bps }\n",
    "        ) \n",
    "        - 1\n",
    "    )\n",
    "    # aggregate overeach position's total return\n",
    "    return position_returns_df.groupby(level=\"type\").agg(\"mean\")"
   ]
  },
  {
   "cell_type": "code",
   "execution_count": 9,
   "metadata": {
    "ExecuteTime": {
     "end_time": "2020-06-13T13:21:07.592919Z",
     "start_time": "2020-06-13T13:21:07.553996Z"
    }
   },
   "outputs": [
    {
     "data": {
      "text/html": [
       "<div>\n",
       "<style scoped>\n",
       "    .dataframe tbody tr th:only-of-type {\n",
       "        vertical-align: middle;\n",
       "    }\n",
       "\n",
       "    .dataframe tbody tr th {\n",
       "        vertical-align: top;\n",
       "    }\n",
       "\n",
       "    .dataframe thead th {\n",
       "        text-align: right;\n",
       "    }\n",
       "</style>\n",
       "<table border=\"1\" class=\"dataframe\">\n",
       "  <thead>\n",
       "    <tr style=\"text-align: right;\">\n",
       "      <th></th>\n",
       "      <th>total_return_0bps</th>\n",
       "      <th>total_return_5bps</th>\n",
       "      <th>total_return_10bps</th>\n",
       "      <th>total_return_15bps</th>\n",
       "      <th>total_return_20bps</th>\n",
       "      <th>total_return_25bps</th>\n",
       "      <th>total_return_30bps</th>\n",
       "      <th>total_return_35bps</th>\n",
       "      <th>total_return_40bps</th>\n",
       "    </tr>\n",
       "    <tr>\n",
       "      <th>type</th>\n",
       "      <th></th>\n",
       "      <th></th>\n",
       "      <th></th>\n",
       "      <th></th>\n",
       "      <th></th>\n",
       "      <th></th>\n",
       "      <th></th>\n",
       "      <th></th>\n",
       "      <th></th>\n",
       "    </tr>\n",
       "  </thead>\n",
       "  <tbody>\n",
       "    <tr>\n",
       "      <th>long</th>\n",
       "      <td>0.175837</td>\n",
       "      <td>0.133204</td>\n",
       "      <td>0.092096</td>\n",
       "      <td>0.052460</td>\n",
       "      <td>0.014243</td>\n",
       "      <td>-0.022603</td>\n",
       "      <td>-0.058129</td>\n",
       "      <td>-0.092380</td>\n",
       "      <td>-0.125402</td>\n",
       "    </tr>\n",
       "    <tr>\n",
       "      <th>short</th>\n",
       "      <td>0.417635</td>\n",
       "      <td>0.311775</td>\n",
       "      <td>0.213773</td>\n",
       "      <td>0.123049</td>\n",
       "      <td>0.039067</td>\n",
       "      <td>-0.038673</td>\n",
       "      <td>-0.110632</td>\n",
       "      <td>-0.177235</td>\n",
       "      <td>-0.238881</td>\n",
       "    </tr>\n",
       "  </tbody>\n",
       "</table>\n",
       "</div>"
      ],
      "text/plain": [
       "       total_return_0bps  total_return_5bps  total_return_10bps  \\\n",
       "type                                                              \n",
       "long            0.175837           0.133204            0.092096   \n",
       "short           0.417635           0.311775            0.213773   \n",
       "\n",
       "       total_return_15bps  total_return_20bps  total_return_25bps  \\\n",
       "type                                                                \n",
       "long             0.052460            0.014243           -0.022603   \n",
       "short            0.123049            0.039067           -0.038673   \n",
       "\n",
       "       total_return_30bps  total_return_35bps  total_return_40bps  \n",
       "type                                                               \n",
       "long            -0.058129           -0.092380           -0.125402  \n",
       "short           -0.110632           -0.177235           -0.238881  "
      ]
     },
     "execution_count": 9,
     "metadata": {},
     "output_type": "execute_result"
    }
   ],
   "source": [
    "get_total_return(trading_logistic_df)"
   ]
  },
  {
   "cell_type": "code",
   "execution_count": null,
   "metadata": {
    "ExecuteTime": {
     "end_time": "2020-06-01T08:26:50.539735Z",
     "start_time": "2020-06-01T08:26:50.515784Z"
    }
   },
   "outputs": [],
   "source": [
    "# costs_bps = [ 0, 0.001, 0.0015, 0.002, 0.003, 0.0035, 0.004 ]\n",
    "costs_bps = [ x*0.0005 for x in range(0, 9) ]\n",
    "for cost in costs_bps:\n",
    "    trading_logistic_df[f\"return_growth_rate_{ int( cost * 10**4 ) }bps\"] = 1 + trading_logistic_df[\"close_return\"] -  cost\n",
    "    \n",
    "trading_logistic_df.head()"
   ]
  },
  {
   "cell_type": "code",
   "execution_count": null,
   "metadata": {
    "ExecuteTime": {
     "end_time": "2020-06-01T08:27:00.132998Z",
     "start_time": "2020-06-01T08:27:00.091078Z"
    }
   },
   "outputs": [],
   "source": [
    "position_returns_df = trading_logistic_df.groupby( [\"position_num\", \"type\"] ).agg(\n",
    "    **{ f\"total_return_{ int( cost * 10**4 ) }bps\": (f\"return_growth_rate_{ int( cost * 10**4 ) }bps\", \"prod\") for cost in costs_bps }\n",
    ") - 1\n",
    "position_returns_df.head()"
   ]
  },
  {
   "cell_type": "code",
   "execution_count": null,
   "metadata": {
    "ExecuteTime": {
     "end_time": "2020-06-01T09:59:57.412408Z",
     "start_time": "2020-06-01T09:59:57.400427Z"
    }
   },
   "outputs": [],
   "source": [
    "position_returns_df.groupby(level=\"type\").agg(\"mean\")"
   ]
  },
  {
   "cell_type": "code",
   "execution_count": null,
   "metadata": {},
   "outputs": [],
   "source": []
  }
 ],
 "metadata": {
  "kernelspec": {
   "display_name": "Python 3",
   "language": "python",
   "name": "python3"
  },
  "language_info": {
   "codemirror_mode": {
    "name": "ipython",
    "version": 3
   },
   "file_extension": ".py",
   "mimetype": "text/x-python",
   "name": "python",
   "nbconvert_exporter": "python",
   "pygments_lexer": "ipython3",
   "version": "3.7.4"
  },
  "toc": {
   "base_numbering": 1,
   "nav_menu": {},
   "number_sections": true,
   "sideBar": true,
   "skip_h1_title": false,
   "title_cell": "Table of Contents",
   "title_sidebar": "Contents",
   "toc_cell": false,
   "toc_position": {},
   "toc_section_display": true,
   "toc_window_display": false
  },
  "varInspector": {
   "cols": {
    "lenName": 16,
    "lenType": 16,
    "lenVar": 40
   },
   "kernels_config": {
    "python": {
     "delete_cmd_postfix": "",
     "delete_cmd_prefix": "del ",
     "library": "var_list.py",
     "varRefreshCmd": "print(var_dic_list())"
    },
    "r": {
     "delete_cmd_postfix": ") ",
     "delete_cmd_prefix": "rm(",
     "library": "var_list.r",
     "varRefreshCmd": "cat(var_dic_list()) "
    }
   },
   "types_to_exclude": [
    "module",
    "function",
    "builtin_function_or_method",
    "instance",
    "_Feature"
   ],
   "window_display": false
  }
 },
 "nbformat": 4,
 "nbformat_minor": 2
}
